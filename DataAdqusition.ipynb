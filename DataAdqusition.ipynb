{
 "cells": [
  {
   "cell_type": "markdown",
   "metadata": {},
   "source": [
    "### OBTENCION DE DATOS API MERCADOLIBRE"
   ]
  },
  {
   "cell_type": "markdown",
   "metadata": {},
   "source": [
    "#### Importacion de librerias necesarias"
   ]
  },
  {
   "cell_type": "code",
   "execution_count": 1,
   "metadata": {},
   "outputs": [],
   "source": [
    "import json\n",
    "import requests\n",
    "from urllib.parse import quote\n",
    "import pandas as pd\n",
    "from scripts.Publication import CarPublicationBuilder"
   ]
  },
  {
   "cell_type": "markdown",
   "metadata": {},
   "source": [
    "#### Obtencion de publicaciones"
   ]
  },
  {
   "cell_type": "markdown",
   "metadata": {},
   "source": [
    "El objetivo de esta seccion es obtener un listado de publicaciones de \"vehiculos\" desde la API de **MercadoLibre (https://developers.mercadolibre.com.ar/)** utilizando la libreria **requests** de python.<br>En primer lugar se crea una lista(**cars**) que aloja diferentes modelos de vehiculos disponibles en el mercado automotriz, posteriormente mediante el uso de la libreria **urllib** y su metodo **quote** se codifica la lista **cars** a fin de transformar ciertos caracteres para mantener la integridad de la URL al momento de realizar la request."
   ]
  },
  {
   "cell_type": "code",
   "execution_count": 2,
   "metadata": {},
   "outputs": [],
   "source": [
    "#LISTA DE VEHICULOS\n",
    "cars = [    'Volkswagen gol','Volkswagen gol trend', 'Volkswagen up', 'Volkswagen bora', 'Volkswagen vento', 'Volkswagen polo', 'Volkswagen amarok', 'Volkswagen golf',\n",
    "            'Chevrolet corsa', 'Chevrolet onix', 'Chevrolet agile', 'Chevrolet prisma', 'Chevrolet cruze', 'Chevrolet aveo', 'Chevrolet tracker',\n",
    "            'Renault clio', 'Renault sandero', 'Renault fluence', 'Renault logan', 'Reanault partner', 'Renault capture',\n",
    "            'Peugeot 206', 'Peugeot 207', 'Peugeot 208', 'Peugeot 307','Peugeot 308', 'Peugeot 407', 'Peugeot 408',\n",
    "            'Fiat cronos', 'Fiat argos', 'Fiat toro', 'Fiat palio', 'Fiat siena', 'Fiat uno',                   \n",
    "            'Ford fiesta', 'Ford Ecosport', 'Ford ka', 'Ford ranger', 'Ford focus',\n",
    "            'Toyota etios', 'Toyota hilux', 'Toyota corolla', 'Toyota yaris', \n",
    "            'Honda civic', 'Honda city', 'Honda cr-v']\n",
    "\n",
    "#SE CODIFICAN LOS STRINGS DE LA LISTA PARA USARSE EN REQUESTS\n",
    "cars_codif = []\n",
    "for car in cars:\n",
    "    cars_codif.append(quote(car))"
   ]
  },
  {
   "cell_type": "markdown",
   "metadata": {},
   "source": [
    "Con la finalidad de realizar una request por cada modelo de automovil en la lista, se crea la funcion **get_publication()**. Esta funcion  devuelve una lista de diccionarios, cada uno de estos diccionarios representa una publicacion de **MercadoLibre**. Dentro de la logica de la funcion se establece un maximo de 350 publicaciones por vehiculo."
   ]
  },
  {
   "cell_type": "code",
   "execution_count": 3,
   "metadata": {},
   "outputs": [],
   "source": [
    "#FUNCION PARA REALIZAR RESQUESTS Y OBTENER PUBLICACIONES SEGUN EL MODELO DEL VEHICULO\n",
    "def get_publications(car : str) -> list:\n",
    "    publication = []\n",
    "    url = f'https://api.mercadolibre.com/sites/MLA/search?q={car}'\n",
    "    response = requests.get(url)\n",
    "    \n",
    "    if response.status_code == 200:\n",
    "        data = response.json()\n",
    "        results = data.get('paging', dict).get('total', None)  #TOTAL RESULTADOS EXISTENTES\n",
    "        offset = 0 #POSICION DE INICIO PARA LA REQUEST\n",
    "\n",
    "        if 'results' in data:\n",
    "            for item in data['results']:\n",
    "                publication.append(item)\n",
    "\n",
    "            while (results > offset) and (results > 50):\n",
    "                offset +=50 \n",
    "                if offset == 350: break \n",
    "                url = f'https://api.mercadolibre.com/sites/MLA/search?q={car}&offset={offset}'\n",
    "                response = requests.get(url)\n",
    "                data = response.json()\n",
    "                if 'results' in data:\n",
    "                    for item in data['results']:\n",
    "                        publication.append(item)  \n",
    "\n",
    "        return publication                    \n",
    "    else:\n",
    "        return publication"
   ]
  },
  {
   "cell_type": "markdown",
   "metadata": {},
   "source": [
    "Se crea una la lista **publications_list** la cual alojará los diccionarios obtenidos de la funcion **get_publication()**. Acto seguido ejecuta un ciclo for a fines de recorrer la lista **cars_codif**, ejecutar la funcion **get_publication()** por cada uno de los elementos en la lista, luego los resultados obtenidos son alojados en **publications_list**"
   ]
  },
  {
   "cell_type": "code",
   "execution_count": 4,
   "metadata": {},
   "outputs": [
    {
     "name": "stdout",
     "output_type": "stream",
     "text": [
      "La cantidad de publicaciones obtenidas es: 14799\n"
     ]
    }
   ],
   "source": [
    "#LISTA PARA GUARDAR LAS PUBLICACIONES OBTENIDAS EN EL REQUEST\n",
    "publications_list = []\n",
    "\n",
    "#CICLO PARA REALIZAR UN REQUEST POR CADA MODELO DE AUTO EN CARS_CODIF\n",
    "for car in cars_codif:\n",
    "    publications = get_publications(car)\n",
    "    for publication in publications:\n",
    "        publications_list.append(publication)\n",
    "\n",
    "print(f'La cantidad de publicaciones obtenidas es: {len(publications_list)}')"
   ]
  },
  {
   "cell_type": "markdown",
   "metadata": {},
   "source": [
    "#### Extraccion de los datos de interes"
   ]
  },
  {
   "cell_type": "markdown",
   "metadata": {},
   "source": [
    "Con la finalidad de estructurar los datos extraidos de la API anteriormente se crea la clase **CarPublicaction()** la cual aloja en sus atributos los datos de interes de las publicaciones que se obtubieron. Tambien se crea la clase **CarPublicationBuilder()** cuya responsabilidad es extraer de un diccionario(publicacion) los datos de interes y devolver una instancia de la clase **CarPublicaction()** con sus atributos seteados"
   ]
  },
  {
   "cell_type": "markdown",
   "metadata": {},
   "source": [
    "Mediante un ciclo for se recorre **publications_list** con la finalidad de ejecutar una instancia de la clase **CarPublicationBuilder()** y obtener una objeto de tipo **CarPublicaction()** por cada diccionario en **publications_list** "
   ]
  },
  {
   "cell_type": "code",
   "execution_count": 5,
   "metadata": {},
   "outputs": [
    {
     "name": "stdout",
     "output_type": "stream",
     "text": [
      "Cantidad de registros obtenidos: 14799\n"
     ]
    }
   ],
   "source": [
    "#LISTA PARA GUARDAR LOS DATOS CON EL FORMATO DE INTERES \n",
    "car_publications = []\n",
    "\n",
    "#CICLO PARA EXTRAER LOS DATOS DE INTERES DE LAS PUBLICACIONES\n",
    "for item in publications_list:\n",
    "    publication = CarPublicationBuilder(item).build()\n",
    "    car_publications.append(publication)\n",
    "\n",
    "print(f'Cantidad de registros obtenidos: {len(car_publications)}')"
   ]
  },
  {
   "cell_type": "markdown",
   "metadata": {},
   "source": [
    "Se guarda el resultado obtenido en un archivo **JSON** de manera local"
   ]
  },
  {
   "cell_type": "code",
   "execution_count": 6,
   "metadata": {},
   "outputs": [],
   "source": [
    "#SE GUARDAN LOS DATOS DE INTERES EN UN ARCHIVO JSON\n",
    "with open('MeliCarPublicactions.json','w' ) as file:\n",
    "    json.dump(car_publications, file, indent=4, separators=(',',':'))"
   ]
  },
  {
   "cell_type": "markdown",
   "metadata": {},
   "source": [
    "Utilizando **Pandas** se puede leer la lista de diccionarios (**car_publications**) para obtener un **Dataframe** y manipular los datos segun la necesidad."
   ]
  },
  {
   "cell_type": "code",
   "execution_count": 7,
   "metadata": {},
   "outputs": [
    {
     "data": {
      "text/html": [
       "<div>\n",
       "<style scoped>\n",
       "    .dataframe tbody tr th:only-of-type {\n",
       "        vertical-align: middle;\n",
       "    }\n",
       "\n",
       "    .dataframe tbody tr th {\n",
       "        vertical-align: top;\n",
       "    }\n",
       "\n",
       "    .dataframe thead th {\n",
       "        text-align: right;\n",
       "    }\n",
       "</style>\n",
       "<table border=\"1\" class=\"dataframe\">\n",
       "  <thead>\n",
       "    <tr style=\"text-align: right;\">\n",
       "      <th></th>\n",
       "      <th>id</th>\n",
       "      <th>category_id</th>\n",
       "      <th>title</th>\n",
       "      <th>condition</th>\n",
       "      <th>car_year</th>\n",
       "      <th>brand</th>\n",
       "      <th>model</th>\n",
       "      <th>version</th>\n",
       "      <th>engine</th>\n",
       "      <th>engine_power</th>\n",
       "      <th>...</th>\n",
       "      <th>transmission</th>\n",
       "      <th>currency</th>\n",
       "      <th>price</th>\n",
       "      <th>seller_id</th>\n",
       "      <th>seller_nickname</th>\n",
       "      <th>is_car_shop</th>\n",
       "      <th>seller_country</th>\n",
       "      <th>seller_state</th>\n",
       "      <th>seller_city</th>\n",
       "      <th>seller_neighborhood</th>\n",
       "    </tr>\n",
       "  </thead>\n",
       "  <tbody>\n",
       "    <tr>\n",
       "      <th>0</th>\n",
       "      <td>MLA1767503710</td>\n",
       "      <td>MLA1744</td>\n",
       "      <td>Volkswagen Gol Power</td>\n",
       "      <td>Usado</td>\n",
       "      <td>2008</td>\n",
       "      <td>Volkswagen</td>\n",
       "      <td>Gol</td>\n",
       "      <td>1.9 Sd Power 701</td>\n",
       "      <td>1.9</td>\n",
       "      <td>64 hp</td>\n",
       "      <td>...</td>\n",
       "      <td>Manual</td>\n",
       "      <td>USD</td>\n",
       "      <td>5200</td>\n",
       "      <td>1601211580</td>\n",
       "      <td>TIERRADEAUTOS</td>\n",
       "      <td>False</td>\n",
       "      <td>Argentina</td>\n",
       "      <td>Bs.As. G.B.A. Sur</td>\n",
       "      <td>Avellaneda</td>\n",
       "      <td>Villa Domínico</td>\n",
       "    </tr>\n",
       "    <tr>\n",
       "      <th>1</th>\n",
       "      <td>MLA1776550792</td>\n",
       "      <td>MLA1744</td>\n",
       "      <td>Volkswagen Gol 2012 1.4 Power Ps+ac 83cv</td>\n",
       "      <td>Usado</td>\n",
       "      <td>2012</td>\n",
       "      <td>Volkswagen</td>\n",
       "      <td>Gol</td>\n",
       "      <td>1.4 Power Ps+ac 83cv</td>\n",
       "      <td>1.4</td>\n",
       "      <td>83 hp</td>\n",
       "      <td>...</td>\n",
       "      <td>Manual</td>\n",
       "      <td>USD</td>\n",
       "      <td>6250</td>\n",
       "      <td>146472306</td>\n",
       "      <td>ARIEL_RICCI</td>\n",
       "      <td>False</td>\n",
       "      <td>Argentina</td>\n",
       "      <td>Capital Federal</td>\n",
       "      <td>Capital Federal</td>\n",
       "      <td>None</td>\n",
       "    </tr>\n",
       "    <tr>\n",
       "      <th>2</th>\n",
       "      <td>MLA1776084372</td>\n",
       "      <td>MLA1744</td>\n",
       "      <td>Volkswagen Gol 1.6 I Power /// 2010 - 140.000km</td>\n",
       "      <td>Usado</td>\n",
       "      <td>2010</td>\n",
       "      <td>Volkswagen</td>\n",
       "      <td>Gol</td>\n",
       "      <td>1.6 I Power 701</td>\n",
       "      <td>1.6</td>\n",
       "      <td>92 hp</td>\n",
       "      <td>...</td>\n",
       "      <td>Manual</td>\n",
       "      <td>USD</td>\n",
       "      <td>6000</td>\n",
       "      <td>77745224</td>\n",
       "      <td>CAR.ANT</td>\n",
       "      <td>False</td>\n",
       "      <td>Argentina</td>\n",
       "      <td>Bs.As. G.B.A. Norte</td>\n",
       "      <td>San Isidro</td>\n",
       "      <td>None</td>\n",
       "    </tr>\n",
       "  </tbody>\n",
       "</table>\n",
       "<p>3 rows × 25 columns</p>\n",
       "</div>"
      ],
      "text/plain": [
       "              id category_id                                            title  \\\n",
       "0  MLA1767503710     MLA1744                             Volkswagen Gol Power   \n",
       "1  MLA1776550792     MLA1744         Volkswagen Gol 2012 1.4 Power Ps+ac 83cv   \n",
       "2  MLA1776084372     MLA1744  Volkswagen Gol 1.6 I Power /// 2010 - 140.000km   \n",
       "\n",
       "  condition car_year       brand model               version engine  \\\n",
       "0     Usado     2008  Volkswagen   Gol      1.9 Sd Power 701    1.9   \n",
       "1     Usado     2012  Volkswagen   Gol  1.4 Power Ps+ac 83cv    1.4   \n",
       "2     Usado     2010  Volkswagen   Gol       1.6 I Power 701    1.6   \n",
       "\n",
       "  engine_power  ... transmission currency price   seller_id seller_nickname  \\\n",
       "0        64 hp  ...       Manual      USD  5200  1601211580   TIERRADEAUTOS   \n",
       "1        83 hp  ...       Manual      USD  6250   146472306     ARIEL_RICCI   \n",
       "2        92 hp  ...       Manual      USD  6000    77745224         CAR.ANT   \n",
       "\n",
       "  is_car_shop seller_country         seller_state      seller_city  \\\n",
       "0       False      Argentina    Bs.As. G.B.A. Sur       Avellaneda   \n",
       "1       False      Argentina      Capital Federal  Capital Federal   \n",
       "2       False      Argentina  Bs.As. G.B.A. Norte       San Isidro   \n",
       "\n",
       "  seller_neighborhood  \n",
       "0      Villa Domínico  \n",
       "1                None  \n",
       "2                None  \n",
       "\n",
       "[3 rows x 25 columns]"
      ]
     },
     "execution_count": 7,
     "metadata": {},
     "output_type": "execute_result"
    }
   ],
   "source": [
    "df = pd.DataFrame(car_publications)\n",
    "df.head(3)"
   ]
  }
 ],
 "metadata": {
  "kernelspec": {
   "display_name": "Python 3",
   "language": "python",
   "name": "python3"
  },
  "language_info": {
   "codemirror_mode": {
    "name": "ipython",
    "version": 3
   },
   "file_extension": ".py",
   "mimetype": "text/x-python",
   "name": "python",
   "nbconvert_exporter": "python",
   "pygments_lexer": "ipython3",
   "version": "3.12.2"
  }
 },
 "nbformat": 4,
 "nbformat_minor": 2
}
