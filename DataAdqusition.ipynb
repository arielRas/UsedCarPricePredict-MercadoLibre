{
 "cells": [
  {
   "cell_type": "markdown",
   "metadata": {},
   "source": [
    "### OBTENCION DE DATOS API MERCADOLIBRE"
   ]
  },
  {
   "cell_type": "markdown",
   "metadata": {},
   "source": [
    "#### Importacion de librerias necesarias"
   ]
  },
  {
   "cell_type": "code",
   "execution_count": 1,
   "metadata": {},
   "outputs": [],
   "source": [
    "import json\n",
    "import requests\n",
    "from urllib.parse import quote\n",
    "import pandas as pd"
   ]
  },
  {
   "cell_type": "markdown",
   "metadata": {},
   "source": [
    "#### Obtencion de categorias"
   ]
  },
  {
   "cell_type": "markdown",
   "metadata": {},
   "source": [
    "El objetivo de esta seccion es obtener un listado de las categorias y sub-categorias disponibles actualmente en la API de **MercadoLibre (https://developers.mercadolibre.com.ar/)** utilizando la libreria **requests** de python.<br>Como primer paso se hace una request a la API para obtener el listado de las categorias principales."
   ]
  },
  {
   "cell_type": "code",
   "execution_count": 2,
   "metadata": {},
   "outputs": [],
   "source": [
    "#Request para obtener las categorias principales\n",
    "url = \"https://api.mercadolibre.com/sites/MLA/categories\"\n",
    "response = requests.get(url)"
   ]
  },
  {
   "cell_type": "markdown",
   "metadata": {},
   "source": [
    "De la respuesta obtenida se extraen los los ID de las categorias principales. El objetivo de esto es hacer una request por cada ID de categoria pricipal y asi obtener los datos completos de estas, incluidas las subcategorias."
   ]
  },
  {
   "cell_type": "code",
   "execution_count": 3,
   "metadata": {},
   "outputs": [
    {
     "name": "stdout",
     "output_type": "stream",
     "text": [
      "['MLA5725', 'MLA1512', 'MLA1403', 'MLA1071', 'MLA1367', 'MLA1368', 'MLA1743', 'MLA1384', 'MLA1246', 'MLA1039', 'MLA1051', 'MLA1648', 'MLA1144', 'MLA1500', 'MLA1276', 'MLA5726', 'MLA1000', 'MLA2547', 'MLA407134', 'MLA1574', 'MLA1499', 'MLA1459', 'MLA1182', 'MLA3937', 'MLA1132', 'MLA3025', 'MLA1168', 'MLA1430', 'MLA409431', 'MLA1540', 'MLA9304', 'MLA1953']\n"
     ]
    }
   ],
   "source": [
    "#Se obtienen ID de las categorias principales\n",
    "id_list = []\n",
    "\n",
    "#Ciclo for para extraer el campo \"id\" de cada categoria\n",
    "if response.status_code == 200:\n",
    "    data = response.json()\n",
    "    for item in data:\n",
    "        id_list.append(item['id'])    \n",
    "else:\n",
    "    print(response.status_code)\n",
    "\n",
    "print(id_list)"
   ]
  },
  {
   "cell_type": "markdown",
   "metadata": {},
   "source": [
    "Como se menciono anteriormente se generea una request para cada \"id\" de la lista **id_list** y se alojan los resultados obtenidos en la lista **categories**. El resultado obtenido es una lista de diccionarios."
   ]
  },
  {
   "cell_type": "code",
   "execution_count": 4,
   "metadata": {},
   "outputs": [],
   "source": [
    "#Request para obtener informacion y subcategorias de los id que se obtuvieron\n",
    "categories = []\n",
    "\n",
    "for id in id_list:\n",
    "    url = f\"https://api.mercadolibre.com/categories/{id}\"\n",
    "    response = requests.get(url)\n",
    "    if response.status_code == 200:\n",
    "        categories.append(response.json())\n",
    "    else:\n",
    "        print(f\"error:{response.status_code} en el ID:{id}\")"
   ]
  },
  {
   "cell_type": "markdown",
   "metadata": {},
   "source": [
    "Se crea la clase **Category()** cuyos atributos son los datos que interesan obtener de la request anterior. Tambien se crea la clase **CategoryBuilder()** que se encarga de extraer los datos de la request y devolver una instancia de la clase **Category()** con sus respectivos atributos seteados."
   ]
  },
  {
   "cell_type": "code",
   "execution_count": 8,
   "metadata": {},
   "outputs": [],
   "source": [
    "class Category():\n",
    "    def __init__(self, id, name, is_subsctegory, father_cat):\n",
    "        self.id = id\n",
    "        self.name = name\n",
    "        self.is_subcategory = is_subsctegory\n",
    "        self.father_cat = father_cat\n",
    "\n",
    "def get_categories(data:list) -> list:\n",
    "    categories=[]\n",
    "    for cat in data:\n",
    "        id = cat.get('id', None)\n",
    "        name = cat.get('name', None)\n",
    "        if 'children_categories' in cat:\n",
    "            is_subcategoy = False\n",
    "            father_cat = None\n",
    "            category = Category(id, name, is_subcategoy, father_cat)\n",
    "            categories.append(vars(category))\n",
    "\n",
    "            for sub_cat in cat['children_categories']:\n",
    "                id = sub_cat.get('id', None)\n",
    "                name = sub_cat.get('name', None)\n",
    "                is_subcategoy = True\n",
    "                father_cat = cat.get('id', None)\n",
    "                category = Category(id, name, is_subcategoy, father_cat)\n",
    "                categories.append(vars(category))\n",
    "        else:\n",
    "            is_subcategoy = False\n",
    "            father_cat = None\n",
    "            category = Category(id, name, is_subcategoy, father_cat)\n",
    "            categories.append(vars(category))\n",
    "    return categories      "
   ]
  },
  {
   "cell_type": "markdown",
   "metadata": {},
   "source": [
    "Ahora se hace uso de las clases creadas. Primero se instancia una clase **CategoryBuilder()** la cual recibe en su parametro la lista de diccionarios obtenida anteriormente(**categories**). Acto seguido se asigna un nuevo valor a **categories** utilizando el metodo **Build** a fines de obtener una lista de diccionarios con los campos de interes."
   ]
  },
  {
   "cell_type": "code",
   "execution_count": 9,
   "metadata": {},
   "outputs": [],
   "source": [
    "#Se setea la variable \"categories\" con una nueva lista diccionarios\n",
    "categories = get_categories(categories)"
   ]
  },
  {
   "cell_type": "markdown",
   "metadata": {},
   "source": [
    "Se guarda el archivo **JSON** de manera local"
   ]
  },
  {
   "cell_type": "code",
   "execution_count": 13,
   "metadata": {},
   "outputs": [],
   "source": [
    "#Se guarda el archivo JSON\n",
    "with open('MeliCategorias.json', 'w') as file:\n",
    "    json.dump(categories, file, indent=4, separators=(',',':'))"
   ]
  },
  {
   "cell_type": "markdown",
   "metadata": {},
   "source": [
    "Utilizando **Pandas** se puede leer la lista de diccionarios (**categories**) para obtener un **Dataframe** y manipular los datos segun la necesidad."
   ]
  },
  {
   "cell_type": "code",
   "execution_count": 14,
   "metadata": {},
   "outputs": [
    {
     "data": {
      "text/html": [
       "<div>\n",
       "<style scoped>\n",
       "    .dataframe tbody tr th:only-of-type {\n",
       "        vertical-align: middle;\n",
       "    }\n",
       "\n",
       "    .dataframe tbody tr th {\n",
       "        vertical-align: top;\n",
       "    }\n",
       "\n",
       "    .dataframe thead th {\n",
       "        text-align: right;\n",
       "    }\n",
       "</style>\n",
       "<table border=\"1\" class=\"dataframe\">\n",
       "  <thead>\n",
       "    <tr style=\"text-align: right;\">\n",
       "      <th></th>\n",
       "      <th>id</th>\n",
       "      <th>name</th>\n",
       "      <th>is_subcategory</th>\n",
       "      <th>father_cat</th>\n",
       "    </tr>\n",
       "  </thead>\n",
       "  <tbody>\n",
       "    <tr>\n",
       "      <th>0</th>\n",
       "      <td>MLA5725</td>\n",
       "      <td>Accesorios para Vehículos</td>\n",
       "      <td>False</td>\n",
       "      <td>None</td>\n",
       "    </tr>\n",
       "    <tr>\n",
       "      <th>1</th>\n",
       "      <td>MLA4711</td>\n",
       "      <td>Acc. para Motos y Cuatriciclos</td>\n",
       "      <td>True</td>\n",
       "      <td>MLA5725</td>\n",
       "    </tr>\n",
       "    <tr>\n",
       "      <th>2</th>\n",
       "      <td>MLA417044</td>\n",
       "      <td>Accesorios Náuticos</td>\n",
       "      <td>True</td>\n",
       "      <td>MLA5725</td>\n",
       "    </tr>\n",
       "    <tr>\n",
       "      <th>3</th>\n",
       "      <td>MLA6520</td>\n",
       "      <td>Accesorios de Auto y Camioneta</td>\n",
       "      <td>True</td>\n",
       "      <td>MLA5725</td>\n",
       "    </tr>\n",
       "    <tr>\n",
       "      <th>4</th>\n",
       "      <td>MLA86360</td>\n",
       "      <td>Accesorios para Línea Pesada</td>\n",
       "      <td>True</td>\n",
       "      <td>MLA5725</td>\n",
       "    </tr>\n",
       "  </tbody>\n",
       "</table>\n",
       "</div>"
      ],
      "text/plain": [
       "          id                            name  is_subcategory father_cat\n",
       "0    MLA5725       Accesorios para Vehículos           False       None\n",
       "1    MLA4711  Acc. para Motos y Cuatriciclos            True    MLA5725\n",
       "2  MLA417044             Accesorios Náuticos            True    MLA5725\n",
       "3    MLA6520  Accesorios de Auto y Camioneta            True    MLA5725\n",
       "4   MLA86360    Accesorios para Línea Pesada            True    MLA5725"
      ]
     },
     "execution_count": 14,
     "metadata": {},
     "output_type": "execute_result"
    }
   ],
   "source": [
    "df = pd.DataFrame(categories)\n",
    "df.head()"
   ]
  },
  {
   "cell_type": "markdown",
   "metadata": {},
   "source": [
    "Tambien se puede leer el archivo **JSON** creado anteriormente utilizando un **DataFrame** de **Pandas**"
   ]
  },
  {
   "cell_type": "code",
   "execution_count": 15,
   "metadata": {},
   "outputs": [
    {
     "data": {
      "text/html": [
       "<div>\n",
       "<style scoped>\n",
       "    .dataframe tbody tr th:only-of-type {\n",
       "        vertical-align: middle;\n",
       "    }\n",
       "\n",
       "    .dataframe tbody tr th {\n",
       "        vertical-align: top;\n",
       "    }\n",
       "\n",
       "    .dataframe thead th {\n",
       "        text-align: right;\n",
       "    }\n",
       "</style>\n",
       "<table border=\"1\" class=\"dataframe\">\n",
       "  <thead>\n",
       "    <tr style=\"text-align: right;\">\n",
       "      <th></th>\n",
       "      <th>id</th>\n",
       "      <th>name</th>\n",
       "      <th>is_subcategory</th>\n",
       "      <th>father_cat</th>\n",
       "    </tr>\n",
       "  </thead>\n",
       "  <tbody>\n",
       "    <tr>\n",
       "      <th>0</th>\n",
       "      <td>MLA5725</td>\n",
       "      <td>Accesorios para Vehículos</td>\n",
       "      <td>False</td>\n",
       "      <td>None</td>\n",
       "    </tr>\n",
       "    <tr>\n",
       "      <th>1</th>\n",
       "      <td>MLA4711</td>\n",
       "      <td>Acc. para Motos y Cuatriciclos</td>\n",
       "      <td>True</td>\n",
       "      <td>MLA5725</td>\n",
       "    </tr>\n",
       "    <tr>\n",
       "      <th>2</th>\n",
       "      <td>MLA417044</td>\n",
       "      <td>Accesorios Náuticos</td>\n",
       "      <td>True</td>\n",
       "      <td>MLA5725</td>\n",
       "    </tr>\n",
       "    <tr>\n",
       "      <th>3</th>\n",
       "      <td>MLA6520</td>\n",
       "      <td>Accesorios de Auto y Camioneta</td>\n",
       "      <td>True</td>\n",
       "      <td>MLA5725</td>\n",
       "    </tr>\n",
       "    <tr>\n",
       "      <th>4</th>\n",
       "      <td>MLA86360</td>\n",
       "      <td>Accesorios para Línea Pesada</td>\n",
       "      <td>True</td>\n",
       "      <td>MLA5725</td>\n",
       "    </tr>\n",
       "  </tbody>\n",
       "</table>\n",
       "</div>"
      ],
      "text/plain": [
       "          id                            name  is_subcategory father_cat\n",
       "0    MLA5725       Accesorios para Vehículos           False       None\n",
       "1    MLA4711  Acc. para Motos y Cuatriciclos            True    MLA5725\n",
       "2  MLA417044             Accesorios Náuticos            True    MLA5725\n",
       "3    MLA6520  Accesorios de Auto y Camioneta            True    MLA5725\n",
       "4   MLA86360    Accesorios para Línea Pesada            True    MLA5725"
      ]
     },
     "execution_count": 15,
     "metadata": {},
     "output_type": "execute_result"
    }
   ],
   "source": [
    "df = pd.read_json('MeliCategorias.json')\n",
    "df.head()"
   ]
  },
  {
   "cell_type": "markdown",
   "metadata": {},
   "source": [
    "#### Obtencion de publicaciones"
   ]
  },
  {
   "cell_type": "markdown",
   "metadata": {},
   "source": [
    "El objetivo de esta seccion es obtener un listado de publicaciones de \"vehiculos\" desde la API de **MercadoLibre (https://developers.mercadolibre.com.ar/)** utilizando la libreria **requests** de python.<br>En primer lugar se crea una lista(**cars**) que aloja diferentes modelos de vehiculos disponibles en el mercado automotriz, posteriormente mediante el uso de la libreria **urllib** y su metodo **quote** se codifica la lista **cars** a fin de transformar ciertos caracteres para mantener la integridad de la URL al momento de realizar la request."
   ]
  },
  {
   "cell_type": "code",
   "execution_count": 2,
   "metadata": {},
   "outputs": [],
   "source": [
    "#43 autos\n",
    "cars = [    'Volkswagen gol','Volkswagen gol trend', 'Volkswagen up', 'Volkswagen bora', 'Volkswagen vento', 'Volkswagen polo', 'Volkswagen amarok',\n",
    "            'Chevrolet corsa', 'Chevrolet onix', 'Chevrolet agile', 'Chevrolet prisma', 'Chevrolet cruze', 'Chevrolet aveo', 'Chevrolet tracker',\n",
    "            'Renault clio', 'Renault sandero', 'Renault fluence', 'Renault logan', 'Reanault partner', 'Renault capture',\n",
    "            'Peugeot 206', 'Peugeot 207', 'Peugeot 208', 'Peugeot 307','Peugeot 308', 'Peugeot 407', 'Peugeot 408',\n",
    "            'Fiat cronos', 'Fiat argos', 'Fiat toro', 'Fiat palio', 'Fiat siena', 'Fiat uno',                   \n",
    "            'Ford fiesta', 'Ford Ecosport', 'Ford ka', 'Ford ranger', 'Ford focus',\n",
    "            'Toyota etios', 'Toyota hilux', 'Toyota corolla', 'Toyota yaris', \n",
    "            'Honda civic' ]\n",
    "\n",
    "#Se codifican los nombres\n",
    "cars_codif = []\n",
    "for car in cars:\n",
    "    cars_codif.append(quote(car))"
   ]
  },
  {
   "cell_type": "markdown",
   "metadata": {},
   "source": [
    "Con la finalidad de realizar una request por cada modelo de automovil en la lista, se crea la funcion **get_publication()**. Esta funcion  devuelve una lista de diccionarios, cada uno de estos diccionarios representa una publicacion de **MercadoLibre**. Dentro de la logica de la funcion se establece un maximo de 250 publicaciones por vehiculo."
   ]
  },
  {
   "cell_type": "code",
   "execution_count": 10,
   "metadata": {},
   "outputs": [],
   "source": [
    "def get_publications(car : str) -> list:\n",
    "    publication = []\n",
    "    url = f'https://api.mercadolibre.com/sites/MLA/search?q={car}'\n",
    "    response = requests.get(url)\n",
    "    \n",
    "    if response.status_code == 200:\n",
    "        data = response.json()\n",
    "        results = data.get('paging', dict).get('total', None)  #Total de resultados existentes\n",
    "        offset = 0 #Pocision de inicio de los resultados\n",
    "\n",
    "        if 'results' in data:\n",
    "            for item in data['results']:\n",
    "                publication.append(item)\n",
    "\n",
    "            while (results > offset) and (results > 50):\n",
    "                offset +=50 \n",
    "                if offset == 300: break \n",
    "                url = f'https://api.mercadolibre.com/sites/MLA/search?q={car}&offset={offset}'\n",
    "                response = requests.get(url)\n",
    "                data = response.json()\n",
    "                if 'results' in data:\n",
    "                    for item in data['results']:\n",
    "                        publication.append(item)  \n",
    "\n",
    "        return publication                    \n",
    "    else:\n",
    "        return publication"
   ]
  },
  {
   "cell_type": "markdown",
   "metadata": {},
   "source": [
    "Se crea una la lista **publications_list** la cual alojará los diccionarios obtenidos de la funcion **get_publication()**. Acto seguido ejecuta un ciclo for a fines de recorrer la lista **cars_codif**, ejecutar la funcion **get_publication()** por cada uno de los elementos en la lista, luego los resultados obtenidos son alojados en **publications_list**"
   ]
  },
  {
   "cell_type": "code",
   "execution_count": 11,
   "metadata": {},
   "outputs": [
    {
     "name": "stdout",
     "output_type": "stream",
     "text": [
      "La cantidad de publicaciones obtenidas es: 12196\n"
     ]
    }
   ],
   "source": [
    "#Lista para alojar las publicaciones\n",
    "publications_list = []\n",
    "\n",
    "for car in cars_codif:\n",
    "    publications = get_publications(car)\n",
    "    for publication in publications:\n",
    "        publications_list.append(publication)\n",
    "\n",
    "print(f'La cantidad de publicaciones obtenidas es: {len(publications_list)}')"
   ]
  },
  {
   "cell_type": "markdown",
   "metadata": {},
   "source": [
    "Se guarda un archivo **JSON** con el resultado obtenido en el paso anterior"
   ]
  },
  {
   "cell_type": "code",
   "execution_count": 12,
   "metadata": {},
   "outputs": [],
   "source": [
    "#GUARDADO DE JSON\n",
    "with open('MeliDataPubl.json','w') as file:\n",
    "    json.dump(publications_list, file, indent=4, separators=(',',':'))"
   ]
  },
  {
   "cell_type": "markdown",
   "metadata": {},
   "source": [
    "#### Extraccion de los datos de interes"
   ]
  },
  {
   "cell_type": "markdown",
   "metadata": {},
   "source": [
    "Con la finalidad de estructurar los datos extraidos de la API anteriormente se crea la clase **CarPublicaction()** la cual aloja en sus atributos los datos de interes de las publicaciones que se obtubieron. Tambien se crea la clase **CarPublicationBuilder()** cuya responsabilidad es extraer de un diccionario(publicacion) los datos de interes y devolver una instancia de la clase **CarPublicaction()** con sus atributos seteados"
   ]
  },
  {
   "cell_type": "code",
   "execution_count": 14,
   "metadata": {},
   "outputs": [],
   "source": [
    "class CarPublication():\n",
    "    def __init__(self):\n",
    "        self.id = None\n",
    "        self.category_id = None\n",
    "        self.title = None\n",
    "        self.condition = None\n",
    "        self.car_year = None\n",
    "        self.brand = None\n",
    "        self.model = None\n",
    "        self.version = None\n",
    "        self.engine = None\n",
    "        self.engine_power = None\n",
    "        self.doors = None        \n",
    "        self.km = None\n",
    "        self.fuel_type = None        \n",
    "        self.traction_control = None\n",
    "        self.passenger_capacity = None\n",
    "        self.transmission = None\n",
    "        self.currency = None\n",
    "        self.price = None\n",
    "        self.seller_id = None\n",
    "        self.seller_nickname = None\n",
    "        self.is_car_shop = None\n",
    "        self.seller_country = None\n",
    "        self.seller_state = None\n",
    "        self.seller_city = None\n",
    "        self.seller_neighborhood = None\n",
    "\n",
    "\n",
    "class CarPublicationBuilder():\n",
    "    def __init__(self, data:dict):\n",
    "        self.data = data\n",
    "        self.publication = CarPublication()\n",
    "\n",
    "    def build(self) -> CarPublication():\n",
    "        self.publication.id = self._get_id()\n",
    "        self.publication.category_id = self._get_category_id()\n",
    "        self.publication.title = self._get_title()\n",
    "        self.publication.condition = self._get_condition()\n",
    "        self.publication.car_year = self._get_car_year()\n",
    "        self.publication.brand = self._get_brand()\n",
    "        self.publication.model = self._get_model()\n",
    "        self.publication.version = self._get_version()\n",
    "        self.publication.engine = self._get_engine()\n",
    "        self.publication.engine_power = self._get_engine_power()\n",
    "        self.publication.doors = self._get_doors()\n",
    "        self.publication.km = self._get_km()\n",
    "        self.publication.fuel_type = self._get_fuel_type()     \n",
    "        self.publication.traction_control = self._get_traction_control()\n",
    "        self.publication.passenger_capacity = self._get_passenger_capacity()\n",
    "        self.publication.transmission = self._get_transmission()\n",
    "        self.publication.currency = self._get_currency()\n",
    "        self.publication.price = self._get_price()\n",
    "        self.publication.seller_id = self._get_seller_id()\n",
    "        self.publication.seller_nickname = self._get_seller_nickname()\n",
    "        self.publication.is_car_shop = self._get_is_oficial_store()\n",
    "        self.publication.seller_country = self._get_seller_country()\n",
    "        self.publication.seller_state = self._get_seller_state()\n",
    "        self.publication.seller_city = self._get_seller_city()\n",
    "        self.publication.seller_neighborhood = self._get_seller_neighborhood()\n",
    "        return self.publication\n",
    "\n",
    "    def _get_id(self):\n",
    "        return self.data.get('id', None)\n",
    "    \n",
    "    def _get_category_id(self):\n",
    "        return self.data.get('category_id', None)\n",
    "    \n",
    "    def _get_title(self):\n",
    "        return self.data.get('title', None)\n",
    "    \n",
    "    def _get_condition(self):\n",
    "        for item in self.data['attributes']:\n",
    "            if ('id' in item) and (item['id'] == 'ITEM_CONDITION'):\n",
    "                return item['value_name']\n",
    "        return None\n",
    "    \n",
    "    def _get_car_year(self):\n",
    "        for item in self.data['attributes']:\n",
    "            if ('id' in item) and (item['id'] == 'VEHICLE_YEAR'):\n",
    "                return item['value_name']\n",
    "        return None\n",
    "    \n",
    "    def _get_brand(self):\n",
    "        for item in self.data['attributes']:\n",
    "            if ('id' in item) and (item['id'] == 'BRAND'):\n",
    "                return item['value_name']\n",
    "        return None\n",
    "    \n",
    "    def _get_model(self):\n",
    "        for item in self.data['attributes']:\n",
    "            if ('id' in item) and (item['id'] == 'MODEL'):\n",
    "                return item['value_name']\n",
    "        return None\n",
    "    \n",
    "    def _get_version(self):\n",
    "        for item in self.data['attributes']:\n",
    "            if ('id' in item) and (item['id'] == 'TRIM'):\n",
    "                return item['value_name']\n",
    "        return None\n",
    "    \n",
    "    def _get_engine(self):\n",
    "        for item in self.data['attributes']:\n",
    "            if ('id' in item) and (item['id'] == 'ENGINE'):\n",
    "                return item['value_name']\n",
    "        return None\n",
    "    \n",
    "    def _get_engine_power(self):\n",
    "        for item in self.data['attributes']:\n",
    "            if ('id' in item) and (item['id'] == 'POWER'):\n",
    "                return item['value_name']\n",
    "        return None\n",
    "    \n",
    "    def _get_doors(self):\n",
    "        for item in self.data['attributes']:\n",
    "            if ('id' in item) and (item['id'] == 'DOORS'):\n",
    "                return item['value_name']\n",
    "        return None\n",
    "    \n",
    "    def _get_km(self):\n",
    "        for item in self.data['attributes']:\n",
    "            if ('id' in item) and (item['id'] == 'KILOMETERS'):\n",
    "                return item['value_name']\n",
    "        return None\n",
    "    \n",
    "    def _get_fuel_type(self):\n",
    "        for item in self.data['attributes']:\n",
    "            if ('id' in item) and (item['id'] == 'FUEL_TYPE'):\n",
    "                return item['value_name']\n",
    "        return None\n",
    "    \n",
    "    def _get_traction_control(self):\n",
    "        for item in self.data['attributes']:\n",
    "            if ('id' in item) and (item['id'] == 'TRACTION_CONTROL'):\n",
    "                return item['value_name']\n",
    "        return None\n",
    "    \n",
    "    def _get_passenger_capacity(self):\n",
    "        for item in self.data['attributes']:\n",
    "            if ('id' in item) and (item['id'] == 'PASSENGER_CAPACITY'):\n",
    "                return item['value_name']\n",
    "        return None\n",
    "    \n",
    "    def _get_transmission(self):\n",
    "        for item in self.data['attributes']:\n",
    "            if ('id' in item) and (item['id'] == 'TRANSMISSION'):\n",
    "                return item['value_name']\n",
    "        return None\n",
    "    \n",
    "    def _get_currency(self):\n",
    "        return self.data.get('currency_id', None)\n",
    "    \n",
    "    def _get_price(self):\n",
    "        return self.data.get('price', None)\n",
    "    \n",
    "    def _get_seller_id(self):\n",
    "        return self.data.get('seller', {}).get('id', None)\n",
    "    \n",
    "    def _get_seller_nickname(self):\n",
    "        return self.data.get('seller', {}).get('nickname', None)\n",
    "    \n",
    "    def _get_is_oficial_store(self):\n",
    "        return self.data.get('official_store_id', None) is not None\n",
    "    \n",
    "    def _get_seller_country(self):\n",
    "        return self.data.get('location',{}).get('country', {}).get('name', None)\n",
    "    \n",
    "    def _get_seller_state(self):\n",
    "        return self.data.get('location',{}).get('state', {}).get('name', None)\n",
    "    \n",
    "    def _get_seller_city(self):\n",
    "        return self.data.get('location',{}).get('city', {}).get('name', None)\n",
    "    \n",
    "    def _get_seller_neighborhood(self):\n",
    "        return self.data.get('location',{}).get('neighborhood', {}).get('name', None)  \n",
    "    "
   ]
  },
  {
   "cell_type": "markdown",
   "metadata": {},
   "source": [
    "Mediante un ciclo for se recorre **publications_list** con la finalidad de ejecutar una instancia de la clase **CarPublicationBuilder()** y obtener una objeto de tipo **CarPublicaction()** por cada diccionario en **publications_list** "
   ]
  },
  {
   "cell_type": "code",
   "execution_count": 16,
   "metadata": {},
   "outputs": [
    {
     "name": "stdout",
     "output_type": "stream",
     "text": [
      "Cantidad de registros obtenidos: 12196\n"
     ]
    }
   ],
   "source": [
    "car_publications = []\n",
    "\n",
    "for item in publications_list:\n",
    "    builder = CarPublicationBuilder(item)\n",
    "    publication = builder.build()\n",
    "    car_publications.append(vars(publication))\n",
    "\n",
    "print(f'Cantidad de registros obtenidos: {len(car_publications)}')"
   ]
  },
  {
   "cell_type": "markdown",
   "metadata": {},
   "source": [
    "Se guarda el resultado obtenido en un archivo **JSON** de manera local"
   ]
  },
  {
   "cell_type": "code",
   "execution_count": 17,
   "metadata": {},
   "outputs": [],
   "source": [
    "with open('MeliCarPublicactions.json','w' ) as file:\n",
    "    json.dump(car_publications, file, indent=4, separators=(',',':'))"
   ]
  },
  {
   "cell_type": "markdown",
   "metadata": {},
   "source": [
    "Utilizando **Pandas** se puede leer la lista de diccionarios (**car_publications**) para obtener un **Dataframe** y manipular los datos segun la necesidad."
   ]
  },
  {
   "cell_type": "code",
   "execution_count": 18,
   "metadata": {},
   "outputs": [
    {
     "data": {
      "text/html": [
       "<div>\n",
       "<style scoped>\n",
       "    .dataframe tbody tr th:only-of-type {\n",
       "        vertical-align: middle;\n",
       "    }\n",
       "\n",
       "    .dataframe tbody tr th {\n",
       "        vertical-align: top;\n",
       "    }\n",
       "\n",
       "    .dataframe thead th {\n",
       "        text-align: right;\n",
       "    }\n",
       "</style>\n",
       "<table border=\"1\" class=\"dataframe\">\n",
       "  <thead>\n",
       "    <tr style=\"text-align: right;\">\n",
       "      <th></th>\n",
       "      <th>id</th>\n",
       "      <th>category_id</th>\n",
       "      <th>title</th>\n",
       "      <th>condition</th>\n",
       "      <th>car_year</th>\n",
       "      <th>brand</th>\n",
       "      <th>model</th>\n",
       "      <th>version</th>\n",
       "      <th>engine</th>\n",
       "      <th>engine_power</th>\n",
       "      <th>...</th>\n",
       "      <th>transmission</th>\n",
       "      <th>currency</th>\n",
       "      <th>price</th>\n",
       "      <th>seller_id</th>\n",
       "      <th>seller_nickname</th>\n",
       "      <th>is_car_shop</th>\n",
       "      <th>seller_country</th>\n",
       "      <th>seller_state</th>\n",
       "      <th>seller_city</th>\n",
       "      <th>seller_neighborhood</th>\n",
       "    </tr>\n",
       "  </thead>\n",
       "  <tbody>\n",
       "    <tr>\n",
       "      <th>0</th>\n",
       "      <td>MLA1413685801</td>\n",
       "      <td>MLA1744</td>\n",
       "      <td>Volkswagen Gol 1.4 3ptas Año 2013 - Liv Motors</td>\n",
       "      <td>Usado</td>\n",
       "      <td>2013</td>\n",
       "      <td>Volkswagen</td>\n",
       "      <td>Gol</td>\n",
       "      <td>1.4 Power 83cv 3 p</td>\n",
       "      <td>1.4</td>\n",
       "      <td>83 hp</td>\n",
       "      <td>...</td>\n",
       "      <td>Manual</td>\n",
       "      <td>ARS</td>\n",
       "      <td>6000000</td>\n",
       "      <td>780050555</td>\n",
       "      <td>LIVMOTORS 2</td>\n",
       "      <td>False</td>\n",
       "      <td>Argentina</td>\n",
       "      <td>Bs.As. G.B.A. Norte</td>\n",
       "      <td>Vicente López</td>\n",
       "      <td>Munro</td>\n",
       "    </tr>\n",
       "    <tr>\n",
       "      <th>1</th>\n",
       "      <td>MLA1406864357</td>\n",
       "      <td>MLA1744</td>\n",
       "      <td>Volkswagen Gol 2012 1.4 Power Ps+ac 83cv</td>\n",
       "      <td>Usado</td>\n",
       "      <td>2012</td>\n",
       "      <td>Volkswagen</td>\n",
       "      <td>Gol</td>\n",
       "      <td>1.4 Power Ps+ac 83cv</td>\n",
       "      <td>1.4</td>\n",
       "      <td>83 hp</td>\n",
       "      <td>...</td>\n",
       "      <td>Manual</td>\n",
       "      <td>USD</td>\n",
       "      <td>10500</td>\n",
       "      <td>210095605</td>\n",
       "      <td>MASSEYGROUP EXCLUSIVOS</td>\n",
       "      <td>False</td>\n",
       "      <td>Argentina</td>\n",
       "      <td>Bs.As. G.B.A. Norte</td>\n",
       "      <td>Vicente López</td>\n",
       "      <td>Olivos</td>\n",
       "    </tr>\n",
       "    <tr>\n",
       "      <th>2</th>\n",
       "      <td>MLA1677544030</td>\n",
       "      <td>MLA1744</td>\n",
       "      <td>Volkswagen Gol Power 3p 2012 Financiación Con Dni</td>\n",
       "      <td>Usado</td>\n",
       "      <td>2012</td>\n",
       "      <td>Volkswagen</td>\n",
       "      <td>Gol</td>\n",
       "      <td>1.4 Power Ps+ac 83cv</td>\n",
       "      <td>1.4</td>\n",
       "      <td>83 hp</td>\n",
       "      <td>...</td>\n",
       "      <td>Manual</td>\n",
       "      <td>ARS</td>\n",
       "      <td>5800000</td>\n",
       "      <td>5571520</td>\n",
       "      <td>DASAUTOS2014</td>\n",
       "      <td>False</td>\n",
       "      <td>Argentina</td>\n",
       "      <td>Bs.As. G.B.A. Sur</td>\n",
       "      <td>Berazategui</td>\n",
       "      <td>Berazategui</td>\n",
       "    </tr>\n",
       "  </tbody>\n",
       "</table>\n",
       "<p>3 rows × 25 columns</p>\n",
       "</div>"
      ],
      "text/plain": [
       "              id category_id  \\\n",
       "0  MLA1413685801     MLA1744   \n",
       "1  MLA1406864357     MLA1744   \n",
       "2  MLA1677544030     MLA1744   \n",
       "\n",
       "                                               title condition car_year  \\\n",
       "0     Volkswagen Gol 1.4 3ptas Año 2013 - Liv Motors     Usado     2013   \n",
       "1           Volkswagen Gol 2012 1.4 Power Ps+ac 83cv     Usado     2012   \n",
       "2  Volkswagen Gol Power 3p 2012 Financiación Con Dni     Usado     2012   \n",
       "\n",
       "        brand model               version engine engine_power  ...  \\\n",
       "0  Volkswagen   Gol    1.4 Power 83cv 3 p    1.4        83 hp  ...   \n",
       "1  Volkswagen   Gol  1.4 Power Ps+ac 83cv    1.4        83 hp  ...   \n",
       "2  Volkswagen   Gol  1.4 Power Ps+ac 83cv    1.4        83 hp  ...   \n",
       "\n",
       "  transmission currency    price  seller_id         seller_nickname  \\\n",
       "0       Manual      ARS  6000000  780050555             LIVMOTORS 2   \n",
       "1       Manual      USD    10500  210095605  MASSEYGROUP EXCLUSIVOS   \n",
       "2       Manual      ARS  5800000    5571520            DASAUTOS2014   \n",
       "\n",
       "  is_car_shop seller_country         seller_state    seller_city  \\\n",
       "0       False      Argentina  Bs.As. G.B.A. Norte  Vicente López   \n",
       "1       False      Argentina  Bs.As. G.B.A. Norte  Vicente López   \n",
       "2       False      Argentina    Bs.As. G.B.A. Sur    Berazategui   \n",
       "\n",
       "  seller_neighborhood  \n",
       "0               Munro  \n",
       "1              Olivos  \n",
       "2         Berazategui  \n",
       "\n",
       "[3 rows x 25 columns]"
      ]
     },
     "execution_count": 18,
     "metadata": {},
     "output_type": "execute_result"
    }
   ],
   "source": [
    "df = pd.DataFrame(car_publications)\n",
    "df.head(3)"
   ]
  },
  {
   "cell_type": "markdown",
   "metadata": {},
   "source": [
    "Tambien se puede leer el archivo **JSON** creado anteriormente utilizando un **DataFrame** de **Pandas**"
   ]
  },
  {
   "cell_type": "code",
   "execution_count": 19,
   "metadata": {},
   "outputs": [
    {
     "data": {
      "text/html": [
       "<div>\n",
       "<style scoped>\n",
       "    .dataframe tbody tr th:only-of-type {\n",
       "        vertical-align: middle;\n",
       "    }\n",
       "\n",
       "    .dataframe tbody tr th {\n",
       "        vertical-align: top;\n",
       "    }\n",
       "\n",
       "    .dataframe thead th {\n",
       "        text-align: right;\n",
       "    }\n",
       "</style>\n",
       "<table border=\"1\" class=\"dataframe\">\n",
       "  <thead>\n",
       "    <tr style=\"text-align: right;\">\n",
       "      <th></th>\n",
       "      <th>id</th>\n",
       "      <th>category_id</th>\n",
       "      <th>title</th>\n",
       "      <th>condition</th>\n",
       "      <th>car_year</th>\n",
       "      <th>brand</th>\n",
       "      <th>model</th>\n",
       "      <th>version</th>\n",
       "      <th>engine</th>\n",
       "      <th>engine_power</th>\n",
       "      <th>...</th>\n",
       "      <th>transmission</th>\n",
       "      <th>currency</th>\n",
       "      <th>price</th>\n",
       "      <th>seller_id</th>\n",
       "      <th>seller_nickname</th>\n",
       "      <th>is_car_shop</th>\n",
       "      <th>seller_country</th>\n",
       "      <th>seller_state</th>\n",
       "      <th>seller_city</th>\n",
       "      <th>seller_neighborhood</th>\n",
       "    </tr>\n",
       "  </thead>\n",
       "  <tbody>\n",
       "    <tr>\n",
       "      <th>0</th>\n",
       "      <td>MLA1413685801</td>\n",
       "      <td>MLA1744</td>\n",
       "      <td>Volkswagen Gol 1.4 3ptas Año 2013 - Liv Motors</td>\n",
       "      <td>Usado</td>\n",
       "      <td>2013</td>\n",
       "      <td>Volkswagen</td>\n",
       "      <td>Gol</td>\n",
       "      <td>1.4 Power 83cv 3 p</td>\n",
       "      <td>1.4</td>\n",
       "      <td>83 hp</td>\n",
       "      <td>...</td>\n",
       "      <td>Manual</td>\n",
       "      <td>ARS</td>\n",
       "      <td>6000000</td>\n",
       "      <td>780050555</td>\n",
       "      <td>LIVMOTORS 2</td>\n",
       "      <td>False</td>\n",
       "      <td>Argentina</td>\n",
       "      <td>Bs.As. G.B.A. Norte</td>\n",
       "      <td>Vicente López</td>\n",
       "      <td>Munro</td>\n",
       "    </tr>\n",
       "    <tr>\n",
       "      <th>1</th>\n",
       "      <td>MLA1406864357</td>\n",
       "      <td>MLA1744</td>\n",
       "      <td>Volkswagen Gol 2012 1.4 Power Ps+ac 83cv</td>\n",
       "      <td>Usado</td>\n",
       "      <td>2012</td>\n",
       "      <td>Volkswagen</td>\n",
       "      <td>Gol</td>\n",
       "      <td>1.4 Power Ps+ac 83cv</td>\n",
       "      <td>1.4</td>\n",
       "      <td>83 hp</td>\n",
       "      <td>...</td>\n",
       "      <td>Manual</td>\n",
       "      <td>USD</td>\n",
       "      <td>10500</td>\n",
       "      <td>210095605</td>\n",
       "      <td>MASSEYGROUP EXCLUSIVOS</td>\n",
       "      <td>False</td>\n",
       "      <td>Argentina</td>\n",
       "      <td>Bs.As. G.B.A. Norte</td>\n",
       "      <td>Vicente López</td>\n",
       "      <td>Olivos</td>\n",
       "    </tr>\n",
       "    <tr>\n",
       "      <th>2</th>\n",
       "      <td>MLA1677544030</td>\n",
       "      <td>MLA1744</td>\n",
       "      <td>Volkswagen Gol Power 3p 2012 Financiación Con Dni</td>\n",
       "      <td>Usado</td>\n",
       "      <td>2012</td>\n",
       "      <td>Volkswagen</td>\n",
       "      <td>Gol</td>\n",
       "      <td>1.4 Power Ps+ac 83cv</td>\n",
       "      <td>1.4</td>\n",
       "      <td>83 hp</td>\n",
       "      <td>...</td>\n",
       "      <td>Manual</td>\n",
       "      <td>ARS</td>\n",
       "      <td>5800000</td>\n",
       "      <td>5571520</td>\n",
       "      <td>DASAUTOS2014</td>\n",
       "      <td>False</td>\n",
       "      <td>Argentina</td>\n",
       "      <td>Bs.As. G.B.A. Sur</td>\n",
       "      <td>Berazategui</td>\n",
       "      <td>Berazategui</td>\n",
       "    </tr>\n",
       "  </tbody>\n",
       "</table>\n",
       "<p>3 rows × 25 columns</p>\n",
       "</div>"
      ],
      "text/plain": [
       "              id category_id  \\\n",
       "0  MLA1413685801     MLA1744   \n",
       "1  MLA1406864357     MLA1744   \n",
       "2  MLA1677544030     MLA1744   \n",
       "\n",
       "                                               title condition  car_year  \\\n",
       "0     Volkswagen Gol 1.4 3ptas Año 2013 - Liv Motors     Usado      2013   \n",
       "1           Volkswagen Gol 2012 1.4 Power Ps+ac 83cv     Usado      2012   \n",
       "2  Volkswagen Gol Power 3p 2012 Financiación Con Dni     Usado      2012   \n",
       "\n",
       "        brand model               version engine engine_power  ...  \\\n",
       "0  Volkswagen   Gol    1.4 Power 83cv 3 p    1.4        83 hp  ...   \n",
       "1  Volkswagen   Gol  1.4 Power Ps+ac 83cv    1.4        83 hp  ...   \n",
       "2  Volkswagen   Gol  1.4 Power Ps+ac 83cv    1.4        83 hp  ...   \n",
       "\n",
       "   transmission currency    price  seller_id         seller_nickname  \\\n",
       "0        Manual      ARS  6000000  780050555             LIVMOTORS 2   \n",
       "1        Manual      USD    10500  210095605  MASSEYGROUP EXCLUSIVOS   \n",
       "2        Manual      ARS  5800000    5571520            DASAUTOS2014   \n",
       "\n",
       "  is_car_shop seller_country         seller_state    seller_city  \\\n",
       "0       False      Argentina  Bs.As. G.B.A. Norte  Vicente López   \n",
       "1       False      Argentina  Bs.As. G.B.A. Norte  Vicente López   \n",
       "2       False      Argentina    Bs.As. G.B.A. Sur    Berazategui   \n",
       "\n",
       "  seller_neighborhood  \n",
       "0               Munro  \n",
       "1              Olivos  \n",
       "2         Berazategui  \n",
       "\n",
       "[3 rows x 25 columns]"
      ]
     },
     "execution_count": 19,
     "metadata": {},
     "output_type": "execute_result"
    }
   ],
   "source": [
    "df = pd.read_json('MeliCarPublications.json')\n",
    "df.head(3)"
   ]
  },
  {
   "cell_type": "code",
   "execution_count": 20,
   "metadata": {},
   "outputs": [
    {
     "name": "stdout",
     "output_type": "stream",
     "text": [
      "Cantidad de filas y columnas: (12196, 25)\n",
      "\n",
      "\n",
      "<class 'pandas.core.frame.DataFrame'>\n",
      "Index: 12196 entries, 0 to 12195\n",
      "Data columns (total 25 columns):\n",
      " #   Column               Non-Null Count  Dtype  \n",
      "---  ------               --------------  -----  \n",
      " 0   id                   12196 non-null  object \n",
      " 1   category_id          12196 non-null  object \n",
      " 2   title                12196 non-null  object \n",
      " 3   condition            12196 non-null  object \n",
      " 4   car_year             12196 non-null  int64  \n",
      " 5   brand                12196 non-null  object \n",
      " 6   model                12196 non-null  object \n",
      " 7   version              12196 non-null  object \n",
      " 8   engine               11885 non-null  object \n",
      " 9   engine_power         11349 non-null  object \n",
      " 10  doors                12196 non-null  int64  \n",
      " 11  km                   12196 non-null  object \n",
      " 12  fuel_type            12196 non-null  object \n",
      " 13  traction_control     11809 non-null  object \n",
      " 14  passenger_capacity   11275 non-null  float64\n",
      " 15  transmission         11906 non-null  object \n",
      " 16  currency             12196 non-null  object \n",
      " 17  price                12196 non-null  int64  \n",
      " 18  seller_id            12196 non-null  int64  \n",
      " 19  seller_nickname      12196 non-null  object \n",
      " 20  is_car_shop          12196 non-null  bool   \n",
      " 21  seller_country       12196 non-null  object \n",
      " 22  seller_state         12196 non-null  object \n",
      " 23  seller_city          12196 non-null  object \n",
      " 24  seller_neighborhood  7477 non-null   object \n",
      "dtypes: bool(1), float64(1), int64(4), object(19)\n",
      "memory usage: 2.3+ MB\n"
     ]
    }
   ],
   "source": [
    "print(f'Cantidad de filas y columnas: {df.shape}\\n\\n')\n",
    "\n",
    "df.info()"
   ]
  }
 ],
 "metadata": {
  "kernelspec": {
   "display_name": "Python 3",
   "language": "python",
   "name": "python3"
  },
  "language_info": {
   "codemirror_mode": {
    "name": "ipython",
    "version": 3
   },
   "file_extension": ".py",
   "mimetype": "text/x-python",
   "name": "python",
   "nbconvert_exporter": "python",
   "pygments_lexer": "ipython3",
   "version": "3.12.2"
  }
 },
 "nbformat": 4,
 "nbformat_minor": 2
}
