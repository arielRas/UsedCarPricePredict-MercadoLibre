{
 "cells": [
  {
   "cell_type": "markdown",
   "metadata": {},
   "source": [
    "## Librerias y funciones"
   ]
  },
  {
   "cell_type": "code",
   "execution_count": 1,
   "metadata": {},
   "outputs": [],
   "source": [
    "import pandas as pd\n",
    "import seaborn as sns\n",
    "import re\n",
    "from matplotlib import pyplot as plt\n",
    "from scipy import stats\n",
    "from geopy.geocoders import Nominatim"
   ]
  },
  {
   "cell_type": "code",
   "execution_count": 2,
   "metadata": {},
   "outputs": [],
   "source": [
    "#FUNCION PARA COMPARAR DENSIDAD DE DISTRIBUCIONES ANTES Y DESPUES DE IMPUTAR\n",
    "def comparison_dist(data_1:pd.Series, data_2:pd.Series, action:str, x_label:str, fig_size:tuple):\n",
    "    plt.style.use(\"bmh\")    \n",
    "    fig, ax = plt.subplots(ncols=2, nrows=1, figsize=fig_size)\n",
    "\n",
    "    #GRAFICO 1\n",
    "    sns.kdeplot(x=data_1, ax=ax[0])\n",
    "    ax[0].set_title('Distribucion original')\n",
    "    ax[0].set_xlabel(x_label)\n",
    "\n",
    "    #GRAFICO 2\n",
    "    sns.kdeplot(data=data_2, ax=ax[1])\n",
    "    ax[1].set_xlabel(x_label)\n",
    "    ax[1].set_title(f'Distribucion despues de {action}') #ACTION(IMPUTAR, ELIMINAR)\n",
    "\n",
    "    #PLOTEO\n",
    "    plt.tight_layout()\n",
    "    plt.show()\n",
    "    plt.style.use(\"default\")"
   ]
  },
  {
   "cell_type": "markdown",
   "metadata": {},
   "source": [
    "## Exploracion de dataset"
   ]
  },
  {
   "cell_type": "code",
   "execution_count": 3,
   "metadata": {},
   "outputs": [
    {
     "data": {
      "text/html": [
       "<div>\n",
       "<style scoped>\n",
       "    .dataframe tbody tr th:only-of-type {\n",
       "        vertical-align: middle;\n",
       "    }\n",
       "\n",
       "    .dataframe tbody tr th {\n",
       "        vertical-align: top;\n",
       "    }\n",
       "\n",
       "    .dataframe thead th {\n",
       "        text-align: right;\n",
       "    }\n",
       "</style>\n",
       "<table border=\"1\" class=\"dataframe\">\n",
       "  <thead>\n",
       "    <tr style=\"text-align: right;\">\n",
       "      <th></th>\n",
       "      <th>id</th>\n",
       "      <th>category_id</th>\n",
       "      <th>title</th>\n",
       "      <th>condition</th>\n",
       "      <th>car_year</th>\n",
       "      <th>brand</th>\n",
       "      <th>model</th>\n",
       "      <th>version</th>\n",
       "      <th>engine</th>\n",
       "      <th>engine_power</th>\n",
       "      <th>...</th>\n",
       "      <th>transmission</th>\n",
       "      <th>currency</th>\n",
       "      <th>price</th>\n",
       "      <th>seller_id</th>\n",
       "      <th>seller_nickname</th>\n",
       "      <th>is_car_shop</th>\n",
       "      <th>seller_country</th>\n",
       "      <th>seller_state</th>\n",
       "      <th>seller_city</th>\n",
       "      <th>seller_neighborhood</th>\n",
       "    </tr>\n",
       "  </thead>\n",
       "  <tbody>\n",
       "    <tr>\n",
       "      <th>0</th>\n",
       "      <td>MLA1413685801</td>\n",
       "      <td>MLA1744</td>\n",
       "      <td>Volkswagen Gol 1.4 3ptas Año 2013 - Liv Motors</td>\n",
       "      <td>Usado</td>\n",
       "      <td>2013</td>\n",
       "      <td>Volkswagen</td>\n",
       "      <td>Gol</td>\n",
       "      <td>1.4 Power 83cv 3 p</td>\n",
       "      <td>1.4</td>\n",
       "      <td>83 hp</td>\n",
       "      <td>...</td>\n",
       "      <td>Manual</td>\n",
       "      <td>ARS</td>\n",
       "      <td>6000000</td>\n",
       "      <td>780050555</td>\n",
       "      <td>LIVMOTORS 2</td>\n",
       "      <td>False</td>\n",
       "      <td>Argentina</td>\n",
       "      <td>Bs.As. G.B.A. Norte</td>\n",
       "      <td>Vicente López</td>\n",
       "      <td>Munro</td>\n",
       "    </tr>\n",
       "    <tr>\n",
       "      <th>1</th>\n",
       "      <td>MLA1406864357</td>\n",
       "      <td>MLA1744</td>\n",
       "      <td>Volkswagen Gol 2012 1.4 Power Ps+ac 83cv</td>\n",
       "      <td>Usado</td>\n",
       "      <td>2012</td>\n",
       "      <td>Volkswagen</td>\n",
       "      <td>Gol</td>\n",
       "      <td>1.4 Power Ps+ac 83cv</td>\n",
       "      <td>1.4</td>\n",
       "      <td>83 hp</td>\n",
       "      <td>...</td>\n",
       "      <td>Manual</td>\n",
       "      <td>USD</td>\n",
       "      <td>10500</td>\n",
       "      <td>210095605</td>\n",
       "      <td>MASSEYGROUP EXCLUSIVOS</td>\n",
       "      <td>False</td>\n",
       "      <td>Argentina</td>\n",
       "      <td>Bs.As. G.B.A. Norte</td>\n",
       "      <td>Vicente López</td>\n",
       "      <td>Olivos</td>\n",
       "    </tr>\n",
       "    <tr>\n",
       "      <th>2</th>\n",
       "      <td>MLA1677544030</td>\n",
       "      <td>MLA1744</td>\n",
       "      <td>Volkswagen Gol Power 3p 2012 Financiación Con Dni</td>\n",
       "      <td>Usado</td>\n",
       "      <td>2012</td>\n",
       "      <td>Volkswagen</td>\n",
       "      <td>Gol</td>\n",
       "      <td>1.4 Power Ps+ac 83cv</td>\n",
       "      <td>1.4</td>\n",
       "      <td>83 hp</td>\n",
       "      <td>...</td>\n",
       "      <td>Manual</td>\n",
       "      <td>ARS</td>\n",
       "      <td>5800000</td>\n",
       "      <td>5571520</td>\n",
       "      <td>DASAUTOS2014</td>\n",
       "      <td>False</td>\n",
       "      <td>Argentina</td>\n",
       "      <td>Bs.As. G.B.A. Sur</td>\n",
       "      <td>Berazategui</td>\n",
       "      <td>Berazategui</td>\n",
       "    </tr>\n",
       "  </tbody>\n",
       "</table>\n",
       "<p>3 rows × 25 columns</p>\n",
       "</div>"
      ],
      "text/plain": [
       "              id category_id  \\\n",
       "0  MLA1413685801     MLA1744   \n",
       "1  MLA1406864357     MLA1744   \n",
       "2  MLA1677544030     MLA1744   \n",
       "\n",
       "                                               title condition  car_year  \\\n",
       "0     Volkswagen Gol 1.4 3ptas Año 2013 - Liv Motors     Usado      2013   \n",
       "1           Volkswagen Gol 2012 1.4 Power Ps+ac 83cv     Usado      2012   \n",
       "2  Volkswagen Gol Power 3p 2012 Financiación Con Dni     Usado      2012   \n",
       "\n",
       "        brand model               version engine engine_power  ...  \\\n",
       "0  Volkswagen   Gol    1.4 Power 83cv 3 p    1.4        83 hp  ...   \n",
       "1  Volkswagen   Gol  1.4 Power Ps+ac 83cv    1.4        83 hp  ...   \n",
       "2  Volkswagen   Gol  1.4 Power Ps+ac 83cv    1.4        83 hp  ...   \n",
       "\n",
       "   transmission currency    price  seller_id         seller_nickname  \\\n",
       "0        Manual      ARS  6000000  780050555             LIVMOTORS 2   \n",
       "1        Manual      USD    10500  210095605  MASSEYGROUP EXCLUSIVOS   \n",
       "2        Manual      ARS  5800000    5571520            DASAUTOS2014   \n",
       "\n",
       "  is_car_shop seller_country         seller_state    seller_city  \\\n",
       "0       False      Argentina  Bs.As. G.B.A. Norte  Vicente López   \n",
       "1       False      Argentina  Bs.As. G.B.A. Norte  Vicente López   \n",
       "2       False      Argentina    Bs.As. G.B.A. Sur    Berazategui   \n",
       "\n",
       "  seller_neighborhood  \n",
       "0               Munro  \n",
       "1              Olivos  \n",
       "2         Berazategui  \n",
       "\n",
       "[3 rows x 25 columns]"
      ]
     },
     "execution_count": 3,
     "metadata": {},
     "output_type": "execute_result"
    }
   ],
   "source": [
    "df = pd.read_json('https://raw.githubusercontent.com/arielRas/DataAdqusition/master/API%20MercadoLibre/MeliCarPublications.json')\n",
    "df.head(3)"
   ]
  },
  {
   "cell_type": "code",
   "execution_count": 4,
   "metadata": {},
   "outputs": [
    {
     "name": "stdout",
     "output_type": "stream",
     "text": [
      "<class 'pandas.core.frame.DataFrame'>\n",
      "Index: 12196 entries, 0 to 12195\n",
      "Data columns (total 25 columns):\n",
      " #   Column               Non-Null Count  Dtype  \n",
      "---  ------               --------------  -----  \n",
      " 0   id                   12196 non-null  object \n",
      " 1   category_id          12196 non-null  object \n",
      " 2   title                12196 non-null  object \n",
      " 3   condition            12196 non-null  object \n",
      " 4   car_year             12196 non-null  int64  \n",
      " 5   brand                12196 non-null  object \n",
      " 6   model                12196 non-null  object \n",
      " 7   version              12196 non-null  object \n",
      " 8   engine               11885 non-null  object \n",
      " 9   engine_power         11349 non-null  object \n",
      " 10  doors                12196 non-null  int64  \n",
      " 11  km                   12196 non-null  object \n",
      " 12  fuel_type            12196 non-null  object \n",
      " 13  traction_control     11809 non-null  object \n",
      " 14  passenger_capacity   11275 non-null  float64\n",
      " 15  transmission         11906 non-null  object \n",
      " 16  currency             12196 non-null  object \n",
      " 17  price                12196 non-null  int64  \n",
      " 18  seller_id            12196 non-null  int64  \n",
      " 19  seller_nickname      12196 non-null  object \n",
      " 20  is_car_shop          12196 non-null  bool   \n",
      " 21  seller_country       12196 non-null  object \n",
      " 22  seller_state         12196 non-null  object \n",
      " 23  seller_city          12196 non-null  object \n",
      " 24  seller_neighborhood  7477 non-null   object \n",
      "dtypes: bool(1), float64(1), int64(4), object(19)\n",
      "memory usage: 2.3+ MB\n"
     ]
    }
   ],
   "source": [
    "df.info()"
   ]
  },
  {
   "cell_type": "code",
   "execution_count": 5,
   "metadata": {},
   "outputs": [
    {
     "data": {
      "text/html": [
       "<div>\n",
       "<style scoped>\n",
       "    .dataframe tbody tr th:only-of-type {\n",
       "        vertical-align: middle;\n",
       "    }\n",
       "\n",
       "    .dataframe tbody tr th {\n",
       "        vertical-align: top;\n",
       "    }\n",
       "\n",
       "    .dataframe thead th {\n",
       "        text-align: right;\n",
       "    }\n",
       "</style>\n",
       "<table border=\"1\" class=\"dataframe\">\n",
       "  <thead>\n",
       "    <tr style=\"text-align: right;\">\n",
       "      <th></th>\n",
       "      <th>car_year</th>\n",
       "      <th>doors</th>\n",
       "      <th>passenger_capacity</th>\n",
       "      <th>price</th>\n",
       "      <th>seller_id</th>\n",
       "    </tr>\n",
       "  </thead>\n",
       "  <tbody>\n",
       "    <tr>\n",
       "      <th>count</th>\n",
       "      <td>12196.000000</td>\n",
       "      <td>12196.000000</td>\n",
       "      <td>11275.000000</td>\n",
       "      <td>1.219600e+04</td>\n",
       "      <td>1.219600e+04</td>\n",
       "    </tr>\n",
       "    <tr>\n",
       "      <th>mean</th>\n",
       "      <td>2015.917678</td>\n",
       "      <td>4.354870</td>\n",
       "      <td>4.978271</td>\n",
       "      <td>1.054430e+07</td>\n",
       "      <td>3.439563e+08</td>\n",
       "    </tr>\n",
       "    <tr>\n",
       "      <th>std</th>\n",
       "      <td>6.109399</td>\n",
       "      <td>0.676806</td>\n",
       "      <td>0.249476</td>\n",
       "      <td>1.309497e+07</td>\n",
       "      <td>3.748558e+08</td>\n",
       "    </tr>\n",
       "    <tr>\n",
       "      <th>min</th>\n",
       "      <td>1988.000000</td>\n",
       "      <td>2.000000</td>\n",
       "      <td>2.000000</td>\n",
       "      <td>1.230000e+02</td>\n",
       "      <td>7.465000e+03</td>\n",
       "    </tr>\n",
       "    <tr>\n",
       "      <th>25%</th>\n",
       "      <td>2012.000000</td>\n",
       "      <td>4.000000</td>\n",
       "      <td>5.000000</td>\n",
       "      <td>1.560000e+04</td>\n",
       "      <td>9.898473e+07</td>\n",
       "    </tr>\n",
       "    <tr>\n",
       "      <th>50%</th>\n",
       "      <td>2016.000000</td>\n",
       "      <td>4.000000</td>\n",
       "      <td>5.000000</td>\n",
       "      <td>7.500000e+06</td>\n",
       "      <td>2.014092e+08</td>\n",
       "    </tr>\n",
       "    <tr>\n",
       "      <th>75%</th>\n",
       "      <td>2022.000000</td>\n",
       "      <td>5.000000</td>\n",
       "      <td>5.000000</td>\n",
       "      <td>1.675000e+07</td>\n",
       "      <td>4.105601e+08</td>\n",
       "    </tr>\n",
       "    <tr>\n",
       "      <th>max</th>\n",
       "      <td>2024.000000</td>\n",
       "      <td>5.000000</td>\n",
       "      <td>7.000000</td>\n",
       "      <td>5.860000e+08</td>\n",
       "      <td>1.713678e+09</td>\n",
       "    </tr>\n",
       "  </tbody>\n",
       "</table>\n",
       "</div>"
      ],
      "text/plain": [
       "           car_year         doors  passenger_capacity         price  \\\n",
       "count  12196.000000  12196.000000        11275.000000  1.219600e+04   \n",
       "mean    2015.917678      4.354870            4.978271  1.054430e+07   \n",
       "std        6.109399      0.676806            0.249476  1.309497e+07   \n",
       "min     1988.000000      2.000000            2.000000  1.230000e+02   \n",
       "25%     2012.000000      4.000000            5.000000  1.560000e+04   \n",
       "50%     2016.000000      4.000000            5.000000  7.500000e+06   \n",
       "75%     2022.000000      5.000000            5.000000  1.675000e+07   \n",
       "max     2024.000000      5.000000            7.000000  5.860000e+08   \n",
       "\n",
       "          seller_id  \n",
       "count  1.219600e+04  \n",
       "mean   3.439563e+08  \n",
       "std    3.748558e+08  \n",
       "min    7.465000e+03  \n",
       "25%    9.898473e+07  \n",
       "50%    2.014092e+08  \n",
       "75%    4.105601e+08  \n",
       "max    1.713678e+09  "
      ]
     },
     "execution_count": 5,
     "metadata": {},
     "output_type": "execute_result"
    }
   ],
   "source": [
    "df.describe()"
   ]
  },
  {
   "cell_type": "markdown",
   "metadata": {},
   "source": [
    "## DataWrangling"
   ]
  },
  {
   "cell_type": "markdown",
   "metadata": {},
   "source": [
    "### Variable ***condition***"
   ]
  },
  {
   "cell_type": "code",
   "execution_count": 6,
   "metadata": {},
   "outputs": [
    {
     "data": {
      "text/plain": [
       "array(['Usado', 'Nuevo'], dtype=object)"
      ]
     },
     "execution_count": 6,
     "metadata": {},
     "output_type": "execute_result"
    }
   ],
   "source": [
    "#VALORES UNICOS EN LA VARIABLE\n",
    "df.condition.unique()"
   ]
  },
  {
   "cell_type": "code",
   "execution_count": 7,
   "metadata": {},
   "outputs": [
    {
     "data": {
      "text/plain": [
       "count    12196.000000\n",
       "mean         0.204165\n",
       "std          0.403107\n",
       "min          0.000000\n",
       "25%          0.000000\n",
       "50%          0.000000\n",
       "75%          0.000000\n",
       "max          1.000000\n",
       "Name: is_new, dtype: float64"
      ]
     },
     "execution_count": 7,
     "metadata": {},
     "output_type": "execute_result"
    }
   ],
   "source": [
    "#REEMPLAZO DE VALORES Y CAMBIO DE TIPO DE DATO\n",
    "df.rename(columns={'condition': 'is_new'}, inplace=True)\n",
    "df.is_new = df.is_new.str.replace('Usado', '0')\n",
    "df.is_new = df.is_new.str.replace('Nuevo', '1')\n",
    "df.is_new = df.is_new.astype(int)\n",
    "df.is_new.describe()"
   ]
  },
  {
   "cell_type": "markdown",
   "metadata": {},
   "source": [
    "### Variable ***model***"
   ]
  },
  {
   "cell_type": "code",
   "execution_count": 8,
   "metadata": {},
   "outputs": [
    {
     "data": {
      "text/plain": [
       "array(['Gol', 'Gol Trend', 'Up!', 'Bora', 'Vento', 'Polo', 'Amarok',\n",
       "       'Corsa', 'Onix', 'Agile', 'Prisma', 'Cruze', 'Aveo G3', 'Aveo',\n",
       "       'Tracker', 'Clio', 'Sandero', 'Fluence', 'Logan', 'Kangoo',\n",
       "       'Kangoo Express', 'Partner Patagónica', 'Captur', 'Duster',\n",
       "       'CAPTUR INTENS 2.0', 'CAPTUR LIFE 1.6', '206', '207', '208', '307',\n",
       "       '308', '407', '408', 'Cronos', 'Toro', 'Argo', 'Fiorino', 'Pulse',\n",
       "       '2022', 'Strada', 'ARGO PRECISION 1.8', '864 - ARGO HGT 1.8',\n",
       "       'Palio', 'Siena', 'Uno', 'Fiesta', 'Ecosport', 'Ka', 'Ranger',\n",
       "       'Ranger Raptor', 'Nueva Ranger', 'RANGER XLS AT AWD 3.0 V6 250 CV',\n",
       "       'RANGER XL 2.0 TURBO DIESEL CD 4X4 MANUAL',\n",
       "       'FORD RANGER LIMITED + 3.0 V6 DIESEL CD 4X4 10AT #GP', 'Focus III',\n",
       "       'Fiesta Kinetic Design', 'Focus 2', 'Focus', 'Focus II',\n",
       "       'Ford focus titanium', 'Focus 3', 'Etios', 'Hilux Pick-Up',\n",
       "       'Hilux', 'Hilux Chassi', 'SW4', 'Hilux SW4', '4x4', 'Corolla',\n",
       "       'Yaris', 'Civic'], dtype=object)"
      ]
     },
     "execution_count": 8,
     "metadata": {},
     "output_type": "execute_result"
    }
   ],
   "source": [
    "#CHECK DE VALORES UNICOS EN LA VARIABLE\n",
    "df.model.unique()"
   ]
  },
  {
   "cell_type": "code",
   "execution_count": 9,
   "metadata": {},
   "outputs": [
    {
     "data": {
      "text/plain": [
       "array(['Gol', 'Gol Trend', 'Up!', 'Bora', 'Vento', 'Polo', 'Amarok',\n",
       "       'Corsa', 'Onix', 'Agile', 'Prisma', 'Cruze', 'Aveo', 'Tracker',\n",
       "       'Clio', 'Sandero', 'Fluence', 'Logan', 'Kangoo', 'Partner',\n",
       "       'Captur', 'Duster', '206', '207', '208', '307', '308', '407',\n",
       "       '408', 'Cronos', 'Toro', 'Argo', 'Fiorino', 'Pulse', '2022',\n",
       "       'Strada', 'Palio', 'Siena', 'Uno', 'Fiesta', 'Ecosport', 'Ka',\n",
       "       'Ranger', 'Focus', 'Etios', 'Hilux', '4x4', 'Corolla', 'Yaris',\n",
       "       'Civic'], dtype=object)"
      ]
     },
     "execution_count": 9,
     "metadata": {},
     "output_type": "execute_result"
    }
   ],
   "source": [
    "#REEMPLAZO DE VALORES\n",
    "df.model = df.model.str.replace(r'.*Argo.*|.*ARGO.*', 'Argo', regex=True)\n",
    "df.model = df.model.str.replace(r'.*Capture.*|.*CAPTUR.*', 'Captur', regex=True)\n",
    "df.model = df.model.str.replace(r'.*Focus.*|.*FOCUS.*|.*focus.*', 'Focus', regex=True)\n",
    "df.model = df.model.str.replace(r'.*Ranger.*|.*RANGER.*', 'Ranger', regex=True)\n",
    "df.model = df.model.str.replace(r'.*Hilux.*|.*HILUX.*', 'Hilux', regex=True)\n",
    "df.model = df.model.str.replace(r'.*Fiesta.*|.*FIESTA.*', 'Fiesta', regex=True)\n",
    "df.model = df.model.str.replace(r'.*Aveo.*|.*AVEO.*', 'Aveo', regex=True)\n",
    "df.model = df.model.str.replace('SW4', 'Hilux')\n",
    "df.model = df.model.str.replace('Kangoo Express', 'Kangoo')\n",
    "df.model = df.model.str.replace('Partner Patagónica', 'Partner')\n",
    "df.model.unique()"
   ]
  },
  {
   "cell_type": "markdown",
   "metadata": {},
   "source": [
    "### Variable ***engine***"
   ]
  },
  {
   "cell_type": "markdown",
   "metadata": {},
   "source": [
    "#### Conversion de tipo de dato"
   ]
  },
  {
   "cell_type": "code",
   "execution_count": 10,
   "metadata": {},
   "outputs": [
    {
     "data": {
      "text/plain": [
       "array(['1.4', '1.6', '1.9', '1.4l', None, 'INYECCION MULTI PUNTO',\n",
       "       '1.9 DIESEL', '1.8', '1.9 diésel', '1,6', '4 cilindros',\n",
       "       '1.90 diesel', '1600 audi', 'SD', '2.0', 'MSI',\n",
       "       'MSI 1.6 16 válvulas 110cv', '1.0', '1.0L', '1', '2',\n",
       "       '1.9 TURBO DIESEL 100CV', '2.5', '2.0 TDI', '2.5 LUXURY',\n",
       "       '1.4 tsi', '350 TSI', '1.4 Tsi', '2.0 TSI',\n",
       "       'TURBO DIESEL INYECCION', '1.6MSI', '1.6 MSI MT', '1.6L',\n",
       "       'TURBOALIMENTADO', '999 3 Cilindros 101 CV', 'MSI 1.6 16V',\n",
       "       '1.4TSI', '1.6 MSI', '1.0 170 Tsi', '1.6 16V MSI  - 110CV -',\n",
       "       '1.6 MSI 110CV', '1.6 msi', '1.6 Msi',\n",
       "       'TRACK 1.6 MSI MT 1ST EDITION', '170tsi',\n",
       "       '1.6 MSI o otro depende version.', 'nafta', '1.0  101 CV 170 TSI',\n",
       "       '1.6 16v 110 hp', '1.6 16v 110hp', '3.0', '2.0 4x2 180cv',\n",
       "       '2.0 4x2 At 180cv', '2.0 4x2 180CV', '2.0 4X4 140CV',\n",
       "       '2.0 4x2 140cv', '3.0 258CV', '2.0 180CV', '2.0 140CV',\n",
       "       '2.0 140cv', '2.0 180cv', '2.0 140 CV', '2.0 180 cv', '3.0L 258CV',\n",
       "       '2.0L 180CV', '2.0 180CV 4X2 AT', '2.0 180CV 4X2 MT',\n",
       "       'Diesel 3.0 V-6 258Cv', '2.0 TDI 180CV', '3.0 V6 258cv',\n",
       "       '3.0 258CV 4X4 AT', '3', '1.7', '1.2', '1.4 LT', 'Chevrolet',\n",
       "       'NAFTA', '1.4 Turbo', '1.4 turbo', '1,4', '1.4 TSI 153CV',\n",
       "       '1.4 TURBO', '1.4T', '1.4 t',\n",
       "       '1.6 DOCH (Inyección multipunto); 4 cil / 16 v; 103 CV',\n",
       "       '1.2 TURBO', '1.2 Turbo', '1.2T', '1.2T AT', '1.2 T', '1.2 turbo',\n",
       "       '3 en línea 12 v', '1.2 turbo 3 cilindros', '1.4 N',\n",
       "       'RENAULT 1.6 16v 110cv', '1.5', '1.6 16v',\n",
       "       '1.6 115 CV de potencia', '1.6 16V NISSAN Cadenero',\n",
       "       '1.6 16v NISSAN Cadenero', '1.6 16 v HR16 102 g2', '1.6 NAFTA',\n",
       "       '1.6 INTENSE CTV AT', '1.3 turbo', '1.6 Turbo', '1.6 thp',\n",
       "       '1.6 115 CV', '143 CV', '1.6 Thp', '2.2', '1.6 HDI', '1.3',\n",
       "       '1.8 ETORQ EVO NAFTA', '2.0L', '1.8L', 'FIAT', '1.1', '1300',\n",
       "       '1.3 Firefly', '1.6 Sigma', '1.6N', 'Ford', '2.0 XLT PLUS AT',\n",
       "       '2.0 170cv', '2.0 Bi Turbo 210cv', '3.2', '3.0 T V6  250 CV',\n",
       "       'Motor 2.0L Turbo diesel con 170 CV 405 Nm de torque', '3.0 L V6',\n",
       "       '2.0L TURBO', 'v6 diesel', '3.0L V6 250CV', '3.0 V6 Diesel',\n",
       "       'Motor 3.0L V6 Turbo diesel con 250 CV 600 Nm de torque',\n",
       "       '2.0 T 210 CV', '2.0 T 170 CV', '2.0 turbo diesel', '2.0 bi turbo',\n",
       "       '3.0 V6 250hp 600NM', '2.0 PANTHER', '2.0 BITURBO 213 CV',\n",
       "       '3.0 V6 250cv', '3.0 V6', '2.0 L PANTHER', '2.0 TURBO 210HP 500NM',\n",
       "       '3.0L V6', '2.0 Lion 210CV', '2.0L BI-TURBO 210CV',\n",
       "       '3.0 LION V6 DIESEL - 250 CV', '2.0 Ecobost BT 210CV',\n",
       "       '2.0 DIESEL 170CV MONOTURBO', '3.0 V6 250 CV',\n",
       "       '2.0 bi Turbo 210 CV', 'V6 TD 250 CV', '2.0 TURBO 170 CV',\n",
       "       '3.0 V6 250 CV DIESEL', 'T Diesel V6 250 cv', '2.0L Biturbo',\n",
       "       '2.0 BI-TURBO 210HP 500NM', '3.0L 250CV V6', '2.0 BIT',\n",
       "       '2.0L BiTurbo', 'V6 3.0L. DIESEL 250CV', '2.0 TDI 170CV',\n",
       "       '2.0 tdi  170cv', '3.0 TURBO V6 250 CV', '2.0L Bi-Turbo', '3.0L',\n",
       "       '2.0 TURBO', '2.0 PANTHER BI-TURBO - 210 CV', '2.0T',\n",
       "       '1.6 STYLE 5P',\n",
       "       'Duratec de 1.999 cc, con inyección directa GDI, distribución variable de válvulas TiVCT y cadena de distribución. Produce una potencia máxima de 170 cv a las 6.600 vueltas, y un par máximo de 202 Nm a las 4.450 rpm',\n",
       "       '1.5 N', '2.8', '2.4', '4.0', '2.8 204cv', 'TURBO DIESEL',\n",
       "       '2.8 TDI', '1.5 S CVT', 'TOYOTA 1.5 107CV', '1.5 nafta', 'naftero',\n",
       "       '1.5 Nafta', '1.6L 261cv', '1,6T caja manual', '1.6 turbo',\n",
       "       'Motor: 1.5 de 107 hp', '1.5 Cadenero'], dtype=object)"
      ]
     },
     "execution_count": 10,
     "metadata": {},
     "output_type": "execute_result"
    }
   ],
   "source": [
    "#CHECK DE VALORES UNICOS DE LA VARIABLE\n",
    "df.engine.unique()"
   ]
  },
  {
   "cell_type": "code",
   "execution_count": 11,
   "metadata": {},
   "outputs": [
    {
     "data": {
      "text/plain": [
       "array(['1.4', '1.6', '1.9', None, '', '1.8', '16', '4', '1.90', '1600',\n",
       "       '2.0', '1.616110', '1.0', '1', '2', '1.9100', '2.5', '350',\n",
       "       '9993101', '1.616', '1.0170', '1.6110', '1.61', '170', '1.6.',\n",
       "       '1.0101170', '3.0', '2.042180', '2.044140', '2.042140', '3.0258',\n",
       "       '2.0180', '2.0140', '2.018042', '3.06258', '3.025844', '3', '1.7',\n",
       "       '1.2', '14', '1.4153', '1.6416103', '312', '1.23', '1.5', '1.6115',\n",
       "       '1.616161022', '1.3', '143', '2.2', '1.1', '1300', '2.0170',\n",
       "       '2.0210', '3.2', '3.06250', '2.0170405', '3.06', '6', '3.06250600',\n",
       "       '2.0213', '2.0210500', '6250', '3.02506', '63.0.250', '1.65',\n",
       "       '1.999.1706.6002024.450', '2.8', '2.4', '4.0', '2.8204', '1.5107',\n",
       "       '1.6261'], dtype=object)"
      ]
     },
     "execution_count": 11,
     "metadata": {},
     "output_type": "execute_result"
    }
   ],
   "source": [
    "#SE QUITAN VALORES ALFABETICOS EN LOS DATOS\n",
    "df.engine = df.engine.str.replace(r'[^0-9.]', '', regex=True)\n",
    "df.engine = df.engine.str.strip()\n",
    "df.engine.unique()"
   ]
  },
  {
   "cell_type": "code",
   "execution_count": 12,
   "metadata": {},
   "outputs": [],
   "source": [
    "#FUNCION PARA QUITAR O AGREGAR DECIMALES\n",
    "def get_engine(engine):\n",
    "    if (not engine) | (pd.isna(engine)): return None        \n",
    "    if re.search(r'^[^.]*$', engine): return None        \n",
    "    \n",
    "    if re.search(r'^\\d\\.', engine):\n",
    "        if len(engine) == 1:\n",
    "            engine = engine + '.0'\n",
    "        elif len(engine) > 3:\n",
    "            engine = engine[:3]\n",
    "        return engine\n",
    "    else:\n",
    "        return None"
   ]
  },
  {
   "cell_type": "code",
   "execution_count": 13,
   "metadata": {},
   "outputs": [
    {
     "data": {
      "text/plain": [
       "array([1.4, 1.6, 1.9, nan, 1.8, 2. , 1. , 2.5, 3. , 1.7, 1.2, 1.5, 1.3,\n",
       "       2.2, 1.1, 3.2, 2.8, 2.4, 4. ])"
      ]
     },
     "execution_count": 13,
     "metadata": {},
     "output_type": "execute_result"
    }
   ],
   "source": [
    "#APLICACION DE LA FUNCION Y CAMBIO DE TIPO DE DATO\n",
    "df.engine = df.engine.apply(get_engine)\n",
    "df.engine = df.engine.astype(float)\n",
    "df.engine.unique()"
   ]
  },
  {
   "cell_type": "code",
   "execution_count": 14,
   "metadata": {},
   "outputs": [
    {
     "name": "stdout",
     "output_type": "stream",
     "text": [
      "<class 'pandas.core.series.Series'>\n",
      "Index: 12196 entries, 0 to 12195\n",
      "Series name: engine\n",
      "Non-Null Count  Dtype  \n",
      "--------------  -----  \n",
      "11733 non-null  float64\n",
      "dtypes: float64(1)\n",
      "memory usage: 190.6 KB\n"
     ]
    }
   ],
   "source": [
    "#INFORMACION DE LA VARIABLE\n",
    "df.engine.info()"
   ]
  },
  {
   "cell_type": "markdown",
   "metadata": {},
   "source": [
    "#### Revision e Imputacion de datos nulos"
   ]
  },
  {
   "cell_type": "code",
   "execution_count": 15,
   "metadata": {},
   "outputs": [
    {
     "name": "stdout",
     "output_type": "stream",
     "text": [
      "Cantidad de nulos: 463\n"
     ]
    }
   ],
   "source": [
    "#VALORES NULOS\n",
    "print(f'Cantidad de nulos: {df.engine.isna().sum()}')"
   ]
  },
  {
   "cell_type": "code",
   "execution_count": 16,
   "metadata": {},
   "outputs": [],
   "source": [
    "#FUNCION PARA IMPUTAR VALORES DE LA MEDIANA SEGUN EL MODELO DEL VEHICULO\n",
    "def get_median(model:str)->float:\n",
    "    condition = (df.model == model) & (df.engine.notna())\n",
    "    return df.loc[condition, 'engine'].median()"
   ]
  },
  {
   "cell_type": "code",
   "execution_count": 17,
   "metadata": {},
   "outputs": [],
   "source": [
    "#COPIA DE LA VARIABLE ANTES DE IMPUTAR\n",
    "engine_nan = df.engine.copy()\n",
    "\n",
    "#IMPUTACION DE VALORES NULOS\n",
    "df.engine = df.apply(lambda x:\n",
    "                     get_median(x.model) if pd.isna(x.engine) else x.engine,\n",
    "                     axis=1)"
   ]
  },
  {
   "cell_type": "code",
   "execution_count": 18,
   "metadata": {},
   "outputs": [
    {
     "name": "stdout",
     "output_type": "stream",
     "text": [
      "Cantidad de nulos: 1\n"
     ]
    }
   ],
   "source": [
    "#CANTIDAD DE NULOS DESPUES DE LA IMPUTACION\n",
    "print(f'Cantidad de nulos: {df.engine.isna().sum()}')"
   ]
  },
  {
   "cell_type": "code",
   "execution_count": 19,
   "metadata": {},
   "outputs": [
    {
     "name": "stdout",
     "output_type": "stream",
     "text": [
      "Cantidad de nulos: 0\n"
     ]
    }
   ],
   "source": [
    "#SE ELIMINA EL VALOR NULO UNICO QUE QUEDABA\n",
    "df = df.loc[df.engine.notna()]\n",
    "print(f'Cantidad de nulos: {df.engine.isna().sum()}')"
   ]
  },
  {
   "cell_type": "code",
   "execution_count": 20,
   "metadata": {},
   "outputs": [
    {
     "data": {
      "image/png": "[encoded data removed]",
      "text/plain": [
       "<Figure size 1200x400 with 2 Axes>"
      ]
     },
     "metadata": {},
     "output_type": "display_data"
    }
   ],
   "source": [
    "#COMPARACION DE DISTRIBUCIONES\n",
    "comparison_dist(engine_nan, df.engine, 'imputar', 'Cilindrado (Cm3)',(12,4))"
   ]
  },
  {
   "cell_type": "code",
   "execution_count": 21,
   "metadata": {},
   "outputs": [],
   "source": [
    "#SE LIBERAN RECURSOS\n",
    "del engine_nan"
   ]
  },
  {
   "cell_type": "markdown",
   "metadata": {},
   "source": [
    "### Variable ***engine_power***"
   ]
  },
  {
   "cell_type": "markdown",
   "metadata": {},
   "source": [
    "#### Conversion de tipo de dato"
   ]
  },
  {
   "cell_type": "code",
   "execution_count": 22,
   "metadata": {},
   "outputs": [
    {
     "data": {
      "text/plain": [
       "array(['83 hp', None, '92 hp', '90 hp', '64 hp', '101 cv', '98 hp',\n",
       "       '54 hp', '101 hp', '75 hp', '75 cv', '180 hp', '100 hp', '116 hp',\n",
       "       '211 hp', '150 hp', '170 hp', '200 hp', '115 hp', '110 hp',\n",
       "       '140 hp', '105 hp', '105 cv', '150 cv', '224 hp', '258 hp',\n",
       "       '102 hp', '70 hp', '94 hp', '80.6 hp', '65 hp', '60 hp', '92 cv',\n",
       "       '98 cv', '153 hp', '141 hp', '163 hp', '103 hp', '132 hp', '74 hp',\n",
       "       '172 hp', '145 hp', '143 hp', '190 hp', '85 hp', '115 cv', '85 cv',\n",
       "       '114 hp', '95 hp', '89 hp', '143 cv', '138 hp', '156 hp', '106 hp',\n",
       "       '175 hp', '208 hp', '165 hp', '152 hp', '270 hp', '225 hp',\n",
       "       '216 hp', '160 hp', '136 hp', '99 hp', '130 hp', '99 cv', '87 hp',\n",
       "       '120 hp', '170 cv', '72 hp', '82 hp', '87 cv', '68 hp', '49 hp',\n",
       "       '120 cv', '123 hp', '123 cv', '63 hp', '67 hp', '210 hp', '250 hp',\n",
       "       '213 hp', '125 hp', '166 hp', '99.2 hp', '125 cv', '103 cv',\n",
       "       '177 hp', '238 hp', '204 hp', '171 hp', '134 hp', '140 cv',\n",
       "       '107 hp', '272 hp', '107 cv', '127 hp', '154 cv'], dtype=object)"
      ]
     },
     "execution_count": 22,
     "metadata": {},
     "output_type": "execute_result"
    }
   ],
   "source": [
    "#CHECK DE VALORES UNICOS EN LA VARIABLE\n",
    "df.engine_power.unique()"
   ]
  },
  {
   "cell_type": "code",
   "execution_count": 23,
   "metadata": {},
   "outputs": [
    {
     "data": {
      "text/plain": [
       "array([ 83. ,   nan,  92. ,  90. ,  64. , 101. ,  98. ,  54. ,  75. ,\n",
       "       180. , 100. , 116. , 211. , 150. , 170. , 200. , 115. , 110. ,\n",
       "       140. , 105. , 224. , 258. , 102. ,  70. ,  94. ,  80.6,  65. ,\n",
       "        60. , 153. , 141. , 163. , 103. , 132. ,  74. , 172. , 145. ,\n",
       "       143. , 190. ,  85. , 114. ,  95. ,  89. , 138. , 156. , 106. ,\n",
       "       175. , 208. , 165. , 152. , 270. , 225. , 216. , 160. , 136. ,\n",
       "        99. , 130. ,  87. , 120. ,  72. ,  82. ,  68. ,  49. , 123. ,\n",
       "        63. ,  67. , 210. , 250. , 213. , 125. , 166. ,  99.2, 177. ,\n",
       "       238. , 204. , 171. , 134. , 107. , 272. , 127. , 154. ])"
      ]
     },
     "execution_count": 23,
     "metadata": {},
     "output_type": "execute_result"
    }
   ],
   "source": [
    "#SE QUITA PARTE ALFABETICA DE VARIABLE Y SE CAMBIA TIPO DE DATO\n",
    "df.engine_power = df.engine_power.str.replace(r'hp|cv', '', regex=True)\n",
    "df.engine_power = df.engine_power.str.strip()\n",
    "df.engine_power = df.engine_power.astype(float)\n",
    "df.engine_power.unique()"
   ]
  },
  {
   "cell_type": "code",
   "execution_count": 24,
   "metadata": {},
   "outputs": [
    {
     "name": "stdout",
     "output_type": "stream",
     "text": [
      "<class 'pandas.core.series.Series'>\n",
      "Index: 12195 entries, 0 to 12195\n",
      "Series name: engine_power\n",
      "Non-Null Count  Dtype  \n",
      "--------------  -----  \n",
      "11349 non-null  float64\n",
      "dtypes: float64(1)\n",
      "memory usage: 190.5 KB\n"
     ]
    }
   ],
   "source": [
    "#INFO DE LA VARIABLE\n",
    "df.engine_power.info()"
   ]
  },
  {
   "cell_type": "markdown",
   "metadata": {},
   "source": [
    "#### Imputacion de datos nulos"
   ]
  },
  {
   "cell_type": "code",
   "execution_count": 25,
   "metadata": {},
   "outputs": [
    {
     "name": "stdout",
     "output_type": "stream",
     "text": [
      "Cantidad de nulos: 846\n"
     ]
    }
   ],
   "source": [
    "#CANTIDAD DE VALORES NULOS EN LA VARIABLE\n",
    "print(f'Cantidad de nulos: {df.engine_power.isna().sum()}')"
   ]
  },
  {
   "cell_type": "code",
   "execution_count": 26,
   "metadata": {},
   "outputs": [],
   "source": [
    "#COPIA DELA VARIABLE SIN IMPUTAR\n",
    "engine_power_nan = df.engine_power.copy()"
   ]
  },
  {
   "cell_type": "code",
   "execution_count": 27,
   "metadata": {},
   "outputs": [],
   "source": [
    "#FUNCION PARA EXTRAER LA MODA DE LA VARIABLE ENGINE SEGUN EL MODELO DEL VEHICULO\n",
    "def get_mode(filter:str, var_name:str):\n",
    "    condition = (df.model == filter) & (df[var_name].notna())\n",
    "    mode = df.loc[condition, var_name].mode().item()\n",
    "    return mode"
   ]
  },
  {
   "cell_type": "code",
   "execution_count": 28,
   "metadata": {},
   "outputs": [
    {
     "name": "stdout",
     "output_type": "stream",
     "text": [
      "Cantidad de nulos: 0\n"
     ]
    }
   ],
   "source": [
    "#IMPUTACION DE DATOS NULOS\n",
    "df.engine_power = df.apply(lambda x: \n",
    "                           get_mode(x.model, 'engine_power') if pd.isna(x.engine_power) else x.engine_power,\n",
    "                           axis=1)\n",
    "\n",
    "print(f'Cantidad de nulos: {df.engine_power.isna().sum()}')"
   ]
  },
  {
   "cell_type": "code",
   "execution_count": 29,
   "metadata": {},
   "outputs": [
    {
     "data": {
      "image/png": "[encoded data removed]",
      "text/plain": [
       "<Figure size 1200x400 with 2 Axes>"
      ]
     },
     "metadata": {},
     "output_type": "display_data"
    }
   ],
   "source": [
    "#COMPARACION DE DISTRIBUCIONES\n",
    "comparison_dist(engine_power_nan, df.engine_power, 'imputar', 'Caballos de fuerza',(12,4))"
   ]
  },
  {
   "cell_type": "code",
   "execution_count": 30,
   "metadata": {},
   "outputs": [],
   "source": [
    "#SE LIBERAN RECURSOS\n",
    "del engine_power_nan"
   ]
  },
  {
   "cell_type": "markdown",
   "metadata": {},
   "source": [
    "### Variable ***km***"
   ]
  },
  {
   "cell_type": "code",
   "execution_count": 31,
   "metadata": {},
   "outputs": [
    {
     "data": {
      "text/plain": [
       "0    108000 km\n",
       "1      8000 km\n",
       "2    122000 km\n",
       "3    141000 km\n",
       "4    118400 km\n",
       "Name: km, dtype: object"
      ]
     },
     "execution_count": 31,
     "metadata": {},
     "output_type": "execute_result"
    }
   ],
   "source": [
    "#CHEC VALORES DE LA VARIABLE\n",
    "df.km.head()"
   ]
  },
  {
   "cell_type": "code",
   "execution_count": 32,
   "metadata": {},
   "outputs": [
    {
     "data": {
      "text/plain": [
       "count     12195.000000\n",
       "mean      86721.969988\n",
       "std       72919.504582\n",
       "min           0.000000\n",
       "25%       14450.000000\n",
       "50%       86000.000000\n",
       "75%      130000.000000\n",
       "max      999999.000000\n",
       "Name: km, dtype: float64"
      ]
     },
     "execution_count": 32,
     "metadata": {},
     "output_type": "execute_result"
    }
   ],
   "source": [
    "#SE QUITAN VALORES ALFABETICOS DE LA VARIABLE\n",
    "df.km = df.km.str.replace('km', '')\n",
    "\n",
    "#SE QUITAN ESPACIOS VACIOS Y SE CAMBIA EL TIPO DE DATO\n",
    "df.km = df.km.str.strip()\n",
    "df.km = df.km.astype(int)\n",
    "df.km.describe()"
   ]
  },
  {
   "cell_type": "code",
   "execution_count": 33,
   "metadata": {},
   "outputs": [
    {
     "name": "stdout",
     "output_type": "stream",
     "text": [
      "Cantidad de registros mayores de 300.000km: 82\n",
      "Proporcion del total de datos: 0.67%\n"
     ]
    }
   ],
   "source": [
    "#CHECK VALORES ATIPICOS\n",
    "count = df.loc[df.km > 300000].shape[0]\n",
    "perc = (count/df.shape[0])*100\n",
    "print(f'Cantidad de registros mayores de 300.000km: {count}')\n",
    "print(f'Proporcion del total de datos: {perc:.2f}%')"
   ]
  },
  {
   "cell_type": "code",
   "execution_count": 34,
   "metadata": {},
   "outputs": [
    {
     "data": {
      "text/plain": [
       "count     12091.000000\n",
       "mean      84187.192953\n",
       "std       66515.893550\n",
       "min           0.000000\n",
       "25%       12950.000000\n",
       "50%       85000.000000\n",
       "75%      130000.000000\n",
       "max      299000.000000\n",
       "Name: km, dtype: float64"
      ]
     },
     "execution_count": 34,
     "metadata": {},
     "output_type": "execute_result"
    }
   ],
   "source": [
    "#SE ELIMINAN VALORES OUTLIERS\n",
    "df = df.loc[df.km < 300000]\n",
    "df.km.describe()"
   ]
  },
  {
   "cell_type": "markdown",
   "metadata": {},
   "source": [
    "### Variable ***fuel_type***"
   ]
  },
  {
   "cell_type": "code",
   "execution_count": 35,
   "metadata": {},
   "outputs": [
    {
     "data": {
      "text/plain": [
       "array(['Nafta', 'Diésel', 'Nafta/GNC', 'Híbrido', 'Eléctrico', 'GNC',\n",
       "       'Híbrido/Nafta'], dtype=object)"
      ]
     },
     "execution_count": 35,
     "metadata": {},
     "output_type": "execute_result"
    }
   ],
   "source": [
    "#CHECK VALORES UNICOS DE LA VARIABLE\n",
    "df.fuel_type.unique()"
   ]
  },
  {
   "cell_type": "code",
   "execution_count": 36,
   "metadata": {},
   "outputs": [
    {
     "data": {
      "text/plain": [
       "array(['Nafta', 'Diésel', 'Nafta/GNC', 'Híbrido', 'Eléctrico'],\n",
       "      dtype=object)"
      ]
     },
     "execution_count": 36,
     "metadata": {},
     "output_type": "execute_result"
    }
   ],
   "source": [
    "#REEMPLAZO DE VALORES\n",
    "df.fuel_type = df.fuel_type.str.replace(r'^GNC$', 'Nafta/GNC', regex=True)\n",
    "df.fuel_type = df.fuel_type.str.replace('Híbrido/Nafta', 'Híbrido')\n",
    "df.fuel_type.unique()"
   ]
  },
  {
   "cell_type": "markdown",
   "metadata": {},
   "source": [
    "### Variable ***traction_control***"
   ]
  },
  {
   "cell_type": "code",
   "execution_count": 37,
   "metadata": {},
   "outputs": [
    {
     "data": {
      "text/plain": [
       "array(['Delantera', None, 'Trasera', '4x2', 'Integral', '4x4'],\n",
       "      dtype=object)"
      ]
     },
     "execution_count": 37,
     "metadata": {},
     "output_type": "execute_result"
    }
   ],
   "source": [
    "#CHECK DE VALORES UNICOS DE LA VARIABLE\n",
    "df.traction_control.unique()"
   ]
  },
  {
   "cell_type": "code",
   "execution_count": 38,
   "metadata": {},
   "outputs": [
    {
     "name": "stdout",
     "output_type": "stream",
     "text": [
      "Cantidad de valores nulos en la variable: 383\n"
     ]
    }
   ],
   "source": [
    "#CHECK DE VALORES NULOS EN LA VARIABLE\n",
    "print(f'Cantidad de valores nulos en la variable: {df.traction_control.isna().sum()}')"
   ]
  },
  {
   "cell_type": "code",
   "execution_count": 39,
   "metadata": {},
   "outputs": [
    {
     "name": "stdout",
     "output_type": "stream",
     "text": [
      "Cantidad de valores nulos en la variable: 0\n"
     ]
    }
   ],
   "source": [
    "#IMPUTACION DE VALORES NULOS POR MODA SEGUN EL MODELO DEL VEHICULO\n",
    "df.traction_control = df.apply( lambda x:\n",
    "                                get_mode(x.model, 'traction_control') \n",
    "                                    if pd.isna(x.traction_control) \n",
    "                                    else x.traction_control,\n",
    "                                axis=1)\n",
    "\n",
    "#CHECK DE VALORES NULOS DESPUES DE IMPUTAR\n",
    "print(f'Cantidad de valores nulos en la variable: {df.traction_control.isna().sum()}')"
   ]
  },
  {
   "cell_type": "markdown",
   "metadata": {},
   "source": [
    "### Variable ***passenger_capacity***"
   ]
  },
  {
   "cell_type": "code",
   "execution_count": 40,
   "metadata": {},
   "outputs": [
    {
     "data": {
      "text/plain": [
       "count    11174.000000\n",
       "mean         4.978343\n",
       "std          0.247562\n",
       "min          2.000000\n",
       "25%          5.000000\n",
       "50%          5.000000\n",
       "75%          5.000000\n",
       "max          7.000000\n",
       "Name: passenger_capacity, dtype: float64"
      ]
     },
     "execution_count": 40,
     "metadata": {},
     "output_type": "execute_result"
    }
   ],
   "source": [
    "#INFO DE LA VARIABLE\n",
    "df.passenger_capacity.describe()"
   ]
  },
  {
   "cell_type": "code",
   "execution_count": 41,
   "metadata": {},
   "outputs": [
    {
     "name": "stdout",
     "output_type": "stream",
     "text": [
      "Cantidad de valores nulos en la variable: 917\n"
     ]
    }
   ],
   "source": [
    "#CHECK DE VALORES NULOS EN LA VARIABLE\n",
    "print(f'Cantidad de valores nulos en la variable: {df.passenger_capacity.isna().sum()}')"
   ]
  },
  {
   "cell_type": "code",
   "execution_count": 42,
   "metadata": {},
   "outputs": [
    {
     "name": "stdout",
     "output_type": "stream",
     "text": [
      "Cantidad de valores nulos en la variable: 0\n"
     ]
    }
   ],
   "source": [
    "#IMPUTACION DE VALORES NULOS POR MODA SEGUN EL MODELO DEL VEHICULO\n",
    "df.passenger_capacity = df.apply(lambda x:\n",
    "                                 get_mode(x.model, 'passenger_capacity')\n",
    "                                    if pd.isna(x.passenger_capacity)\n",
    "                                    else x.passenger_capacity,\n",
    "                                axis=1)\n",
    "\n",
    "#CHECK DE VALORES NULOS DESPUES DE IMPUTAR\n",
    "print(f'Cantidad de valores nulos en la variable: {df.passenger_capacity.isna().sum()}')"
   ]
  },
  {
   "cell_type": "markdown",
   "metadata": {},
   "source": [
    "### Variable ***transmission***"
   ]
  },
  {
   "cell_type": "code",
   "execution_count": 43,
   "metadata": {},
   "outputs": [
    {
     "data": {
      "text/plain": [
       "array(['Manual', None, 'Automática', 'Automática secuencial'],\n",
       "      dtype=object)"
      ]
     },
     "execution_count": 43,
     "metadata": {},
     "output_type": "execute_result"
    }
   ],
   "source": [
    "#CHECK VALORES UNICOS EN LA VARIABLE\n",
    "df.transmission.unique()"
   ]
  },
  {
   "cell_type": "code",
   "execution_count": 44,
   "metadata": {},
   "outputs": [
    {
     "name": "stdout",
     "output_type": "stream",
     "text": [
      "Cantidad de valores nulos en la variable: 286\n"
     ]
    }
   ],
   "source": [
    "#CHECK VALORES NULOS EN LA VARIABLE\n",
    "print(f'Cantidad de valores nulos en la variable: {df.transmission.isna().sum()}')"
   ]
  },
  {
   "cell_type": "code",
   "execution_count": 45,
   "metadata": {},
   "outputs": [
    {
     "name": "stdout",
     "output_type": "stream",
     "text": [
      "Cantidad de valores nulos en la variable: 0\n"
     ]
    }
   ],
   "source": [
    "#IMPUTACION DE VALORES NULOS POR LA MODA SEGUN EL MODELO\n",
    "df.transmission = df.apply( lambda x:\n",
    "                            get_mode(x.model, 'transmission')\n",
    "                                if pd.isna(x.transmission)\n",
    "                                else x.transmission,\n",
    "                            axis=1)\n",
    "\n",
    "#CHECK VALORES NULOS EN LA VARIABLE\n",
    "print(f'Cantidad de valores nulos en la variable: {df.transmission.isna().sum()}')"
   ]
  },
  {
   "cell_type": "markdown",
   "metadata": {},
   "source": [
    "### Variable ***price*** "
   ]
  },
  {
   "cell_type": "markdown",
   "metadata": {},
   "source": [
    "#### Unificacion de valor del automovil en moneda USD"
   ]
  },
  {
   "cell_type": "code",
   "execution_count": 46,
   "metadata": {},
   "outputs": [
    {
     "data": {
      "text/plain": [
       "array(['ARS', 'USD'], dtype=object)"
      ]
     },
     "execution_count": 46,
     "metadata": {},
     "output_type": "execute_result"
    }
   ],
   "source": [
    "#TIPOS DE MONEDAS QUE DESCRIBEN EL PRECIO\n",
    "df.currency.unique()"
   ]
  },
  {
   "cell_type": "code",
   "execution_count": 47,
   "metadata": {},
   "outputs": [],
   "source": [
    "#SE CONVIERTE A USD TODOS AQUELLOS PRECIOS VALUADOS EN PESOS\n",
    "#A LA FECHA DE RECOPILACION DE DATOS:  1 USD = 1020 ARS\n",
    "df.price = df.price.astype(float)\n",
    "df.loc[df.currency == 'ARS', 'price'] = df.price.apply(lambda x: x/1020)"
   ]
  },
  {
   "cell_type": "code",
   "execution_count": 48,
   "metadata": {},
   "outputs": [
    {
     "data": {
      "text/plain": [
       "count     12091.000000\n",
       "mean      14228.157777\n",
       "std       11867.268925\n",
       "min         123.000000\n",
       "25%        6900.000000\n",
       "50%       10784.313725\n",
       "75%       18500.000000\n",
       "max      574509.810784\n",
       "Name: usd_price, dtype: float64"
      ]
     },
     "execution_count": 48,
     "metadata": {},
     "output_type": "execute_result"
    }
   ],
   "source": [
    "#SE RENOMBRA LA VARIABLE PRICE\n",
    "df.rename(columns={'price': 'usd_price'}, inplace=True)\n",
    "\n",
    "#SE ELIMINA LA VARIABLE CURRENCY\n",
    "df.drop(columns='currency', inplace=True)\n",
    "df.usd_price.describe()"
   ]
  },
  {
   "cell_type": "markdown",
   "metadata": {},
   "source": [
    "#### Valores atipicos"
   ]
  },
  {
   "cell_type": "code",
   "execution_count": 53,
   "metadata": {},
   "outputs": [
    {
     "data": {
      "text/html": [
       "<div>\n",
       "<style scoped>\n",
       "    .dataframe tbody tr th:only-of-type {\n",
       "        vertical-align: middle;\n",
       "    }\n",
       "\n",
       "    .dataframe tbody tr th {\n",
       "        vertical-align: top;\n",
       "    }\n",
       "\n",
       "    .dataframe thead th {\n",
       "        text-align: right;\n",
       "    }\n",
       "</style>\n",
       "<table border=\"1\" class=\"dataframe\">\n",
       "  <thead>\n",
       "    <tr style=\"text-align: right;\">\n",
       "      <th></th>\n",
       "      <th>brand</th>\n",
       "      <th>model</th>\n",
       "      <th>usd_price</th>\n",
       "    </tr>\n",
       "  </thead>\n",
       "  <tbody>\n",
       "    <tr>\n",
       "      <th>5644</th>\n",
       "      <td>Peugeot</td>\n",
       "      <td>206</td>\n",
       "      <td>343137.25</td>\n",
       "    </tr>\n",
       "    <tr>\n",
       "      <th>10156</th>\n",
       "      <td>Ford</td>\n",
       "      <td>Ranger</td>\n",
       "      <td>574509.81</td>\n",
       "    </tr>\n",
       "  </tbody>\n",
       "</table>\n",
       "</div>"
      ],
      "text/plain": [
       "         brand   model  usd_price\n",
       "5644   Peugeot     206  343137.25\n",
       "10156     Ford  Ranger  574509.81"
      ]
     },
     "execution_count": 53,
     "metadata": {},
     "output_type": "execute_result"
    }
   ],
   "source": [
    "#SE EVALUA LA CANTIDAD DE VEHICULOS CPN PRECIOS POR ARRIVA DE LOS 100.000USD\n",
    "df.loc[df.usd_price > 100000, ['brand', 'model', 'usd_price']].round(2)"
   ]
  },
  {
   "cell_type": "code",
   "execution_count": 54,
   "metadata": {},
   "outputs": [
    {
     "name": "stdout",
     "output_type": "stream",
     "text": [
      "Precios mayores a 100.000 USD: 0\n"
     ]
    }
   ],
   "source": [
    "#SE ELIMINAN LOS PRECIOS MAYORES A 100.000USD\n",
    "df = df.loc[df.usd_price < 100000]\n",
    "\n",
    "#CHECK DE VALORES\n",
    "print(f'Precios mayores a 100.000 USD: {df.loc[df.usd_price > 100000].shape[0]}')"
   ]
  },
  {
   "cell_type": "code",
   "execution_count": 55,
   "metadata": {},
   "outputs": [
    {
     "data": {
      "text/plain": [
       "count    12089.000000\n",
       "mean     14154.604071\n",
       "std      10292.293494\n",
       "min        123.000000\n",
       "25%       6900.000000\n",
       "50%      10784.313725\n",
       "75%      18500.000000\n",
       "max      88000.000000\n",
       "Name: usd_price, dtype: float64"
      ]
     },
     "execution_count": 55,
     "metadata": {},
     "output_type": "execute_result"
    }
   ],
   "source": [
    "#INFO DE LA VARIABLE\n",
    "df.usd_price.describe()"
   ]
  },
  {
   "cell_type": "markdown",
   "metadata": {},
   "source": [
    "### Variable ***seller_state***"
   ]
  },
  {
   "cell_type": "code",
   "execution_count": 56,
   "metadata": {},
   "outputs": [
    {
     "data": {
      "text/plain": [
       "array(['Bs.As. G.B.A. Norte', 'Bs.As. G.B.A. Sur', 'Capital Federal',\n",
       "       'Bs.As. G.B.A. Oeste', 'Buenos Aires Interior',\n",
       "       'Bs.As. Costa Atlántica', 'Córdoba', 'Salta', 'San Luis',\n",
       "       'Entre Ríos', 'Santa Fe', 'Mendoza', 'Corrientes', 'La Pampa',\n",
       "       'Neuquén', 'Misiones', 'Chaco', 'Tucumán', 'Santiago del Estero',\n",
       "       'San Juan', 'Chubut', 'Santa Cruz', 'Río Negro', 'Jujuy',\n",
       "       'Formosa', 'Catamarca', 'Tierra del Fuego', 'La Rioja'],\n",
       "      dtype=object)"
      ]
     },
     "execution_count": 56,
     "metadata": {},
     "output_type": "execute_result"
    }
   ],
   "source": [
    "#CHECK DE VALORES UNICOS EN LA VARIABLE\n",
    "df.seller_state.unique()"
   ]
  },
  {
   "cell_type": "code",
   "execution_count": 57,
   "metadata": {},
   "outputs": [
    {
     "data": {
      "text/plain": [
       "array(['Buenos Aires', 'Capital Federal', 'Córdoba', 'Salta', 'San Luis',\n",
       "       'Entre Ríos', 'Santa Fe', 'Mendoza', 'Corrientes', 'La Pampa',\n",
       "       'Neuquén', 'Misiones', 'Chaco', 'Tucumán', 'Santiago del Estero',\n",
       "       'San Juan', 'Chubut', 'Santa Cruz', 'Río Negro', 'Jujuy',\n",
       "       'Formosa', 'Catamarca', 'Tierra del Fuego', 'La Rioja'],\n",
       "      dtype=object)"
      ]
     },
     "execution_count": 57,
     "metadata": {},
     "output_type": "execute_result"
    }
   ],
   "source": [
    "#REEMPLAZO DE VALORES\n",
    "df.seller_state = df.seller_state.str.replace(r'.*Bs\\.As.*', 'Buenos Aires', regex=True)\n",
    "df.seller_state = df.seller_state.str.replace('Buenos Aires Interior', 'Buenos Aires')\n",
    "df.seller_state.unique()"
   ]
  },
  {
   "cell_type": "code",
   "execution_count": 58,
   "metadata": {},
   "outputs": [
    {
     "name": "stdout",
     "output_type": "stream",
     "text": [
      "Cantidad de datos nulos en la variable: 0\n"
     ]
    }
   ],
   "source": [
    "#CHECK DE VALORES NULOS\n",
    "print(f'Cantidad de datos nulos en la variable: {df.seller_state.isna().sum()}')"
   ]
  },
  {
   "cell_type": "markdown",
   "metadata": {},
   "source": [
    "### Variables ***latitude*** y ***longitude***"
   ]
  },
  {
   "cell_type": "code",
   "execution_count": 59,
   "metadata": {},
   "outputs": [],
   "source": [
    "#FUNCION PARA OBTENER LAS COORDENADAS DE UNA CIUDAD\n",
    "def get_location(city, state, country):\n",
    "    geolocator = Nominatim(user_agent='getLocation')\n",
    "    location_string = city + ', ' + state + ', '+ country\n",
    "    location = geolocator.geocode(location_string)\n",
    "    if location is not None:\n",
    "        return location.latitude, location.longitude\n",
    "    else:\n",
    "        return None, None"
   ]
  },
  {
   "cell_type": "code",
   "execution_count": 60,
   "metadata": {},
   "outputs": [
    {
     "data": {
      "text/html": [
       "<div>\n",
       "<style scoped>\n",
       "    .dataframe tbody tr th:only-of-type {\n",
       "        vertical-align: middle;\n",
       "    }\n",
       "\n",
       "    .dataframe tbody tr th {\n",
       "        vertical-align: top;\n",
       "    }\n",
       "\n",
       "    .dataframe thead th {\n",
       "        text-align: right;\n",
       "    }\n",
       "</style>\n",
       "<table border=\"1\" class=\"dataframe\">\n",
       "  <thead>\n",
       "    <tr style=\"text-align: right;\">\n",
       "      <th></th>\n",
       "      <th>seller_country</th>\n",
       "      <th>seller_state</th>\n",
       "      <th>seller_city</th>\n",
       "      <th>count</th>\n",
       "    </tr>\n",
       "  </thead>\n",
       "  <tbody>\n",
       "    <tr>\n",
       "      <th>0</th>\n",
       "      <td>Argentina</td>\n",
       "      <td>Buenos Aires</td>\n",
       "      <td>25 de Mayo</td>\n",
       "      <td>2</td>\n",
       "    </tr>\n",
       "    <tr>\n",
       "      <th>1</th>\n",
       "      <td>Argentina</td>\n",
       "      <td>Buenos Aires</td>\n",
       "      <td>9 de Julio</td>\n",
       "      <td>14</td>\n",
       "    </tr>\n",
       "    <tr>\n",
       "      <th>2</th>\n",
       "      <td>Argentina</td>\n",
       "      <td>Buenos Aires</td>\n",
       "      <td>Adolfo Alsina</td>\n",
       "      <td>2</td>\n",
       "    </tr>\n",
       "    <tr>\n",
       "      <th>3</th>\n",
       "      <td>Argentina</td>\n",
       "      <td>Buenos Aires</td>\n",
       "      <td>Almirante Brown</td>\n",
       "      <td>154</td>\n",
       "    </tr>\n",
       "    <tr>\n",
       "      <th>4</th>\n",
       "      <td>Argentina</td>\n",
       "      <td>Buenos Aires</td>\n",
       "      <td>Arrecifes</td>\n",
       "      <td>14</td>\n",
       "    </tr>\n",
       "  </tbody>\n",
       "</table>\n",
       "</div>"
      ],
      "text/plain": [
       "  seller_country  seller_state      seller_city  count\n",
       "0      Argentina  Buenos Aires       25 de Mayo      2\n",
       "1      Argentina  Buenos Aires       9 de Julio     14\n",
       "2      Argentina  Buenos Aires    Adolfo Alsina      2\n",
       "3      Argentina  Buenos Aires  Almirante Brown    154\n",
       "4      Argentina  Buenos Aires        Arrecifes     14"
      ]
     },
     "execution_count": 60,
     "metadata": {},
     "output_type": "execute_result"
    }
   ],
   "source": [
    "#SE AGRUPAN LOS VALORES DE LA CIUDAD PARA REDUCIR LAS CONSULTAS\n",
    "df_location = df.groupby(['seller_country', 'seller_state', 'seller_city'])['seller_city'].size().reset_index(name='count')\n",
    "df_location.head()"
   ]
  },
  {
   "cell_type": "code",
   "execution_count": 61,
   "metadata": {},
   "outputs": [
    {
     "data": {
      "text/html": [
       "<div>\n",
       "<style scoped>\n",
       "    .dataframe tbody tr th:only-of-type {\n",
       "        vertical-align: middle;\n",
       "    }\n",
       "\n",
       "    .dataframe tbody tr th {\n",
       "        vertical-align: top;\n",
       "    }\n",
       "\n",
       "    .dataframe thead th {\n",
       "        text-align: right;\n",
       "    }\n",
       "</style>\n",
       "<table border=\"1\" class=\"dataframe\">\n",
       "  <thead>\n",
       "    <tr style=\"text-align: right;\">\n",
       "      <th></th>\n",
       "      <th>seller_state</th>\n",
       "      <th>seller_city</th>\n",
       "      <th>Latitude</th>\n",
       "      <th>longitude</th>\n",
       "    </tr>\n",
       "  </thead>\n",
       "  <tbody>\n",
       "    <tr>\n",
       "      <th>0</th>\n",
       "      <td>Buenos Aires</td>\n",
       "      <td>25 de Mayo</td>\n",
       "      <td>-37.547500</td>\n",
       "      <td>-62.778506</td>\n",
       "    </tr>\n",
       "    <tr>\n",
       "      <th>1</th>\n",
       "      <td>Buenos Aires</td>\n",
       "      <td>9 de Julio</td>\n",
       "      <td>-35.443920</td>\n",
       "      <td>-60.884584</td>\n",
       "    </tr>\n",
       "    <tr>\n",
       "      <th>2</th>\n",
       "      <td>Buenos Aires</td>\n",
       "      <td>Adolfo Alsina</td>\n",
       "      <td>-34.586319</td>\n",
       "      <td>-58.393838</td>\n",
       "    </tr>\n",
       "    <tr>\n",
       "      <th>3</th>\n",
       "      <td>Buenos Aires</td>\n",
       "      <td>Almirante Brown</td>\n",
       "      <td>-34.579634</td>\n",
       "      <td>-60.967745</td>\n",
       "    </tr>\n",
       "    <tr>\n",
       "      <th>4</th>\n",
       "      <td>Buenos Aires</td>\n",
       "      <td>Arrecifes</td>\n",
       "      <td>-34.067204</td>\n",
       "      <td>-60.102995</td>\n",
       "    </tr>\n",
       "  </tbody>\n",
       "</table>\n",
       "</div>"
      ],
      "text/plain": [
       "   seller_state      seller_city   Latitude  longitude\n",
       "0  Buenos Aires       25 de Mayo -37.547500 -62.778506\n",
       "1  Buenos Aires       9 de Julio -35.443920 -60.884584\n",
       "2  Buenos Aires    Adolfo Alsina -34.586319 -58.393838\n",
       "3  Buenos Aires  Almirante Brown -34.579634 -60.967745\n",
       "4  Buenos Aires        Arrecifes -34.067204 -60.102995"
      ]
     },
     "execution_count": 61,
     "metadata": {},
     "output_type": "execute_result"
    }
   ],
   "source": [
    "#OBTENCION DE COORDENADAS PARA LAS CIUDADES\n",
    "df_location[['Latitude', 'longitude']] = df_location.apply( lambda x: \n",
    "                                                            pd.Series(get_location( x.seller_city,x.seller_state,x.seller_country)),\n",
    "                                                            axis=1)\n",
    "\n",
    "#SE ELIMINA LA COLUMNA PAIS YA QUE TIENE UN SOLO VALOR\n",
    "df_location.drop(columns=['seller_country', 'count'], inplace=True)\n",
    "df_location.head()"
   ]
  },
  {
   "cell_type": "code",
   "execution_count": 62,
   "metadata": {},
   "outputs": [
    {
     "name": "stdout",
     "output_type": "stream",
     "text": [
      "<class 'pandas.core.frame.DataFrame'>\n",
      "RangeIndex: 12089 entries, 0 to 12088\n",
      "Data columns (total 26 columns):\n",
      " #   Column               Non-Null Count  Dtype  \n",
      "---  ------               --------------  -----  \n",
      " 0   id                   12089 non-null  object \n",
      " 1   category_id          12089 non-null  object \n",
      " 2   title                12089 non-null  object \n",
      " 3   is_new               12089 non-null  int32  \n",
      " 4   car_year             12089 non-null  int64  \n",
      " 5   brand                12089 non-null  object \n",
      " 6   model                12089 non-null  object \n",
      " 7   version              12089 non-null  object \n",
      " 8   engine               12089 non-null  float64\n",
      " 9   engine_power         12089 non-null  float64\n",
      " 10  doors                12089 non-null  int64  \n",
      " 11  km                   12089 non-null  int32  \n",
      " 12  fuel_type            12089 non-null  object \n",
      " 13  traction_control     12089 non-null  object \n",
      " 14  passenger_capacity   12089 non-null  float64\n",
      " 15  transmission         12089 non-null  object \n",
      " 16  usd_price            12089 non-null  float64\n",
      " 17  seller_id            12089 non-null  int64  \n",
      " 18  seller_nickname      12089 non-null  object \n",
      " 19  is_car_shop          12089 non-null  bool   \n",
      " 20  seller_country       12089 non-null  object \n",
      " 21  seller_state         12089 non-null  object \n",
      " 22  seller_city          12089 non-null  object \n",
      " 23  seller_neighborhood  7453 non-null   object \n",
      " 24  Latitude             12088 non-null  float64\n",
      " 25  longitude            12088 non-null  float64\n",
      "dtypes: bool(1), float64(6), int32(2), int64(3), object(14)\n",
      "memory usage: 2.2+ MB\n"
     ]
    }
   ],
   "source": [
    "#SE UNEN LOS DATAFRAME\n",
    "df = pd.merge(df, df_location, on=['seller_state', 'seller_city'])\n",
    "df.info()"
   ]
  },
  {
   "cell_type": "markdown",
   "metadata": {},
   "source": [
    "### Variable ***is_car_shop***"
   ]
  },
  {
   "cell_type": "code",
   "execution_count": 63,
   "metadata": {},
   "outputs": [
    {
     "data": {
      "text/plain": [
       "array(['False', 'True'], dtype=object)"
      ]
     },
     "execution_count": 63,
     "metadata": {},
     "output_type": "execute_result"
    }
   ],
   "source": [
    "#CHECK DE VALORES UNICOS DE LA VARIABLE\n",
    "df.is_car_shop = df.is_car_shop.astype(str)\n",
    "df.is_car_shop.unique()"
   ]
  },
  {
   "cell_type": "code",
   "execution_count": 64,
   "metadata": {},
   "outputs": [],
   "source": [
    "#REEMPLAZO DE VALORES\n",
    "df.is_car_shop = df.is_car_shop.str.replace('False', '0')\n",
    "df.is_car_shop = df.is_car_shop.str.replace('True', '1')\n",
    "df.is_car_shop = df.is_car_shop.astype(int)"
   ]
  },
  {
   "cell_type": "markdown",
   "metadata": {},
   "source": [
    "### Variables a ***eliminar***"
   ]
  },
  {
   "cell_type": "markdown",
   "metadata": {},
   "source": [
    "#### Variable ***category_id***"
   ]
  },
  {
   "cell_type": "code",
   "execution_count": 65,
   "metadata": {},
   "outputs": [
    {
     "data": {
      "text/plain": [
       "array(['MLA1744'], dtype=object)"
      ]
     },
     "execution_count": 65,
     "metadata": {},
     "output_type": "execute_result"
    }
   ],
   "source": [
    "#CHECK DE VALORES UNICOS PARA LA VARIABLE\n",
    "df.category_id.unique()"
   ]
  },
  {
   "cell_type": "code",
   "execution_count": 66,
   "metadata": {},
   "outputs": [],
   "source": [
    "#SE ELIMINA LA VARIABLE YA QUE SU VALOR SIEMPRE ES EL MISMO\n",
    "df.drop(columns='category_id', inplace=True)"
   ]
  },
  {
   "cell_type": "markdown",
   "metadata": {},
   "source": [
    "#### Variable ***title***"
   ]
  },
  {
   "cell_type": "code",
   "execution_count": 67,
   "metadata": {},
   "outputs": [],
   "source": [
    "#SE ELIMINA LA VARIABLE\n",
    "df.drop(columns='title', inplace=True)"
   ]
  },
  {
   "cell_type": "markdown",
   "metadata": {},
   "source": [
    "#### Variables ***seller_id***, ***seller_nickname*** y ***seller_neighborhood***"
   ]
  },
  {
   "cell_type": "code",
   "execution_count": 68,
   "metadata": {},
   "outputs": [],
   "source": [
    "#SE ELIMINAN LAS VARIABLES DEL VENDEDOR QUE APORTAN VALOR\n",
    "df.drop(columns=['seller_id', 'seller_nickname', 'seller_neighborhood'], inplace=True)"
   ]
  },
  {
   "cell_type": "markdown",
   "metadata": {},
   "source": [
    "### Tratamiento de variables ***cualitativas***"
   ]
  },
  {
   "cell_type": "code",
   "execution_count": 69,
   "metadata": {},
   "outputs": [
    {
     "name": "stdout",
     "output_type": "stream",
     "text": [
      "brand: 8 valores unicos\n",
      "model: 49 valores unicos\n",
      "version: 1954 valores unicos\n",
      "fuel_type: 5 valores unicos\n",
      "traction_control: 5 valores unicos\n",
      "transmission: 3 valores unicos\n"
     ]
    }
   ],
   "source": [
    "#SE MUESTRAN LA CANTIDAD DE VALORES UNICOS PARA LAS VARIABLES CUALITATIVAS\n",
    "not_var = ['id','seller_state','seller_city','seller_country']\n",
    "\n",
    "cat_var = [col for col in df.columns if (col not in not_var) and (df[col].dtype == 'object')]\n",
    "\n",
    "for var in cat_var:\n",
    "    print(f'{var}: {df[var].nunique()} valores unicos')"
   ]
  },
  {
   "cell_type": "code",
   "execution_count": 70,
   "metadata": {},
   "outputs": [],
   "source": [
    "#IMPORTACION DE LIBRERIA\n",
    "from sklearn.preprocessing import LabelEncoder\n",
    "\n",
    "#CODIFICACION DE VARIABLES CUALITATIVAS\n",
    "for var in cat_var:\n",
    "    if var != 'version':\n",
    "        pos_var = df.columns.get_loc(var)+1\n",
    "        name_var = var+'_cod'\n",
    "        df.insert(column=name_var, loc=pos_var, value=LabelEncoder().fit_transform(df[var]))"
   ]
  },
  {
   "cell_type": "code",
   "execution_count": 71,
   "metadata": {},
   "outputs": [
    {
     "name": "stdout",
     "output_type": "stream",
     "text": [
      "<class 'pandas.core.frame.DataFrame'>\n",
      "RangeIndex: 12089 entries, 0 to 12088\n",
      "Data columns (total 26 columns):\n",
      " #   Column                Non-Null Count  Dtype  \n",
      "---  ------                --------------  -----  \n",
      " 0   id                    12089 non-null  object \n",
      " 1   is_new                12089 non-null  int32  \n",
      " 2   car_year              12089 non-null  int64  \n",
      " 3   brand                 12089 non-null  object \n",
      " 4   brand_cod             12089 non-null  int32  \n",
      " 5   model                 12089 non-null  object \n",
      " 6   model_cod             12089 non-null  int32  \n",
      " 7   version               12089 non-null  object \n",
      " 8   engine                12089 non-null  float64\n",
      " 9   engine_power          12089 non-null  float64\n",
      " 10  doors                 12089 non-null  int64  \n",
      " 11  km                    12089 non-null  int32  \n",
      " 12  fuel_type             12089 non-null  object \n",
      " 13  fuel_type_cod         12089 non-null  int32  \n",
      " 14  traction_control      12089 non-null  object \n",
      " 15  traction_control_cod  12089 non-null  int32  \n",
      " 16  passenger_capacity    12089 non-null  float64\n",
      " 17  transmission          12089 non-null  object \n",
      " 18  transmission_cod      12089 non-null  int32  \n",
      " 19  usd_price             12089 non-null  float64\n",
      " 20  is_car_shop           12089 non-null  int32  \n",
      " 21  seller_country        12089 non-null  object \n",
      " 22  seller_state          12089 non-null  object \n",
      " 23  seller_city           12089 non-null  object \n",
      " 24  Latitude              12088 non-null  float64\n",
      " 25  longitude             12088 non-null  float64\n",
      "dtypes: float64(6), int32(8), int64(2), object(10)\n",
      "memory usage: 2.0+ MB\n"
     ]
    }
   ],
   "source": [
    "#INFO DE LA VARIABLE\n",
    "df.info()"
   ]
  },
  {
   "cell_type": "markdown",
   "metadata": {},
   "source": [
    "### Guardado Provisorio"
   ]
  },
  {
   "cell_type": "code",
   "execution_count": 72,
   "metadata": {},
   "outputs": [],
   "source": [
    "#df.to_csv('publications_clean.csv', index=False)"
   ]
  }
 ],
 "metadata": {
  "kernelspec": {
   "display_name": "Python 3",
   "language": "python",
   "name": "python3"
  },
  "language_info": {
   "codemirror_mode": {
    "name": "ipython",
    "version": 3
   },
   "file_extension": ".py",
   "mimetype": "text/x-python",
   "name": "python",
   "nbconvert_exporter": "python",
   "pygments_lexer": "ipython3",
   "version": "3.12.2"
  }
 },
 "nbformat": 4,
 "nbformat_minor": 2
}
