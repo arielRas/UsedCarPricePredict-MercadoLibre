{
 "cells": [
  {
   "cell_type": "markdown",
   "metadata": {},
   "source": [
    "## Librerias y funciones"
   ]
  },
  {
   "cell_type": "code",
   "execution_count": 1,
   "metadata": {},
   "outputs": [],
   "source": [
    "import pandas as pd\n",
    "import seaborn as sns\n",
    "import re\n",
    "from matplotlib import pyplot as plt\n",
    "from scipy import stats\n",
    "from geopy.geocoders import Nominatim"
   ]
  },
  {
   "cell_type": "code",
   "execution_count": 2,
   "metadata": {},
   "outputs": [],
   "source": [
    "#FUNCION PARA COMPARAR DENSIDAD DE DISTRIBUCIONES ANTES Y DESPUES DE IMPUTAR\n",
    "def comparison_dist(data_1:pd.Series, data_2:pd.Series, action:str, x_label:str, fig_size:tuple):\n",
    "    plt.style.use(\"bmh\")    \n",
    "    fig, ax = plt.subplots(ncols=2, nrows=1, figsize=fig_size)\n",
    "\n",
    "    #GRAFICO 1\n",
    "    sns.kdeplot(x=data_1, ax=ax[0])\n",
    "    ax[0].set_title('Distribucion original')\n",
    "    ax[0].set_xlabel(x_label)\n",
    "\n",
    "    #GRAFICO 2\n",
    "    sns.kdeplot(data=data_2, ax=ax[1])\n",
    "    ax[1].set_xlabel(x_label)\n",
    "    ax[1].set_title(f'Distribucion despues de {action}') #ACTION(IMPUTAR, ELIMINAR)\n",
    "\n",
    "    #PLOTEO\n",
    "    plt.tight_layout()\n",
    "    plt.show()\n",
    "    plt.style.use(\"default\")"
   ]
  },
  {
   "cell_type": "markdown",
   "metadata": {},
   "source": [
    "## Exploracion de dataset"
   ]
  },
  {
   "cell_type": "code",
   "execution_count": 3,
   "metadata": {},
   "outputs": [
    {
     "data": {
      "text/html": [
       "<div>\n",
       "<style scoped>\n",
       "    .dataframe tbody tr th:only-of-type {\n",
       "        vertical-align: middle;\n",
       "    }\n",
       "\n",
       "    .dataframe tbody tr th {\n",
       "        vertical-align: top;\n",
       "    }\n",
       "\n",
       "    .dataframe thead th {\n",
       "        text-align: right;\n",
       "    }\n",
       "</style>\n",
       "<table border=\"1\" class=\"dataframe\">\n",
       "  <thead>\n",
       "    <tr style=\"text-align: right;\">\n",
       "      <th></th>\n",
       "      <th>id</th>\n",
       "      <th>category_id</th>\n",
       "      <th>title</th>\n",
       "      <th>condition</th>\n",
       "      <th>car_year</th>\n",
       "      <th>brand</th>\n",
       "      <th>model</th>\n",
       "      <th>version</th>\n",
       "      <th>engine</th>\n",
       "      <th>engine_power</th>\n",
       "      <th>...</th>\n",
       "      <th>transmission</th>\n",
       "      <th>currency</th>\n",
       "      <th>price</th>\n",
       "      <th>seller_id</th>\n",
       "      <th>seller_nickname</th>\n",
       "      <th>is_car_shop</th>\n",
       "      <th>seller_country</th>\n",
       "      <th>seller_state</th>\n",
       "      <th>seller_city</th>\n",
       "      <th>seller_neighborhood</th>\n",
       "    </tr>\n",
       "  </thead>\n",
       "  <tbody>\n",
       "    <tr>\n",
       "      <th>0</th>\n",
       "      <td>MLA1767503710</td>\n",
       "      <td>MLA1744</td>\n",
       "      <td>Volkswagen Gol Power</td>\n",
       "      <td>Usado</td>\n",
       "      <td>2008</td>\n",
       "      <td>Volkswagen</td>\n",
       "      <td>Gol</td>\n",
       "      <td>1.9 Sd Power 701</td>\n",
       "      <td>1.9</td>\n",
       "      <td>64 hp</td>\n",
       "      <td>...</td>\n",
       "      <td>Manual</td>\n",
       "      <td>USD</td>\n",
       "      <td>5200</td>\n",
       "      <td>1601211580</td>\n",
       "      <td>TIERRADEAUTOS</td>\n",
       "      <td>False</td>\n",
       "      <td>Argentina</td>\n",
       "      <td>Bs.As. G.B.A. Sur</td>\n",
       "      <td>Avellaneda</td>\n",
       "      <td>Villa Domínico</td>\n",
       "    </tr>\n",
       "    <tr>\n",
       "      <th>1</th>\n",
       "      <td>MLA1776550792</td>\n",
       "      <td>MLA1744</td>\n",
       "      <td>Volkswagen Gol 2012 1.4 Power Ps+ac 83cv</td>\n",
       "      <td>Usado</td>\n",
       "      <td>2012</td>\n",
       "      <td>Volkswagen</td>\n",
       "      <td>Gol</td>\n",
       "      <td>1.4 Power Ps+ac 83cv</td>\n",
       "      <td>1.4</td>\n",
       "      <td>83 hp</td>\n",
       "      <td>...</td>\n",
       "      <td>Manual</td>\n",
       "      <td>USD</td>\n",
       "      <td>6250</td>\n",
       "      <td>146472306</td>\n",
       "      <td>ARIEL_RICCI</td>\n",
       "      <td>False</td>\n",
       "      <td>Argentina</td>\n",
       "      <td>Capital Federal</td>\n",
       "      <td>Capital Federal</td>\n",
       "      <td>None</td>\n",
       "    </tr>\n",
       "    <tr>\n",
       "      <th>2</th>\n",
       "      <td>MLA1776084372</td>\n",
       "      <td>MLA1744</td>\n",
       "      <td>Volkswagen Gol 1.6 I Power /// 2010 - 140.000km</td>\n",
       "      <td>Usado</td>\n",
       "      <td>2010</td>\n",
       "      <td>Volkswagen</td>\n",
       "      <td>Gol</td>\n",
       "      <td>1.6 I Power 701</td>\n",
       "      <td>1.6</td>\n",
       "      <td>92 hp</td>\n",
       "      <td>...</td>\n",
       "      <td>Manual</td>\n",
       "      <td>USD</td>\n",
       "      <td>6000</td>\n",
       "      <td>77745224</td>\n",
       "      <td>CAR.ANT</td>\n",
       "      <td>False</td>\n",
       "      <td>Argentina</td>\n",
       "      <td>Bs.As. G.B.A. Norte</td>\n",
       "      <td>San Isidro</td>\n",
       "      <td>None</td>\n",
       "    </tr>\n",
       "  </tbody>\n",
       "</table>\n",
       "<p>3 rows × 25 columns</p>\n",
       "</div>"
      ],
      "text/plain": [
       "              id category_id                                            title  \\\n",
       "0  MLA1767503710     MLA1744                             Volkswagen Gol Power   \n",
       "1  MLA1776550792     MLA1744         Volkswagen Gol 2012 1.4 Power Ps+ac 83cv   \n",
       "2  MLA1776084372     MLA1744  Volkswagen Gol 1.6 I Power /// 2010 - 140.000km   \n",
       "\n",
       "  condition  car_year       brand model               version engine  \\\n",
       "0     Usado      2008  Volkswagen   Gol      1.9 Sd Power 701    1.9   \n",
       "1     Usado      2012  Volkswagen   Gol  1.4 Power Ps+ac 83cv    1.4   \n",
       "2     Usado      2010  Volkswagen   Gol       1.6 I Power 701    1.6   \n",
       "\n",
       "  engine_power  ...  transmission currency price   seller_id  seller_nickname  \\\n",
       "0        64 hp  ...        Manual      USD  5200  1601211580    TIERRADEAUTOS   \n",
       "1        83 hp  ...        Manual      USD  6250   146472306      ARIEL_RICCI   \n",
       "2        92 hp  ...        Manual      USD  6000    77745224          CAR.ANT   \n",
       "\n",
       "  is_car_shop seller_country         seller_state      seller_city  \\\n",
       "0       False      Argentina    Bs.As. G.B.A. Sur       Avellaneda   \n",
       "1       False      Argentina      Capital Federal  Capital Federal   \n",
       "2       False      Argentina  Bs.As. G.B.A. Norte       San Isidro   \n",
       "\n",
       "  seller_neighborhood  \n",
       "0      Villa Domínico  \n",
       "1                None  \n",
       "2                None  \n",
       "\n",
       "[3 rows x 25 columns]"
      ]
     },
     "execution_count": 3,
     "metadata": {},
     "output_type": "execute_result"
    }
   ],
   "source": [
    "df = pd.read_json('MeliCarPublicactions.json')\n",
    "df.head(3)"
   ]
  },
  {
   "cell_type": "code",
   "execution_count": 4,
   "metadata": {},
   "outputs": [
    {
     "name": "stdout",
     "output_type": "stream",
     "text": [
      "<class 'pandas.core.frame.DataFrame'>\n",
      "Index: 14799 entries, 0 to 14798\n",
      "Data columns (total 25 columns):\n",
      " #   Column               Non-Null Count  Dtype  \n",
      "---  ------               --------------  -----  \n",
      " 0   id                   14799 non-null  object \n",
      " 1   category_id          14799 non-null  object \n",
      " 2   title                14799 non-null  object \n",
      " 3   condition            14799 non-null  object \n",
      " 4   car_year             14799 non-null  int64  \n",
      " 5   brand                14799 non-null  object \n",
      " 6   model                14799 non-null  object \n",
      " 7   version              14799 non-null  object \n",
      " 8   engine               14421 non-null  object \n",
      " 9   engine_power         13852 non-null  object \n",
      " 10  doors                14799 non-null  int64  \n",
      " 11  km                   14799 non-null  object \n",
      " 12  fuel_type            14799 non-null  object \n",
      " 13  traction_control     14359 non-null  object \n",
      " 14  passenger_capacity   13764 non-null  float64\n",
      " 15  transmission         14449 non-null  object \n",
      " 16  currency             14799 non-null  object \n",
      " 17  price                14799 non-null  int64  \n",
      " 18  seller_id            14799 non-null  int64  \n",
      " 19  seller_nickname      14799 non-null  object \n",
      " 20  is_car_shop          14799 non-null  bool   \n",
      " 21  seller_country       14799 non-null  object \n",
      " 22  seller_state         14799 non-null  object \n",
      " 23  seller_city          14799 non-null  object \n",
      " 24  seller_neighborhood  8675 non-null   object \n",
      "dtypes: bool(1), float64(1), int64(4), object(19)\n",
      "memory usage: 2.8+ MB\n"
     ]
    }
   ],
   "source": [
    "df.info()"
   ]
  },
  {
   "cell_type": "code",
   "execution_count": 5,
   "metadata": {},
   "outputs": [
    {
     "data": {
      "text/html": [
       "<div>\n",
       "<style scoped>\n",
       "    .dataframe tbody tr th:only-of-type {\n",
       "        vertical-align: middle;\n",
       "    }\n",
       "\n",
       "    .dataframe tbody tr th {\n",
       "        vertical-align: top;\n",
       "    }\n",
       "\n",
       "    .dataframe thead th {\n",
       "        text-align: right;\n",
       "    }\n",
       "</style>\n",
       "<table border=\"1\" class=\"dataframe\">\n",
       "  <thead>\n",
       "    <tr style=\"text-align: right;\">\n",
       "      <th></th>\n",
       "      <th>car_year</th>\n",
       "      <th>doors</th>\n",
       "      <th>passenger_capacity</th>\n",
       "      <th>price</th>\n",
       "      <th>seller_id</th>\n",
       "    </tr>\n",
       "  </thead>\n",
       "  <tbody>\n",
       "    <tr>\n",
       "      <th>count</th>\n",
       "      <td>14799.000000</td>\n",
       "      <td>14799.000000</td>\n",
       "      <td>13764.000000</td>\n",
       "      <td>1.479900e+04</td>\n",
       "      <td>1.479900e+04</td>\n",
       "    </tr>\n",
       "    <tr>\n",
       "      <th>mean</th>\n",
       "      <td>2076.321778</td>\n",
       "      <td>8.465977</td>\n",
       "      <td>4.981401</td>\n",
       "      <td>9.635560e+06</td>\n",
       "      <td>3.503775e+08</td>\n",
       "    </tr>\n",
       "    <tr>\n",
       "      <th>std</th>\n",
       "      <td>5192.361491</td>\n",
       "      <td>495.159016</td>\n",
       "      <td>0.233632</td>\n",
       "      <td>1.165772e+07</td>\n",
       "      <td>3.885844e+08</td>\n",
       "    </tr>\n",
       "    <tr>\n",
       "      <th>min</th>\n",
       "      <td>1990.000000</td>\n",
       "      <td>2.000000</td>\n",
       "      <td>2.000000</td>\n",
       "      <td>1.230000e+02</td>\n",
       "      <td>7.465000e+03</td>\n",
       "    </tr>\n",
       "    <tr>\n",
       "      <th>25%</th>\n",
       "      <td>2012.000000</td>\n",
       "      <td>4.000000</td>\n",
       "      <td>5.000000</td>\n",
       "      <td>1.300000e+04</td>\n",
       "      <td>9.690481e+07</td>\n",
       "    </tr>\n",
       "    <tr>\n",
       "      <th>50%</th>\n",
       "      <td>2016.000000</td>\n",
       "      <td>4.000000</td>\n",
       "      <td>5.000000</td>\n",
       "      <td>6.743100e+06</td>\n",
       "      <td>2.063930e+08</td>\n",
       "    </tr>\n",
       "    <tr>\n",
       "      <th>75%</th>\n",
       "      <td>2021.000000</td>\n",
       "      <td>5.000000</td>\n",
       "      <td>5.000000</td>\n",
       "      <td>1.550000e+07</td>\n",
       "      <td>4.246296e+08</td>\n",
       "    </tr>\n",
       "    <tr>\n",
       "      <th>max</th>\n",
       "      <td>460382.000000</td>\n",
       "      <td>60241.000000</td>\n",
       "      <td>7.000000</td>\n",
       "      <td>1.672980e+08</td>\n",
       "      <td>1.813344e+09</td>\n",
       "    </tr>\n",
       "  </tbody>\n",
       "</table>\n",
       "</div>"
      ],
      "text/plain": [
       "            car_year         doors  passenger_capacity         price  \\\n",
       "count   14799.000000  14799.000000        13764.000000  1.479900e+04   \n",
       "mean     2076.321778      8.465977            4.981401  9.635560e+06   \n",
       "std      5192.361491    495.159016            0.233632  1.165772e+07   \n",
       "min      1990.000000      2.000000            2.000000  1.230000e+02   \n",
       "25%      2012.000000      4.000000            5.000000  1.300000e+04   \n",
       "50%      2016.000000      4.000000            5.000000  6.743100e+06   \n",
       "75%      2021.000000      5.000000            5.000000  1.550000e+07   \n",
       "max    460382.000000  60241.000000            7.000000  1.672980e+08   \n",
       "\n",
       "          seller_id  \n",
       "count  1.479900e+04  \n",
       "mean   3.503775e+08  \n",
       "std    3.885844e+08  \n",
       "min    7.465000e+03  \n",
       "25%    9.690481e+07  \n",
       "50%    2.063930e+08  \n",
       "75%    4.246296e+08  \n",
       "max    1.813344e+09  "
      ]
     },
     "execution_count": 5,
     "metadata": {},
     "output_type": "execute_result"
    }
   ],
   "source": [
    "df.describe()"
   ]
  },
  {
   "cell_type": "markdown",
   "metadata": {},
   "source": [
    "## DataWrangling"
   ]
  },
  {
   "cell_type": "markdown",
   "metadata": {},
   "source": [
    "### Variable ***condition***"
   ]
  },
  {
   "cell_type": "code",
   "execution_count": 6,
   "metadata": {},
   "outputs": [
    {
     "data": {
      "text/plain": [
       "condition\n",
       "Usado    12196\n",
       "Nuevo     2603\n",
       "Name: count, dtype: int64"
      ]
     },
     "execution_count": 6,
     "metadata": {},
     "output_type": "execute_result"
    }
   ],
   "source": [
    "#CONTEO DE VALORES UNICOS EN LA VARIABLE\n",
    "df.condition.value_counts()"
   ]
  },
  {
   "cell_type": "code",
   "execution_count": 7,
   "metadata": {},
   "outputs": [],
   "source": [
    "#REEMPLAZO DE VALORES Y CAMBIO DE TIPO DE DATO\n",
    "df = df.loc[df.condition == 'Usado']\n",
    "df.drop(columns=['condition'], inplace=True)\n",
    "df = df.reset_index()"
   ]
  },
  {
   "cell_type": "markdown",
   "metadata": {},
   "source": [
    "### Variable ***car_year***"
   ]
  },
  {
   "cell_type": "code",
   "execution_count": 8,
   "metadata": {},
   "outputs": [
    {
     "data": {
      "text/plain": [
       "count     12196.000000\n",
       "mean       2087.595605\n",
       "std        5719.666835\n",
       "min        1990.000000\n",
       "25%        2011.000000\n",
       "50%        2015.000000\n",
       "75%        2018.000000\n",
       "max      460382.000000\n",
       "Name: car_year, dtype: float64"
      ]
     },
     "execution_count": 8,
     "metadata": {},
     "output_type": "execute_result"
    }
   ],
   "source": [
    "#CHECK DE VALORES EN LA VARIABLE\n",
    "df.car_year.describe()"
   ]
  },
  {
   "cell_type": "code",
   "execution_count": 9,
   "metadata": {},
   "outputs": [
    {
     "data": {
      "text/plain": [
       "count    12194.000000\n",
       "mean      2014.373626\n",
       "std          5.414984\n",
       "min       1990.000000\n",
       "25%       2011.000000\n",
       "50%       2015.000000\n",
       "75%       2018.000000\n",
       "max       2024.000000\n",
       "Name: car_year, dtype: float64"
      ]
     },
     "execution_count": 9,
     "metadata": {},
     "output_type": "execute_result"
    }
   ],
   "source": [
    "#SE QUITAN LOS AÑOS MAYORES A 2024\n",
    "df = df.loc[df.car_year <= 2024]\n",
    "\n",
    "#CHECK DE VALORES EN LA VARIABLE\n",
    "df.car_year.describe()"
   ]
  },
  {
   "cell_type": "markdown",
   "metadata": {},
   "source": [
    "### Variable ***model***"
   ]
  },
  {
   "cell_type": "code",
   "execution_count": 10,
   "metadata": {},
   "outputs": [
    {
     "data": {
      "text/plain": [
       "array(['Gol', 'Gol Trend', 'Up!', 'Bora', 'Vento', 'Polo', 'Amarok',\n",
       "       'Golf', 'Corsa', 'Onix', 'Agile', 'Prisma', 'Cruze', 'Aveo G3',\n",
       "       'Aveo', 'Tracker', 'Clio', 'Sandero', 'Fluence', 'Logan',\n",
       "       'Kangoo 2', 'Captur', 'Kangoo', 'Master', 'Captur Bose', 'Duster',\n",
       "       '206', '207', '208', '307', '308', '407', '408', 'Cronos', 'Pulse',\n",
       "       'Argo', 'ARGO PRECISION 1.8', 'Toro', 'Palio', 'Siena', 'Uno',\n",
       "       'Fiesta', 'Ecosport', 'Ka', 'Ranger', 'Ranger Raptor',\n",
       "       'RANGER FX4', 'Focus III', 'Focus II', 'Focus', 'Focus 2',\n",
       "       'Focus 5p AT SE PLUS', 'Etios', 'Hilux', 'Hilux Pick-Up', 'SW4',\n",
       "       'Hilux SW4', 'Corolla', 'Yaris', 'Civic', 'City', 'CR-V', 'Zr-v',\n",
       "       'HR-V', 'CRV'], dtype=object)"
      ]
     },
     "execution_count": 10,
     "metadata": {},
     "output_type": "execute_result"
    }
   ],
   "source": [
    "#CHECK DE VALORES UNICOS EN LA VARIABLE\n",
    "df.model.unique()"
   ]
  },
  {
   "cell_type": "code",
   "execution_count": 11,
   "metadata": {},
   "outputs": [
    {
     "data": {
      "text/plain": [
       "array(['Gol', 'Gol Trend', 'Up!', 'Bora', 'Vento', 'Polo', 'Amarok',\n",
       "       'Golf', 'Corsa', 'Onix', 'Agile', 'Prisma', 'Cruze', 'Aveo',\n",
       "       'Tracker', 'Clio', 'Sandero', 'Fluence', 'Logan', 'Kangoo',\n",
       "       'Captur', 'Master', 'Duster', '206', '207', '208', '307', '308',\n",
       "       '407', '408', 'Cronos', 'Pulse', 'Argo', 'Toro', 'Palio', 'Siena',\n",
       "       'Uno', 'Fiesta', 'Ecosport', 'Ka', 'Ranger', 'Focus', 'Etios',\n",
       "       'Hilux', 'Corolla', 'Yaris', 'Civic', 'City', 'CR-V', 'Zr-v',\n",
       "       'HR-V'], dtype=object)"
      ]
     },
     "execution_count": 11,
     "metadata": {},
     "output_type": "execute_result"
    }
   ],
   "source": [
    "#REEMPLAZO DE VALORES\n",
    "df.model = df.model.str.replace(r'.*Argo.*|.*ARGO.*', 'Argo', regex=True)\n",
    "df.model = df.model.str.replace(r'.*Captur.*|.*CAPTUR.*', 'Captur', regex=True)\n",
    "df.model = df.model.str.replace(r'.*Focus.*|.*FOCUS.*|.*focus.*', 'Focus', regex=True)\n",
    "df.model = df.model.str.replace(r'.*Ranger.*|.*RANGER.*', 'Ranger', regex=True)\n",
    "df.model = df.model.str.replace(r'.*Hilux.*|.*HILUX.*', 'Hilux', regex=True)\n",
    "df.model = df.model.str.replace(r'.*Fiesta.*|.*FIESTA.*', 'Fiesta', regex=True)\n",
    "df.model = df.model.str.replace(r'.*Aveo.*|.*AVEO.*', 'Aveo', regex=True)\n",
    "df.model = df.model.str.replace(r'.*Kangoo.*', 'Kangoo', regex=True)\n",
    "df.model = df.model.str.replace('SW4', 'Hilux')\n",
    "df.model = df.model.str.replace('CRV', 'CR-V')\n",
    "df.model.unique()"
   ]
  },
  {
   "cell_type": "markdown",
   "metadata": {},
   "source": [
    "### Variable ***engine***"
   ]
  },
  {
   "cell_type": "markdown",
   "metadata": {},
   "source": [
    "#### Conversion de tipo de dato"
   ]
  },
  {
   "cell_type": "code",
   "execution_count": 12,
   "metadata": {},
   "outputs": [
    {
     "data": {
      "text/plain": [
       "array(['1.9', '1.4', '1.6', None, '1.0', '1.8', 'INYECCION MULTI PUNTO',\n",
       "       '1,6', '4 cilindros', '2.0', '1', 'MSI 1.6 16 válvulas 110cv', '2',\n",
       "       '2.5', '1.4 Tsi', '1.4 Turbo', '1.4 tsi', 'TURBO DIESEL INYECCION',\n",
       "       'MSI 1.6 16V', 'TDi', 'nafta', '1.6 MSI', '3.0', 'V6 3.0 258cv',\n",
       "       'TURBOALIMENTADO', '1.4 turbo', '2.0 Tsi', '1.7', '1.2',\n",
       "       '1.0 TURBO', '14', '1,4', 'NAFTA', '1.4 T', '1.4L turbo',\n",
       "       '1.4 TURBO',\n",
       "       '1.6 DOCH (Inyección multipunto); 4 cil / 16 v; 103 CV',\n",
       "       '3 en línea 12 v', '1.2 turbo', '1.5', '1,2', 'NAFTA 1.2', '1.6L',\n",
       "       '1.6l', '1.6 8v', '1.6 8V', '2.3', '1-6 16v', '1.6 Turbo',\n",
       "       '1.6 thp', '2.2', '1.3', '1.8 Evo', '1.8 ETORQ EVO NAFTA', '1.8L',\n",
       "       'FIAT', '1.3 16v', '1.4 8V', 'Etorq 1.6 16v (cadenero)',\n",
       "       '1.3  nafta', '1.3 FIREFLY', '1600 cc', '1.6 naftero', 'FORD 2.0',\n",
       "       '1500 cc', '3.2', '3.0 V6', '3.0L V6', '4', '2.2 L', '2.0L',\n",
       "       '1.5X', '2.8', '2.8 turbo', '2.4', '2.5 D4D',\n",
       "       '3.0 TDI (Turbo Diesel Intercooler)', '4.0', '2.8 TDI', '3', '2.7',\n",
       "       '1.6 TURBO', '1.6L 261cv', '1,6T caja manual', '2.4 LX 4X2 AT',\n",
       "       '1.5 TURBO', '1.5T', '1.5 T', '1.5 Turbo'], dtype=object)"
      ]
     },
     "execution_count": 12,
     "metadata": {},
     "output_type": "execute_result"
    }
   ],
   "source": [
    "#CHECK DE VALORES UNICOS DE LA VARIABLE\n",
    "df.engine.unique()"
   ]
  },
  {
   "cell_type": "code",
   "execution_count": 13,
   "metadata": {},
   "outputs": [
    {
     "data": {
      "text/plain": [
       "array(['1.9', '1.4', '1.6', None, '1.0', '1.8', '', '16', '4', '2.0', '1',\n",
       "       '1.616110', '2', '2.5', '1.616', '3.0', '63.0258', '1.7', '1.2',\n",
       "       '14', '1.6416103', '312', '1.5', '12', '1.68', '2.3', '1616',\n",
       "       '2.2', '1.3', '1.316', '1.48', '1600', '1500', '3.2', '3.06',\n",
       "       '2.8', '2.4', '2.54', '4.0', '3', '2.7', '1.6261', '2.442'],\n",
       "      dtype=object)"
      ]
     },
     "execution_count": 13,
     "metadata": {},
     "output_type": "execute_result"
    }
   ],
   "source": [
    "#SE QUITAN VALORES ALFABETICOS EN LOS DATOS\n",
    "df.engine = df.engine.str.replace(r'[^0-9.]', '', regex=True)\n",
    "df.engine = df.engine.str.strip()\n",
    "df.engine.unique()"
   ]
  },
  {
   "cell_type": "code",
   "execution_count": 14,
   "metadata": {},
   "outputs": [],
   "source": [
    "#FUNCION PARA QUITAR O AGREGAR DECIMALES\n",
    "def get_engine(engine):\n",
    "    if (not engine) | (pd.isna(engine)): return None        \n",
    "    if re.search(r'^[^.]*$', engine): return None        \n",
    "    \n",
    "    if re.search(r'^\\d\\.', engine):\n",
    "        if len(engine) == 1:\n",
    "            engine = engine + '.0'\n",
    "        elif len(engine) > 3:\n",
    "            engine = engine[:3]\n",
    "        return engine\n",
    "    else:\n",
    "        return None"
   ]
  },
  {
   "cell_type": "code",
   "execution_count": 15,
   "metadata": {},
   "outputs": [
    {
     "data": {
      "text/plain": [
       "array([1.9, 1.4, 1.6, nan, 1. , 1.8, 2. , 2.5, 3. , 1.7, 1.2, 1.5, 2.3,\n",
       "       2.2, 1.3, 3.2, 2.8, 2.4, 4. , 2.7])"
      ]
     },
     "execution_count": 15,
     "metadata": {},
     "output_type": "execute_result"
    }
   ],
   "source": [
    "#APLICACION DE LA FUNCION Y CAMBIO DE TIPO DE DATO\n",
    "df.engine = df.engine.apply(get_engine)\n",
    "df.engine = df.engine.astype(float)\n",
    "df.engine.unique()"
   ]
  },
  {
   "cell_type": "code",
   "execution_count": 16,
   "metadata": {},
   "outputs": [
    {
     "name": "stdout",
     "output_type": "stream",
     "text": [
      "<class 'pandas.core.series.Series'>\n",
      "Index: 12194 entries, 0 to 12195\n",
      "Series name: engine\n",
      "Non-Null Count  Dtype  \n",
      "--------------  -----  \n",
      "11452 non-null  float64\n",
      "dtypes: float64(1)\n",
      "memory usage: 190.5 KB\n"
     ]
    }
   ],
   "source": [
    "#INFORMACION DE LA VARIABLE\n",
    "df.engine.info()"
   ]
  },
  {
   "cell_type": "markdown",
   "metadata": {},
   "source": [
    "#### Revision e Imputacion de datos nulos"
   ]
  },
  {
   "cell_type": "code",
   "execution_count": 17,
   "metadata": {},
   "outputs": [
    {
     "name": "stdout",
     "output_type": "stream",
     "text": [
      "Cantidad de nulos: 742\n"
     ]
    }
   ],
   "source": [
    "#VALORES NULOS\n",
    "print(f'Cantidad de nulos: {df.engine.isna().sum()}')"
   ]
  },
  {
   "cell_type": "code",
   "execution_count": 18,
   "metadata": {},
   "outputs": [],
   "source": [
    "#FUNCION PARA IMPUTAR VALORES DE LA MEDIANA SEGUN EL MODELO DEL VEHICULO\n",
    "def get_median(model:str)->float:\n",
    "    condition = (df.model == model) & (df.engine.notna())\n",
    "    return df.loc[condition, 'engine'].median()"
   ]
  },
  {
   "cell_type": "code",
   "execution_count": 19,
   "metadata": {},
   "outputs": [],
   "source": [
    "#COPIA DE LA VARIABLE ANTES DE IMPUTAR\n",
    "engine_nan = df.engine.copy()\n",
    "\n",
    "#IMPUTACION DE VALORES NULOS\n",
    "df.engine = df.apply(lambda x:\n",
    "                     get_median(x.model) if pd.isna(x.engine) else x.engine,\n",
    "                     axis=1)"
   ]
  },
  {
   "cell_type": "code",
   "execution_count": 20,
   "metadata": {},
   "outputs": [
    {
     "name": "stdout",
     "output_type": "stream",
     "text": [
      "Cantidad de nulos: 0\n"
     ]
    }
   ],
   "source": [
    "#CANTIDAD DE NULOS DESPUES DE LA IMPUTACION\n",
    "print(f'Cantidad de nulos: {df.engine.isna().sum()}')"
   ]
  },
  {
   "cell_type": "code",
   "execution_count": 21,
   "metadata": {},
   "outputs": [
    {
     "data": {
      "image/png": "[encoded data removed]",
      "text/plain": [
       "<Figure size 1200x400 with 2 Axes>"
      ]
     },
     "metadata": {},
     "output_type": "display_data"
    }
   ],
   "source": [
    "#COMPARACION DE DISTRIBUCIONES\n",
    "comparison_dist(engine_nan, df.engine, 'imputar', 'Cilindrado (Cm3)',(12,4))"
   ]
  },
  {
   "cell_type": "code",
   "execution_count": 22,
   "metadata": {},
   "outputs": [],
   "source": [
    "#SE LIBERAN RECURSOS\n",
    "del engine_nan"
   ]
  },
  {
   "cell_type": "markdown",
   "metadata": {},
   "source": [
    "### Variable ***engine_power***"
   ]
  },
  {
   "cell_type": "markdown",
   "metadata": {},
   "source": [
    "#### Conversion de tipo de dato"
   ]
  },
  {
   "cell_type": "code",
   "execution_count": 23,
   "metadata": {},
   "outputs": [
    {
     "data": {
      "text/plain": [
       "array(['64 hp', '83 hp', '92 hp', None, '90 hp', '54 hp', '98 hp',\n",
       "       '101 cv', '101 hp', '75 hp', '100 hp', '180 hp', '116 hp',\n",
       "       '170 hp', '200 hp', '211 hp', '150 hp', '110 hp', '115 hp',\n",
       "       '140 hp', '105 hp', '105 cv', '224 hp', '258 hp', '163 hp',\n",
       "       '230 hp', '140 cv', '220 hp', '150 cv', '94 hp', '102 hp', '70 hp',\n",
       "       '65 hp', '60 hp', '90 cv', '92 cv', '98 cv', '153 hp', '141 hp',\n",
       "       '103 hp', '132 hp', '172 hp', '75 cv', '74 hp', '145 hp', '115 cv',\n",
       "       '143 hp', '190 hp', '110 cv', '85 hp', '114 hp', '130 hp',\n",
       "       '143 cv', '138 hp', '156 hp', '106 hp', '165 hp', '89 hp',\n",
       "       '152 hp', '225 hp', '270 hp', '165 cv', '216 hp', '136 hp',\n",
       "       '160 hp', '139.2 hp', '99 hp', '175 hp', '130 cv', '99 cv',\n",
       "       '170 cv', '82 hp', '87 hp', '72 hp', '82 cv', '68 hp', '95 hp',\n",
       "       '120 cv', '123 hp', '123 cv', '107 hp', '120 hp', '63 hp',\n",
       "       '125 hp', '250 hp', '210 hp', '213 hp', '166 hp', '397 hp',\n",
       "       '99.2 hp', '97 hp', '125 cv', '103 cv', '204 hp', '177 hp',\n",
       "       '171 hp', '238 hp', '134 hp', '272 hp', '107 cv', '127 hp',\n",
       "       '154 cv', '185 hp', '146 hp'], dtype=object)"
      ]
     },
     "execution_count": 23,
     "metadata": {},
     "output_type": "execute_result"
    }
   ],
   "source": [
    "#CHECK DE VALORES UNICOS EN LA VARIABLE\n",
    "df.engine_power.unique()"
   ]
  },
  {
   "cell_type": "code",
   "execution_count": 24,
   "metadata": {},
   "outputs": [
    {
     "data": {
      "text/plain": [
       "array([ 64. ,  83. ,  92. ,   nan,  90. ,  54. ,  98. , 101. ,  75. ,\n",
       "       100. , 180. , 116. , 170. , 200. , 211. , 150. , 110. , 115. ,\n",
       "       140. , 105. , 224. , 258. , 163. , 230. , 220. ,  94. , 102. ,\n",
       "        70. ,  65. ,  60. , 153. , 141. , 103. , 132. , 172. ,  74. ,\n",
       "       145. , 143. , 190. ,  85. , 114. , 130. , 138. , 156. , 106. ,\n",
       "       165. ,  89. , 152. , 225. , 270. , 216. , 136. , 160. , 139.2,\n",
       "        99. , 175. ,  82. ,  87. ,  72. ,  68. ,  95. , 120. , 123. ,\n",
       "       107. ,  63. , 125. , 250. , 210. , 213. , 166. , 397. ,  99.2,\n",
       "        97. , 204. , 177. , 171. , 238. , 134. , 272. , 127. , 154. ,\n",
       "       185. , 146. ])"
      ]
     },
     "execution_count": 24,
     "metadata": {},
     "output_type": "execute_result"
    }
   ],
   "source": [
    "#SE QUITA PARTE ALFABETICA DE VARIABLE Y SE CAMBIA TIPO DE DATO\n",
    "df.engine_power = df.engine_power.str.replace(r'hp|cv', '', regex=True)\n",
    "df.engine_power = df.engine_power.str.strip()\n",
    "df.engine_power = df.engine_power.astype(float)\n",
    "df.engine_power.unique()"
   ]
  },
  {
   "cell_type": "code",
   "execution_count": 25,
   "metadata": {},
   "outputs": [
    {
     "name": "stdout",
     "output_type": "stream",
     "text": [
      "<class 'pandas.core.series.Series'>\n",
      "Index: 12194 entries, 0 to 12195\n",
      "Series name: engine_power\n",
      "Non-Null Count  Dtype  \n",
      "--------------  -----  \n",
      "11396 non-null  float64\n",
      "dtypes: float64(1)\n",
      "memory usage: 190.5 KB\n"
     ]
    }
   ],
   "source": [
    "#INFO DE LA VARIABLE\n",
    "df.engine_power.info()"
   ]
  },
  {
   "cell_type": "markdown",
   "metadata": {},
   "source": [
    "#### Imputacion de datos nulos"
   ]
  },
  {
   "cell_type": "code",
   "execution_count": 26,
   "metadata": {},
   "outputs": [
    {
     "name": "stdout",
     "output_type": "stream",
     "text": [
      "Cantidad de nulos: 798\n"
     ]
    }
   ],
   "source": [
    "#CANTIDAD DE VALORES NULOS EN LA VARIABLE\n",
    "print(f'Cantidad de nulos: {df.engine_power.isna().sum()}')"
   ]
  },
  {
   "cell_type": "code",
   "execution_count": 27,
   "metadata": {},
   "outputs": [],
   "source": [
    "#COPIA DELA VARIABLE SIN IMPUTAR\n",
    "engine_power_nan = df.engine_power.copy()"
   ]
  },
  {
   "cell_type": "code",
   "execution_count": 28,
   "metadata": {},
   "outputs": [],
   "source": [
    "#FUNCION PARA EXTRAER LA MODA DE LA VARIABLE ENGINE SEGUN EL MODELO DEL VEHICULO\n",
    "def get_mode(filter:str, var_name:str):\n",
    "    condition = (df.model == filter) & (df[var_name].notna())\n",
    "    mode = df.loc[condition, var_name].mode()[0]\n",
    "    return mode if mode is not None else None"
   ]
  },
  {
   "cell_type": "code",
   "execution_count": 29,
   "metadata": {},
   "outputs": [
    {
     "name": "stdout",
     "output_type": "stream",
     "text": [
      "Cantidad de nulos: 0\n"
     ]
    }
   ],
   "source": [
    "#IMPUTACION DE DATOS NULOS\n",
    "df.engine_power = df.apply(lambda x: \n",
    "                           get_mode(x.model, 'engine_power') if pd.isna(x.engine_power) else x.engine_power,\n",
    "                           axis=1)\n",
    "\n",
    "print(f'Cantidad de nulos: {df.engine_power.isna().sum()}')"
   ]
  },
  {
   "cell_type": "code",
   "execution_count": 30,
   "metadata": {},
   "outputs": [
    {
     "data": {
      "image/png": "[encoded data removed]",
      "text/plain": [
       "<Figure size 1200x400 with 2 Axes>"
      ]
     },
     "metadata": {},
     "output_type": "display_data"
    }
   ],
   "source": [
    "#COMPARACION DE DISTRIBUCIONES\n",
    "comparison_dist(engine_power_nan, df.engine_power, 'imputar', 'Caballos de fuerza',(12,4))"
   ]
  },
  {
   "cell_type": "code",
   "execution_count": 31,
   "metadata": {},
   "outputs": [],
   "source": [
    "#SE LIBERAN RECURSOS\n",
    "del engine_power_nan"
   ]
  },
  {
   "cell_type": "markdown",
   "metadata": {},
   "source": [
    "### Variable ***km***"
   ]
  },
  {
   "cell_type": "code",
   "execution_count": 32,
   "metadata": {},
   "outputs": [
    {
     "data": {
      "text/plain": [
       "0    129069 km\n",
       "1    137000 km\n",
       "2    140000 km\n",
       "3    141000 km\n",
       "4    112192 km\n",
       "Name: km, dtype: object"
      ]
     },
     "execution_count": 32,
     "metadata": {},
     "output_type": "execute_result"
    }
   ],
   "source": [
    "#CHEC VALORES DE LA VARIABLE\n",
    "df.km.head()"
   ]
  },
  {
   "cell_type": "code",
   "execution_count": 33,
   "metadata": {},
   "outputs": [
    {
     "data": {
      "text/plain": [
       "count     12194.000000\n",
       "mean     109909.376579\n",
       "std       68833.700775\n",
       "min         335.000000\n",
       "25%       68000.000000\n",
       "50%      102000.000000\n",
       "75%      145000.000000\n",
       "max      999999.000000\n",
       "Name: km, dtype: float64"
      ]
     },
     "execution_count": 33,
     "metadata": {},
     "output_type": "execute_result"
    }
   ],
   "source": [
    "#SE QUITAN VALORES ALFABETICOS DE LA VARIABLE\n",
    "df.km = df.km.str.replace('km', '')\n",
    "\n",
    "#SE QUITAN ESPACIOS VACIOS Y SE CAMBIA EL TIPO DE DATO\n",
    "df.km = df.km.str.strip()\n",
    "df.km = df.km.astype(int)\n",
    "df.km.describe()"
   ]
  },
  {
   "cell_type": "code",
   "execution_count": 34,
   "metadata": {},
   "outputs": [
    {
     "name": "stdout",
     "output_type": "stream",
     "text": [
      "Cantidad de registros mayores de 300.000km: 123\n",
      "Proporcion del total de datos: 1.01%\n"
     ]
    }
   ],
   "source": [
    "#CHECK VALORES ATIPICOS\n",
    "count = df.loc[df.km > 300000].shape[0]\n",
    "perc = (count/df.shape[0])*100\n",
    "print(f'Cantidad de registros mayores de 300.000km: {count}')\n",
    "print(f'Proporcion del total de datos: {perc:.2f}%')"
   ]
  },
  {
   "cell_type": "code",
   "execution_count": 35,
   "metadata": {},
   "outputs": [
    {
     "data": {
      "text/plain": [
       "count     12044.000000\n",
       "mean     106303.527317\n",
       "std       58280.096932\n",
       "min         335.000000\n",
       "25%       68000.000000\n",
       "50%      101000.000000\n",
       "75%      142000.000000\n",
       "max      299000.000000\n",
       "Name: km, dtype: float64"
      ]
     },
     "execution_count": 35,
     "metadata": {},
     "output_type": "execute_result"
    }
   ],
   "source": [
    "#SE ELIMINAN VALORES OUTLIERS\n",
    "df = df.loc[df.km < 300000]\n",
    "df.km.describe()"
   ]
  },
  {
   "cell_type": "markdown",
   "metadata": {},
   "source": [
    "### Variable ***fuel_type***"
   ]
  },
  {
   "cell_type": "code",
   "execution_count": 36,
   "metadata": {},
   "outputs": [
    {
     "data": {
      "text/plain": [
       "array(['Diésel', 'Nafta', 'Nafta/GNC', 'GNC', 'Híbrido/Diesel',\n",
       "       'Eléctrico', 'Híbrido/Nafta', 'Híbrido'], dtype=object)"
      ]
     },
     "execution_count": 36,
     "metadata": {},
     "output_type": "execute_result"
    }
   ],
   "source": [
    "#CHECK VALORES UNICOS DE LA VARIABLE\n",
    "df.fuel_type.unique()"
   ]
  },
  {
   "cell_type": "code",
   "execution_count": 37,
   "metadata": {},
   "outputs": [
    {
     "data": {
      "text/plain": [
       "array(['Diésel', 'Nafta', 'Nafta/GNC', 'Híbrido/Diesel', 'Eléctrico',\n",
       "       'Híbrido/Nafta'], dtype=object)"
      ]
     },
     "execution_count": 37,
     "metadata": {},
     "output_type": "execute_result"
    }
   ],
   "source": [
    "#REEMPLAZO DE VALORES\n",
    "df.fuel_type = df.fuel_type.str.replace(r'^GNC$', 'Nafta/GNC', regex=True)\n",
    "df.fuel_type = df.fuel_type.str.replace(r'^Híbrido$', 'Híbrido/Nafta', regex=True)\n",
    "df.fuel_type.unique()"
   ]
  },
  {
   "cell_type": "markdown",
   "metadata": {},
   "source": [
    "### Variable ***traction_control***"
   ]
  },
  {
   "cell_type": "code",
   "execution_count": 38,
   "metadata": {},
   "outputs": [
    {
     "data": {
      "text/plain": [
       "array(['Delantera', None, 'Trasera', '4x2', '4x4', 'Integral'],\n",
       "      dtype=object)"
      ]
     },
     "execution_count": 38,
     "metadata": {},
     "output_type": "execute_result"
    }
   ],
   "source": [
    "#CHECK DE VALORES UNICOS DE LA VARIABLE\n",
    "df.traction_control.unique()"
   ]
  },
  {
   "cell_type": "code",
   "execution_count": 39,
   "metadata": {},
   "outputs": [
    {
     "name": "stdout",
     "output_type": "stream",
     "text": [
      "Cantidad de valores nulos en la variable: 401\n"
     ]
    }
   ],
   "source": [
    "#CHECK DE VALORES NULOS EN LA VARIABLE\n",
    "print(f'Cantidad de valores nulos en la variable: {df.traction_control.isna().sum()}')"
   ]
  },
  {
   "cell_type": "code",
   "execution_count": 40,
   "metadata": {},
   "outputs": [
    {
     "name": "stdout",
     "output_type": "stream",
     "text": [
      "Cantidad de valores nulos en la variable: 0\n"
     ]
    }
   ],
   "source": [
    "#IMPUTACION DE VALORES NULOS POR MODA SEGUN EL MODELO DEL VEHICULO\n",
    "df.traction_control = df.apply( lambda x:\n",
    "                                get_mode(x.model, 'traction_control') \n",
    "                                    if pd.isna(x.traction_control) \n",
    "                                    else x.traction_control,\n",
    "                                axis=1)\n",
    "\n",
    "#CHECK DE VALORES NULOS DESPUES DE IMPUTAR\n",
    "print(f'Cantidad de valores nulos en la variable: {df.traction_control.isna().sum()}')"
   ]
  },
  {
   "cell_type": "markdown",
   "metadata": {},
   "source": [
    "### Variable ***passenger_capacity***"
   ]
  },
  {
   "cell_type": "code",
   "execution_count": 41,
   "metadata": {},
   "outputs": [
    {
     "data": {
      "text/plain": [
       "count    11338.000000\n",
       "mean         4.981214\n",
       "std          0.235171\n",
       "min          2.000000\n",
       "25%          5.000000\n",
       "50%          5.000000\n",
       "75%          5.000000\n",
       "max          7.000000\n",
       "Name: passenger_capacity, dtype: float64"
      ]
     },
     "execution_count": 41,
     "metadata": {},
     "output_type": "execute_result"
    }
   ],
   "source": [
    "#INFO DE LA VARIABLE\n",
    "df.passenger_capacity.describe()"
   ]
  },
  {
   "cell_type": "code",
   "execution_count": 42,
   "metadata": {},
   "outputs": [
    {
     "name": "stdout",
     "output_type": "stream",
     "text": [
      "Cantidad de valores nulos en la variable: 706\n"
     ]
    }
   ],
   "source": [
    "#CHECK DE VALORES NULOS EN LA VARIABLE\n",
    "print(f'Cantidad de valores nulos en la variable: {df.passenger_capacity.isna().sum()}')"
   ]
  },
  {
   "cell_type": "code",
   "execution_count": 43,
   "metadata": {},
   "outputs": [
    {
     "name": "stdout",
     "output_type": "stream",
     "text": [
      "Cantidad de valores nulos en la variable: 0\n"
     ]
    }
   ],
   "source": [
    "#IMPUTACION DE VALORES NULOS POR MODA SEGUN EL MODELO DEL VEHICULO\n",
    "df.passenger_capacity = df.apply(lambda x:\n",
    "                                 get_mode(x.model, 'passenger_capacity')\n",
    "                                    if pd.isna(x.passenger_capacity)\n",
    "                                    else x.passenger_capacity,\n",
    "                                axis=1)\n",
    "\n",
    "#CHECK DE VALORES NULOS DESPUES DE IMPUTAR\n",
    "print(f'Cantidad de valores nulos en la variable: {df.passenger_capacity.isna().sum()}')"
   ]
  },
  {
   "cell_type": "markdown",
   "metadata": {},
   "source": [
    "### Variable ***transmission***"
   ]
  },
  {
   "cell_type": "code",
   "execution_count": 44,
   "metadata": {},
   "outputs": [
    {
     "data": {
      "text/plain": [
       "array(['Manual', None, 'Automática', 'Automática secuencial',\n",
       "       'No Informa'], dtype=object)"
      ]
     },
     "execution_count": 44,
     "metadata": {},
     "output_type": "execute_result"
    }
   ],
   "source": [
    "#CHECK VALORES UNICOS EN LA VARIABLE\n",
    "df.transmission.unique()"
   ]
  },
  {
   "cell_type": "code",
   "execution_count": 45,
   "metadata": {},
   "outputs": [
    {
     "name": "stdout",
     "output_type": "stream",
     "text": [
      "Cantidad de valores nulos en la variable: 333\n"
     ]
    }
   ],
   "source": [
    "#REEMPLAZO DE VALORES\n",
    "df.transmission = df.transmission.replace('No Informa', None)\n",
    "\n",
    "#CHECK VALORES NULOS EN LA VARIABLE\n",
    "print(f'Cantidad de valores nulos en la variable: {df.transmission.isna().sum()}')"
   ]
  },
  {
   "cell_type": "code",
   "execution_count": 46,
   "metadata": {},
   "outputs": [
    {
     "name": "stdout",
     "output_type": "stream",
     "text": [
      "Cantidad de valores nulos en la variable: 0\n"
     ]
    }
   ],
   "source": [
    "#IMPUTACION DE VALORES NULOS POR LA MODA SEGUN EL MODELO\n",
    "df.transmission = df.apply( lambda x:\n",
    "                            get_mode(x.model, 'transmission')\n",
    "                                if pd.isna(x.transmission)\n",
    "                                else x.transmission,\n",
    "                            axis=1)\n",
    "\n",
    "#CHECK VALORES NULOS EN LA VARIABLE\n",
    "print(f'Cantidad de valores nulos en la variable: {df.transmission.isna().sum()}')"
   ]
  },
  {
   "cell_type": "markdown",
   "metadata": {},
   "source": [
    "### Variable ***price*** "
   ]
  },
  {
   "cell_type": "markdown",
   "metadata": {},
   "source": [
    "#### Unificacion de valor del automovil en moneda USD"
   ]
  },
  {
   "cell_type": "code",
   "execution_count": 47,
   "metadata": {},
   "outputs": [
    {
     "data": {
      "text/plain": [
       "array(['USD', 'ARS'], dtype=object)"
      ]
     },
     "execution_count": 47,
     "metadata": {},
     "output_type": "execute_result"
    }
   ],
   "source": [
    "#TIPOS DE MONEDAS QUE DESCRIBEN EL PRECIO\n",
    "df.currency.unique()"
   ]
  },
  {
   "cell_type": "code",
   "execution_count": 48,
   "metadata": {},
   "outputs": [],
   "source": [
    "#SE CONVIERTE A USD TODOS AQUELLOS PRECIOS VALUADOS EN PESOS\n",
    "#A LA FECHA DE RECOPILACION DE DATOS:  1 USD = 1255 ARS\n",
    "df.price = df.price.astype(float)\n",
    "df.loc[df.currency == 'ARS', 'price'] = df.price.apply(lambda x: x/1255)"
   ]
  },
  {
   "cell_type": "code",
   "execution_count": 49,
   "metadata": {},
   "outputs": [
    {
     "data": {
      "text/plain": [
       "count     12044.000000\n",
       "mean      11298.626882\n",
       "std        7853.830665\n",
       "min          79.681275\n",
       "25%        6533.864542\n",
       "50%        9500.000000\n",
       "75%       13944.223108\n",
       "max      350000.000000\n",
       "Name: usd_price, dtype: float64"
      ]
     },
     "execution_count": 49,
     "metadata": {},
     "output_type": "execute_result"
    }
   ],
   "source": [
    "#SE RENOMBRA LA VARIABLE PRICE\n",
    "df.rename(columns={'price': 'usd_price'}, inplace=True)\n",
    "\n",
    "#SE ELIMINA LA VARIABLE CURRENCY\n",
    "df.drop(columns='currency', inplace=True)\n",
    "df.usd_price.describe()"
   ]
  },
  {
   "cell_type": "markdown",
   "metadata": {},
   "source": [
    "#### Valores atipicos"
   ]
  },
  {
   "cell_type": "code",
   "execution_count": 50,
   "metadata": {},
   "outputs": [
    {
     "data": {
      "text/html": [
       "<div>\n",
       "<style scoped>\n",
       "    .dataframe tbody tr th:only-of-type {\n",
       "        vertical-align: middle;\n",
       "    }\n",
       "\n",
       "    .dataframe tbody tr th {\n",
       "        vertical-align: top;\n",
       "    }\n",
       "\n",
       "    .dataframe thead th {\n",
       "        text-align: right;\n",
       "    }\n",
       "</style>\n",
       "<table border=\"1\" class=\"dataframe\">\n",
       "  <thead>\n",
       "    <tr style=\"text-align: right;\">\n",
       "      <th></th>\n",
       "      <th>brand</th>\n",
       "      <th>model</th>\n",
       "      <th>usd_price</th>\n",
       "    </tr>\n",
       "  </thead>\n",
       "  <tbody>\n",
       "    <tr>\n",
       "      <th>298</th>\n",
       "      <td>Volkswagen</td>\n",
       "      <td>Gol</td>\n",
       "      <td>350000.0</td>\n",
       "    </tr>\n",
       "  </tbody>\n",
       "</table>\n",
       "</div>"
      ],
      "text/plain": [
       "          brand model  usd_price\n",
       "298  Volkswagen   Gol   350000.0"
      ]
     },
     "execution_count": 50,
     "metadata": {},
     "output_type": "execute_result"
    }
   ],
   "source": [
    "#SE EVALUA LA CANTIDAD DE VEHICULOS CPN PRECIOS POR ARRIVA DE LOS 100.000USD\n",
    "df.loc[df.usd_price > 100000, ['brand', 'model', 'usd_price']].round(2)"
   ]
  },
  {
   "cell_type": "code",
   "execution_count": 51,
   "metadata": {},
   "outputs": [
    {
     "name": "stdout",
     "output_type": "stream",
     "text": [
      "Precios mayores a 100.000 USD: 0\n"
     ]
    }
   ],
   "source": [
    "#SE ELIMINAN LOS PRECIOS MAYORES A 100.000USD\n",
    "df = df.loc[df.usd_price < 100000]\n",
    "\n",
    "#CHECK DE VALORES\n",
    "print(f'Precios mayores a 100.000 USD: {df.loc[df.usd_price > 100000].shape[0]}')"
   ]
  },
  {
   "cell_type": "code",
   "execution_count": 52,
   "metadata": {},
   "outputs": [
    {
     "data": {
      "text/plain": [
       "count    12043.000000\n",
       "mean     11270.502547\n",
       "std       7222.218859\n",
       "min         79.681275\n",
       "25%       6533.864542\n",
       "50%       9500.000000\n",
       "75%      13944.223108\n",
       "max      89900.000000\n",
       "Name: usd_price, dtype: float64"
      ]
     },
     "execution_count": 52,
     "metadata": {},
     "output_type": "execute_result"
    }
   ],
   "source": [
    "#INFO DE LA VARIABLE\n",
    "df.usd_price.describe()"
   ]
  },
  {
   "cell_type": "markdown",
   "metadata": {},
   "source": [
    "### Variable ***seller_state***"
   ]
  },
  {
   "cell_type": "code",
   "execution_count": 53,
   "metadata": {},
   "outputs": [
    {
     "data": {
      "text/plain": [
       "array(['Bs.As. G.B.A. Sur', 'Capital Federal', 'Bs.As. G.B.A. Norte',\n",
       "       'Bs.As. G.B.A. Oeste', 'Córdoba', 'Entre Ríos', 'Formosa',\n",
       "       'Buenos Aires Interior', 'San Luis', 'Corrientes',\n",
       "       'Bs.As. Costa Atlántica', 'Santa Fe', 'Mendoza', 'Río Negro',\n",
       "       'Chaco', 'Misiones', 'Neuquén', 'Chubut', 'Salta',\n",
       "       'Santiago del Estero', 'Santa Cruz', 'La Pampa', 'Tucumán',\n",
       "       'Tierra del Fuego', 'Jujuy', 'San Juan', 'Catamarca', 'La Rioja'],\n",
       "      dtype=object)"
      ]
     },
     "execution_count": 53,
     "metadata": {},
     "output_type": "execute_result"
    }
   ],
   "source": [
    "#CHECK DE VALORES UNICOS EN LA VARIABLE\n",
    "df.seller_state.unique()"
   ]
  },
  {
   "cell_type": "code",
   "execution_count": 54,
   "metadata": {},
   "outputs": [
    {
     "data": {
      "text/plain": [
       "array(['Buenos Aires', 'Capital Federal', 'Córdoba', 'Entre Ríos',\n",
       "       'Formosa', 'San Luis', 'Corrientes', 'Santa Fe', 'Mendoza',\n",
       "       'Río Negro', 'Chaco', 'Misiones', 'Neuquén', 'Chubut', 'Salta',\n",
       "       'Santiago del Estero', 'Santa Cruz', 'La Pampa', 'Tucumán',\n",
       "       'Tierra del Fuego', 'Jujuy', 'San Juan', 'Catamarca', 'La Rioja'],\n",
       "      dtype=object)"
      ]
     },
     "execution_count": 54,
     "metadata": {},
     "output_type": "execute_result"
    }
   ],
   "source": [
    "#REEMPLAZO DE VALORES\n",
    "df.seller_state = df.seller_state.str.replace(r'.*Bs\\.As.*', 'Buenos Aires', regex=True)\n",
    "df.seller_state = df.seller_state.str.replace('Buenos Aires Interior', 'Buenos Aires')\n",
    "df.seller_state.unique()"
   ]
  },
  {
   "cell_type": "code",
   "execution_count": 55,
   "metadata": {},
   "outputs": [
    {
     "name": "stdout",
     "output_type": "stream",
     "text": [
      "Cantidad de datos nulos en la variable: 0\n"
     ]
    }
   ],
   "source": [
    "#CHECK DE VALORES NULOS\n",
    "print(f'Cantidad de datos nulos en la variable: {df.seller_state.isna().sum()}')"
   ]
  },
  {
   "cell_type": "markdown",
   "metadata": {},
   "source": [
    "### Variables ***latitude*** y ***longitude***"
   ]
  },
  {
   "cell_type": "code",
   "execution_count": 56,
   "metadata": {},
   "outputs": [],
   "source": [
    "#FUNCION PARA OBTENER LAS COORDENADAS DE UNA CIUDAD\n",
    "def get_location(city, state, country):\n",
    "    geolocator = Nominatim(user_agent='getLocation')\n",
    "    location_string = city + ', ' + state + ', '+ country\n",
    "    location = geolocator.geocode(location_string)\n",
    "    if location is not None:\n",
    "        return location.latitude, location.longitude\n",
    "    else:\n",
    "        return None, None"
   ]
  },
  {
   "cell_type": "code",
   "execution_count": 57,
   "metadata": {},
   "outputs": [
    {
     "data": {
      "text/html": [
       "<div>\n",
       "<style scoped>\n",
       "    .dataframe tbody tr th:only-of-type {\n",
       "        vertical-align: middle;\n",
       "    }\n",
       "\n",
       "    .dataframe tbody tr th {\n",
       "        vertical-align: top;\n",
       "    }\n",
       "\n",
       "    .dataframe thead th {\n",
       "        text-align: right;\n",
       "    }\n",
       "</style>\n",
       "<table border=\"1\" class=\"dataframe\">\n",
       "  <thead>\n",
       "    <tr style=\"text-align: right;\">\n",
       "      <th></th>\n",
       "      <th>seller_country</th>\n",
       "      <th>seller_state</th>\n",
       "      <th>seller_city</th>\n",
       "      <th>count</th>\n",
       "    </tr>\n",
       "  </thead>\n",
       "  <tbody>\n",
       "    <tr>\n",
       "      <th>0</th>\n",
       "      <td>Argentina</td>\n",
       "      <td>Buenos Aires</td>\n",
       "      <td>25 de Mayo</td>\n",
       "      <td>3</td>\n",
       "    </tr>\n",
       "    <tr>\n",
       "      <th>1</th>\n",
       "      <td>Argentina</td>\n",
       "      <td>Buenos Aires</td>\n",
       "      <td>9 de Julio</td>\n",
       "      <td>15</td>\n",
       "    </tr>\n",
       "    <tr>\n",
       "      <th>2</th>\n",
       "      <td>Argentina</td>\n",
       "      <td>Buenos Aires</td>\n",
       "      <td>Almirante Brown</td>\n",
       "      <td>160</td>\n",
       "    </tr>\n",
       "    <tr>\n",
       "      <th>3</th>\n",
       "      <td>Argentina</td>\n",
       "      <td>Buenos Aires</td>\n",
       "      <td>Arrecifes</td>\n",
       "      <td>7</td>\n",
       "    </tr>\n",
       "    <tr>\n",
       "      <th>4</th>\n",
       "      <td>Argentina</td>\n",
       "      <td>Buenos Aires</td>\n",
       "      <td>Avellaneda</td>\n",
       "      <td>371</td>\n",
       "    </tr>\n",
       "  </tbody>\n",
       "</table>\n",
       "</div>"
      ],
      "text/plain": [
       "  seller_country  seller_state      seller_city  count\n",
       "0      Argentina  Buenos Aires       25 de Mayo      3\n",
       "1      Argentina  Buenos Aires       9 de Julio     15\n",
       "2      Argentina  Buenos Aires  Almirante Brown    160\n",
       "3      Argentina  Buenos Aires        Arrecifes      7\n",
       "4      Argentina  Buenos Aires       Avellaneda    371"
      ]
     },
     "execution_count": 57,
     "metadata": {},
     "output_type": "execute_result"
    }
   ],
   "source": [
    "#SE AGRUPAN LOS VALORES DE LA CIUDAD PARA REDUCIR LAS CONSULTAS\n",
    "df_location = df.groupby(['seller_country', 'seller_state', 'seller_city'])['seller_city'].size().reset_index(name='count')\n",
    "df_location.head()"
   ]
  },
  {
   "cell_type": "code",
   "execution_count": 58,
   "metadata": {},
   "outputs": [
    {
     "data": {
      "text/html": [
       "<div>\n",
       "<style scoped>\n",
       "    .dataframe tbody tr th:only-of-type {\n",
       "        vertical-align: middle;\n",
       "    }\n",
       "\n",
       "    .dataframe tbody tr th {\n",
       "        vertical-align: top;\n",
       "    }\n",
       "\n",
       "    .dataframe thead th {\n",
       "        text-align: right;\n",
       "    }\n",
       "</style>\n",
       "<table border=\"1\" class=\"dataframe\">\n",
       "  <thead>\n",
       "    <tr style=\"text-align: right;\">\n",
       "      <th></th>\n",
       "      <th>seller_state</th>\n",
       "      <th>seller_city</th>\n",
       "      <th>Latitude</th>\n",
       "      <th>longitude</th>\n",
       "    </tr>\n",
       "  </thead>\n",
       "  <tbody>\n",
       "    <tr>\n",
       "      <th>0</th>\n",
       "      <td>Buenos Aires</td>\n",
       "      <td>25 de Mayo</td>\n",
       "      <td>-37.147673</td>\n",
       "      <td>-58.492611</td>\n",
       "    </tr>\n",
       "    <tr>\n",
       "      <th>1</th>\n",
       "      <td>Buenos Aires</td>\n",
       "      <td>9 de Julio</td>\n",
       "      <td>-35.443920</td>\n",
       "      <td>-60.884584</td>\n",
       "    </tr>\n",
       "    <tr>\n",
       "      <th>2</th>\n",
       "      <td>Buenos Aires</td>\n",
       "      <td>Almirante Brown</td>\n",
       "      <td>-34.579634</td>\n",
       "      <td>-60.967745</td>\n",
       "    </tr>\n",
       "    <tr>\n",
       "      <th>3</th>\n",
       "      <td>Buenos Aires</td>\n",
       "      <td>Arrecifes</td>\n",
       "      <td>-34.067204</td>\n",
       "      <td>-60.102995</td>\n",
       "    </tr>\n",
       "    <tr>\n",
       "      <th>4</th>\n",
       "      <td>Buenos Aires</td>\n",
       "      <td>Avellaneda</td>\n",
       "      <td>-34.664839</td>\n",
       "      <td>-58.362806</td>\n",
       "    </tr>\n",
       "  </tbody>\n",
       "</table>\n",
       "</div>"
      ],
      "text/plain": [
       "   seller_state      seller_city   Latitude  longitude\n",
       "0  Buenos Aires       25 de Mayo -37.147673 -58.492611\n",
       "1  Buenos Aires       9 de Julio -35.443920 -60.884584\n",
       "2  Buenos Aires  Almirante Brown -34.579634 -60.967745\n",
       "3  Buenos Aires        Arrecifes -34.067204 -60.102995\n",
       "4  Buenos Aires       Avellaneda -34.664839 -58.362806"
      ]
     },
     "execution_count": 58,
     "metadata": {},
     "output_type": "execute_result"
    }
   ],
   "source": [
    "#OBTENCION DE COORDENADAS PARA LAS CIUDADES\n",
    "df_location[['Latitude', 'longitude']] = df_location.apply( lambda x: \n",
    "                                                            pd.Series(get_location( x.seller_city,x.seller_state,x.seller_country)),\n",
    "                                                            axis=1)\n",
    "\n",
    "#SE ELIMINA LA COLUMNA PAIS YA QUE TIENE UN SOLO VALOR\n",
    "df_location.drop(columns=['seller_country', 'count'], inplace=True)\n",
    "df_location.head()"
   ]
  },
  {
   "cell_type": "code",
   "execution_count": 59,
   "metadata": {},
   "outputs": [
    {
     "name": "stdout",
     "output_type": "stream",
     "text": [
      "<class 'pandas.core.frame.DataFrame'>\n",
      "RangeIndex: 12043 entries, 0 to 12042\n",
      "Data columns (total 26 columns):\n",
      " #   Column               Non-Null Count  Dtype  \n",
      "---  ------               --------------  -----  \n",
      " 0   index                12043 non-null  int64  \n",
      " 1   id                   12043 non-null  object \n",
      " 2   category_id          12043 non-null  object \n",
      " 3   title                12043 non-null  object \n",
      " 4   car_year             12043 non-null  int64  \n",
      " 5   brand                12043 non-null  object \n",
      " 6   model                12043 non-null  object \n",
      " 7   version              12043 non-null  object \n",
      " 8   engine               12043 non-null  float64\n",
      " 9   engine_power         12043 non-null  float64\n",
      " 10  doors                12043 non-null  int64  \n",
      " 11  km                   12043 non-null  int32  \n",
      " 12  fuel_type            12043 non-null  object \n",
      " 13  traction_control     12043 non-null  object \n",
      " 14  passenger_capacity   12043 non-null  float64\n",
      " 15  transmission         12043 non-null  object \n",
      " 16  usd_price            12043 non-null  float64\n",
      " 17  seller_id            12043 non-null  int64  \n",
      " 18  seller_nickname      12043 non-null  object \n",
      " 19  is_car_shop          12043 non-null  bool   \n",
      " 20  seller_country       12043 non-null  object \n",
      " 21  seller_state         12043 non-null  object \n",
      " 22  seller_city          12043 non-null  object \n",
      " 23  seller_neighborhood  6125 non-null   object \n",
      " 24  Latitude             12043 non-null  float64\n",
      " 25  longitude            12043 non-null  float64\n",
      "dtypes: bool(1), float64(6), int32(1), int64(4), object(14)\n",
      "memory usage: 2.3+ MB\n"
     ]
    }
   ],
   "source": [
    "#SE UNEN LOS DATAFRAME\n",
    "df = pd.merge(df, df_location, on=['seller_state', 'seller_city'])\n",
    "df.info()"
   ]
  },
  {
   "cell_type": "markdown",
   "metadata": {},
   "source": [
    "### Variable ***is_car_shop***"
   ]
  },
  {
   "cell_type": "code",
   "execution_count": 60,
   "metadata": {},
   "outputs": [
    {
     "data": {
      "text/plain": [
       "array(['False', 'True'], dtype=object)"
      ]
     },
     "execution_count": 60,
     "metadata": {},
     "output_type": "execute_result"
    }
   ],
   "source": [
    "#CHECK DE VALORES UNICOS DE LA VARIABLE\n",
    "df.is_car_shop = df.is_car_shop.astype(str)\n",
    "df.is_car_shop.unique()"
   ]
  },
  {
   "cell_type": "code",
   "execution_count": 61,
   "metadata": {},
   "outputs": [],
   "source": [
    "#REEMPLAZO DE VALORES\n",
    "df.is_car_shop = df.is_car_shop.str.replace('False', '0')\n",
    "df.is_car_shop = df.is_car_shop.str.replace('True', '1')\n",
    "df.is_car_shop = df.is_car_shop.astype(int)"
   ]
  },
  {
   "cell_type": "markdown",
   "metadata": {},
   "source": [
    "### Variables a ***eliminar***"
   ]
  },
  {
   "cell_type": "markdown",
   "metadata": {},
   "source": [
    "#### Variable ***category_id***"
   ]
  },
  {
   "cell_type": "code",
   "execution_count": 62,
   "metadata": {},
   "outputs": [
    {
     "data": {
      "text/plain": [
       "array(['MLA1744'], dtype=object)"
      ]
     },
     "execution_count": 62,
     "metadata": {},
     "output_type": "execute_result"
    }
   ],
   "source": [
    "#CHECK DE VALORES UNICOS PARA LA VARIABLE\n",
    "df.category_id.unique()"
   ]
  },
  {
   "cell_type": "code",
   "execution_count": 63,
   "metadata": {},
   "outputs": [],
   "source": [
    "#SE ELIMINA LA VARIABLE YA QUE SU VALOR SIEMPRE ES EL MISMO\n",
    "df.drop(columns='category_id', inplace=True)"
   ]
  },
  {
   "cell_type": "markdown",
   "metadata": {},
   "source": [
    "#### Variable ***title***"
   ]
  },
  {
   "cell_type": "code",
   "execution_count": 64,
   "metadata": {},
   "outputs": [],
   "source": [
    "#SE ELIMINA LA VARIABLE\n",
    "df.drop(columns='title', inplace=True)"
   ]
  },
  {
   "cell_type": "markdown",
   "metadata": {},
   "source": [
    "#### Variables ***seller_id***, ***seller_nickname*** y ***seller_neighborhood***"
   ]
  },
  {
   "cell_type": "code",
   "execution_count": 65,
   "metadata": {},
   "outputs": [],
   "source": [
    "#SE ELIMINAN LAS VARIABLES DEL VENDEDOR QUE APORTAN VALOR\n",
    "df.drop(columns=['seller_id', 'seller_nickname', 'seller_neighborhood'], inplace=True)"
   ]
  },
  {
   "cell_type": "markdown",
   "metadata": {},
   "source": [
    "### Tratamiento de variables ***cualitativas***"
   ]
  },
  {
   "cell_type": "code",
   "execution_count": 66,
   "metadata": {},
   "outputs": [
    {
     "name": "stdout",
     "output_type": "stream",
     "text": [
      "brand: 8 valores unicos\n",
      "model: 51 valores unicos\n",
      "version: 1972 valores unicos\n",
      "fuel_type: 6 valores unicos\n",
      "traction_control: 5 valores unicos\n",
      "transmission: 3 valores unicos\n"
     ]
    }
   ],
   "source": [
    "#SE MUESTRAN LA CANTIDAD DE VALORES UNICOS PARA LAS VARIABLES CUALITATIVAS\n",
    "not_var = ['id','seller_state','seller_city','seller_country']\n",
    "\n",
    "cat_var = [col for col in df.columns if (col not in not_var) and (df[col].dtype == 'object')]\n",
    "\n",
    "for var in cat_var:\n",
    "    print(f'{var}: {df[var].nunique()} valores unicos')"
   ]
  },
  {
   "cell_type": "code",
   "execution_count": 67,
   "metadata": {},
   "outputs": [],
   "source": [
    "#IMPORTACION DE LIBRERIA\n",
    "from sklearn.preprocessing import LabelEncoder\n",
    "\n",
    "#CODIFICACION DE VARIABLES CUALITATIVAS\n",
    "for var in cat_var:\n",
    "    if var != 'version':\n",
    "        pos_var = df.columns.get_loc(var)+1\n",
    "        name_var = var+'_cod'\n",
    "        df.insert(column=name_var, loc=pos_var, value=LabelEncoder().fit_transform(df[var]))"
   ]
  },
  {
   "cell_type": "code",
   "execution_count": 68,
   "metadata": {},
   "outputs": [
    {
     "name": "stdout",
     "output_type": "stream",
     "text": [
      "<class 'pandas.core.frame.DataFrame'>\n",
      "RangeIndex: 12043 entries, 0 to 12042\n",
      "Data columns (total 26 columns):\n",
      " #   Column                Non-Null Count  Dtype  \n",
      "---  ------                --------------  -----  \n",
      " 0   index                 12043 non-null  int64  \n",
      " 1   id                    12043 non-null  object \n",
      " 2   car_year              12043 non-null  int64  \n",
      " 3   brand                 12043 non-null  object \n",
      " 4   brand_cod             12043 non-null  int32  \n",
      " 5   model                 12043 non-null  object \n",
      " 6   model_cod             12043 non-null  int32  \n",
      " 7   version               12043 non-null  object \n",
      " 8   engine                12043 non-null  float64\n",
      " 9   engine_power          12043 non-null  float64\n",
      " 10  doors                 12043 non-null  int64  \n",
      " 11  km                    12043 non-null  int32  \n",
      " 12  fuel_type             12043 non-null  object \n",
      " 13  fuel_type_cod         12043 non-null  int32  \n",
      " 14  traction_control      12043 non-null  object \n",
      " 15  traction_control_cod  12043 non-null  int32  \n",
      " 16  passenger_capacity    12043 non-null  float64\n",
      " 17  transmission          12043 non-null  object \n",
      " 18  transmission_cod      12043 non-null  int32  \n",
      " 19  usd_price             12043 non-null  float64\n",
      " 20  is_car_shop           12043 non-null  int32  \n",
      " 21  seller_country        12043 non-null  object \n",
      " 22  seller_state          12043 non-null  object \n",
      " 23  seller_city           12043 non-null  object \n",
      " 24  Latitude              12043 non-null  float64\n",
      " 25  longitude             12043 non-null  float64\n",
      "dtypes: float64(6), int32(7), int64(3), object(10)\n",
      "memory usage: 2.1+ MB\n"
     ]
    }
   ],
   "source": [
    "#INFO DE LA VARIABLE\n",
    "df.info()"
   ]
  },
  {
   "cell_type": "markdown",
   "metadata": {},
   "source": [
    "### Guardado Provisorio"
   ]
  },
  {
   "cell_type": "code",
   "execution_count": 69,
   "metadata": {},
   "outputs": [],
   "source": [
    "#df.to_csv('publications_clean.csv', index=False)"
   ]
  }
 ],
 "metadata": {
  "kernelspec": {
   "display_name": "Python 3",
   "language": "python",
   "name": "python3"
  },
  "language_info": {
   "codemirror_mode": {
    "name": "ipython",
    "version": 3
   },
   "file_extension": ".py",
   "mimetype": "text/x-python",
   "name": "python",
   "nbconvert_exporter": "python",
   "pygments_lexer": "ipython3",
   "version": "3.12.2"
  }
 },
 "nbformat": 4,
 "nbformat_minor": 2
}
