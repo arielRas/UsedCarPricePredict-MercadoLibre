{
 "cells": [
  {
   "cell_type": "markdown",
   "metadata": {},
   "source": [
    "## Exploracion de dataset"
   ]
  },
  {
   "cell_type": "code",
   "execution_count": 20,
   "metadata": {},
   "outputs": [],
   "source": [
    "import pandas as pd\n",
    "import re"
   ]
  },
  {
   "cell_type": "code",
   "execution_count": 2,
   "metadata": {},
   "outputs": [
    {
     "data": {
      "text/html": [
       "<div>\n",
       "<style scoped>\n",
       "    .dataframe tbody tr th:only-of-type {\n",
       "        vertical-align: middle;\n",
       "    }\n",
       "\n",
       "    .dataframe tbody tr th {\n",
       "        vertical-align: top;\n",
       "    }\n",
       "\n",
       "    .dataframe thead th {\n",
       "        text-align: right;\n",
       "    }\n",
       "</style>\n",
       "<table border=\"1\" class=\"dataframe\">\n",
       "  <thead>\n",
       "    <tr style=\"text-align: right;\">\n",
       "      <th></th>\n",
       "      <th>id</th>\n",
       "      <th>category_id</th>\n",
       "      <th>title</th>\n",
       "      <th>condition</th>\n",
       "      <th>car_year</th>\n",
       "      <th>brand</th>\n",
       "      <th>model</th>\n",
       "      <th>version</th>\n",
       "      <th>engine</th>\n",
       "      <th>engine_power</th>\n",
       "      <th>...</th>\n",
       "      <th>transmission</th>\n",
       "      <th>currency</th>\n",
       "      <th>price</th>\n",
       "      <th>seller_id</th>\n",
       "      <th>seller_nickname</th>\n",
       "      <th>is_car_shop</th>\n",
       "      <th>seller_country</th>\n",
       "      <th>seller_state</th>\n",
       "      <th>seller_city</th>\n",
       "      <th>seller_neighborhood</th>\n",
       "    </tr>\n",
       "  </thead>\n",
       "  <tbody>\n",
       "    <tr>\n",
       "      <th>0</th>\n",
       "      <td>MLA1413685801</td>\n",
       "      <td>MLA1744</td>\n",
       "      <td>Volkswagen Gol 1.4 3ptas Año 2013 - Liv Motors</td>\n",
       "      <td>Usado</td>\n",
       "      <td>2013</td>\n",
       "      <td>Volkswagen</td>\n",
       "      <td>Gol</td>\n",
       "      <td>1.4 Power 83cv 3 p</td>\n",
       "      <td>1.4</td>\n",
       "      <td>83 hp</td>\n",
       "      <td>...</td>\n",
       "      <td>Manual</td>\n",
       "      <td>ARS</td>\n",
       "      <td>6000000</td>\n",
       "      <td>780050555</td>\n",
       "      <td>LIVMOTORS 2</td>\n",
       "      <td>False</td>\n",
       "      <td>Argentina</td>\n",
       "      <td>Bs.As. G.B.A. Norte</td>\n",
       "      <td>Vicente López</td>\n",
       "      <td>Munro</td>\n",
       "    </tr>\n",
       "    <tr>\n",
       "      <th>1</th>\n",
       "      <td>MLA1406864357</td>\n",
       "      <td>MLA1744</td>\n",
       "      <td>Volkswagen Gol 2012 1.4 Power Ps+ac 83cv</td>\n",
       "      <td>Usado</td>\n",
       "      <td>2012</td>\n",
       "      <td>Volkswagen</td>\n",
       "      <td>Gol</td>\n",
       "      <td>1.4 Power Ps+ac 83cv</td>\n",
       "      <td>1.4</td>\n",
       "      <td>83 hp</td>\n",
       "      <td>...</td>\n",
       "      <td>Manual</td>\n",
       "      <td>USD</td>\n",
       "      <td>10500</td>\n",
       "      <td>210095605</td>\n",
       "      <td>MASSEYGROUP EXCLUSIVOS</td>\n",
       "      <td>False</td>\n",
       "      <td>Argentina</td>\n",
       "      <td>Bs.As. G.B.A. Norte</td>\n",
       "      <td>Vicente López</td>\n",
       "      <td>Olivos</td>\n",
       "    </tr>\n",
       "    <tr>\n",
       "      <th>2</th>\n",
       "      <td>MLA1677544030</td>\n",
       "      <td>MLA1744</td>\n",
       "      <td>Volkswagen Gol Power 3p 2012 Financiación Con Dni</td>\n",
       "      <td>Usado</td>\n",
       "      <td>2012</td>\n",
       "      <td>Volkswagen</td>\n",
       "      <td>Gol</td>\n",
       "      <td>1.4 Power Ps+ac 83cv</td>\n",
       "      <td>1.4</td>\n",
       "      <td>83 hp</td>\n",
       "      <td>...</td>\n",
       "      <td>Manual</td>\n",
       "      <td>ARS</td>\n",
       "      <td>5800000</td>\n",
       "      <td>5571520</td>\n",
       "      <td>DASAUTOS2014</td>\n",
       "      <td>False</td>\n",
       "      <td>Argentina</td>\n",
       "      <td>Bs.As. G.B.A. Sur</td>\n",
       "      <td>Berazategui</td>\n",
       "      <td>Berazategui</td>\n",
       "    </tr>\n",
       "  </tbody>\n",
       "</table>\n",
       "<p>3 rows × 25 columns</p>\n",
       "</div>"
      ],
      "text/plain": [
       "              id category_id  \\\n",
       "0  MLA1413685801     MLA1744   \n",
       "1  MLA1406864357     MLA1744   \n",
       "2  MLA1677544030     MLA1744   \n",
       "\n",
       "                                               title condition  car_year  \\\n",
       "0     Volkswagen Gol 1.4 3ptas Año 2013 - Liv Motors     Usado      2013   \n",
       "1           Volkswagen Gol 2012 1.4 Power Ps+ac 83cv     Usado      2012   \n",
       "2  Volkswagen Gol Power 3p 2012 Financiación Con Dni     Usado      2012   \n",
       "\n",
       "        brand model               version engine engine_power  ...  \\\n",
       "0  Volkswagen   Gol    1.4 Power 83cv 3 p    1.4        83 hp  ...   \n",
       "1  Volkswagen   Gol  1.4 Power Ps+ac 83cv    1.4        83 hp  ...   \n",
       "2  Volkswagen   Gol  1.4 Power Ps+ac 83cv    1.4        83 hp  ...   \n",
       "\n",
       "   transmission currency    price  seller_id         seller_nickname  \\\n",
       "0        Manual      ARS  6000000  780050555             LIVMOTORS 2   \n",
       "1        Manual      USD    10500  210095605  MASSEYGROUP EXCLUSIVOS   \n",
       "2        Manual      ARS  5800000    5571520            DASAUTOS2014   \n",
       "\n",
       "  is_car_shop seller_country         seller_state    seller_city  \\\n",
       "0       False      Argentina  Bs.As. G.B.A. Norte  Vicente López   \n",
       "1       False      Argentina  Bs.As. G.B.A. Norte  Vicente López   \n",
       "2       False      Argentina    Bs.As. G.B.A. Sur    Berazategui   \n",
       "\n",
       "  seller_neighborhood  \n",
       "0               Munro  \n",
       "1              Olivos  \n",
       "2         Berazategui  \n",
       "\n",
       "[3 rows x 25 columns]"
      ]
     },
     "execution_count": 2,
     "metadata": {},
     "output_type": "execute_result"
    }
   ],
   "source": [
    "df = pd.read_json('https://raw.githubusercontent.com/arielRas/DataAdqusition/master/API%20MercadoLibre/MeliCarPublications.json')\n",
    "df.head(3)"
   ]
  },
  {
   "cell_type": "code",
   "execution_count": 4,
   "metadata": {},
   "outputs": [
    {
     "name": "stdout",
     "output_type": "stream",
     "text": [
      "<class 'pandas.core.frame.DataFrame'>\n",
      "Index: 12196 entries, 0 to 12195\n",
      "Data columns (total 25 columns):\n",
      " #   Column               Non-Null Count  Dtype  \n",
      "---  ------               --------------  -----  \n",
      " 0   id                   12196 non-null  object \n",
      " 1   category_id          12196 non-null  object \n",
      " 2   title                12196 non-null  object \n",
      " 3   condition            12196 non-null  object \n",
      " 4   car_year             12196 non-null  int64  \n",
      " 5   brand                12196 non-null  object \n",
      " 6   model                12196 non-null  object \n",
      " 7   version              12196 non-null  object \n",
      " 8   engine               11885 non-null  object \n",
      " 9   engine_power         11349 non-null  object \n",
      " 10  doors                12196 non-null  int64  \n",
      " 11  km                   12196 non-null  object \n",
      " 12  fuel_type            12196 non-null  object \n",
      " 13  traction_control     11809 non-null  object \n",
      " 14  passenger_capacity   11275 non-null  float64\n",
      " 15  transmission         11906 non-null  object \n",
      " 16  currency             12196 non-null  object \n",
      " 17  price                12196 non-null  int64  \n",
      " 18  seller_id            12196 non-null  int64  \n",
      " 19  seller_nickname      12196 non-null  object \n",
      " 20  is_car_shop          12196 non-null  bool   \n",
      " 21  seller_country       12196 non-null  object \n",
      " 22  seller_state         12196 non-null  object \n",
      " 23  seller_city          12196 non-null  object \n",
      " 24  seller_neighborhood  7477 non-null   object \n",
      "dtypes: bool(1), float64(1), int64(4), object(19)\n",
      "memory usage: 2.3+ MB\n"
     ]
    }
   ],
   "source": [
    "df.info()"
   ]
  },
  {
   "cell_type": "code",
   "execution_count": 5,
   "metadata": {},
   "outputs": [
    {
     "data": {
      "text/html": [
       "<div>\n",
       "<style scoped>\n",
       "    .dataframe tbody tr th:only-of-type {\n",
       "        vertical-align: middle;\n",
       "    }\n",
       "\n",
       "    .dataframe tbody tr th {\n",
       "        vertical-align: top;\n",
       "    }\n",
       "\n",
       "    .dataframe thead th {\n",
       "        text-align: right;\n",
       "    }\n",
       "</style>\n",
       "<table border=\"1\" class=\"dataframe\">\n",
       "  <thead>\n",
       "    <tr style=\"text-align: right;\">\n",
       "      <th></th>\n",
       "      <th>car_year</th>\n",
       "      <th>doors</th>\n",
       "      <th>passenger_capacity</th>\n",
       "      <th>price</th>\n",
       "      <th>seller_id</th>\n",
       "    </tr>\n",
       "  </thead>\n",
       "  <tbody>\n",
       "    <tr>\n",
       "      <th>count</th>\n",
       "      <td>12196.000000</td>\n",
       "      <td>12196.000000</td>\n",
       "      <td>11275.000000</td>\n",
       "      <td>1.219600e+04</td>\n",
       "      <td>1.219600e+04</td>\n",
       "    </tr>\n",
       "    <tr>\n",
       "      <th>mean</th>\n",
       "      <td>2015.917678</td>\n",
       "      <td>4.354870</td>\n",
       "      <td>4.978271</td>\n",
       "      <td>1.054430e+07</td>\n",
       "      <td>3.439563e+08</td>\n",
       "    </tr>\n",
       "    <tr>\n",
       "      <th>std</th>\n",
       "      <td>6.109399</td>\n",
       "      <td>0.676806</td>\n",
       "      <td>0.249476</td>\n",
       "      <td>1.309497e+07</td>\n",
       "      <td>3.748558e+08</td>\n",
       "    </tr>\n",
       "    <tr>\n",
       "      <th>min</th>\n",
       "      <td>1988.000000</td>\n",
       "      <td>2.000000</td>\n",
       "      <td>2.000000</td>\n",
       "      <td>1.230000e+02</td>\n",
       "      <td>7.465000e+03</td>\n",
       "    </tr>\n",
       "    <tr>\n",
       "      <th>25%</th>\n",
       "      <td>2012.000000</td>\n",
       "      <td>4.000000</td>\n",
       "      <td>5.000000</td>\n",
       "      <td>1.560000e+04</td>\n",
       "      <td>9.898473e+07</td>\n",
       "    </tr>\n",
       "    <tr>\n",
       "      <th>50%</th>\n",
       "      <td>2016.000000</td>\n",
       "      <td>4.000000</td>\n",
       "      <td>5.000000</td>\n",
       "      <td>7.500000e+06</td>\n",
       "      <td>2.014092e+08</td>\n",
       "    </tr>\n",
       "    <tr>\n",
       "      <th>75%</th>\n",
       "      <td>2022.000000</td>\n",
       "      <td>5.000000</td>\n",
       "      <td>5.000000</td>\n",
       "      <td>1.675000e+07</td>\n",
       "      <td>4.105601e+08</td>\n",
       "    </tr>\n",
       "    <tr>\n",
       "      <th>max</th>\n",
       "      <td>2024.000000</td>\n",
       "      <td>5.000000</td>\n",
       "      <td>7.000000</td>\n",
       "      <td>5.860000e+08</td>\n",
       "      <td>1.713678e+09</td>\n",
       "    </tr>\n",
       "  </tbody>\n",
       "</table>\n",
       "</div>"
      ],
      "text/plain": [
       "           car_year         doors  passenger_capacity         price  \\\n",
       "count  12196.000000  12196.000000        11275.000000  1.219600e+04   \n",
       "mean    2015.917678      4.354870            4.978271  1.054430e+07   \n",
       "std        6.109399      0.676806            0.249476  1.309497e+07   \n",
       "min     1988.000000      2.000000            2.000000  1.230000e+02   \n",
       "25%     2012.000000      4.000000            5.000000  1.560000e+04   \n",
       "50%     2016.000000      4.000000            5.000000  7.500000e+06   \n",
       "75%     2022.000000      5.000000            5.000000  1.675000e+07   \n",
       "max     2024.000000      5.000000            7.000000  5.860000e+08   \n",
       "\n",
       "          seller_id  \n",
       "count  1.219600e+04  \n",
       "mean   3.439563e+08  \n",
       "std    3.748558e+08  \n",
       "min    7.465000e+03  \n",
       "25%    9.898473e+07  \n",
       "50%    2.014092e+08  \n",
       "75%    4.105601e+08  \n",
       "max    1.713678e+09  "
      ]
     },
     "execution_count": 5,
     "metadata": {},
     "output_type": "execute_result"
    }
   ],
   "source": [
    "df.describe()"
   ]
  },
  {
   "cell_type": "markdown",
   "metadata": {},
   "source": [
    "## DataWrangling"
   ]
  },
  {
   "cell_type": "markdown",
   "metadata": {},
   "source": [
    "### Variable ***condition***"
   ]
  },
  {
   "cell_type": "code",
   "execution_count": 3,
   "metadata": {},
   "outputs": [
    {
     "data": {
      "text/plain": [
       "array(['Usado', 'Nuevo'], dtype=object)"
      ]
     },
     "execution_count": 3,
     "metadata": {},
     "output_type": "execute_result"
    }
   ],
   "source": [
    "df.condition.unique()"
   ]
  },
  {
   "cell_type": "code",
   "execution_count": 7,
   "metadata": {},
   "outputs": [
    {
     "data": {
      "text/plain": [
       "count    12196.000000\n",
       "mean         0.204165\n",
       "std          0.403107\n",
       "min          0.000000\n",
       "25%          0.000000\n",
       "50%          0.000000\n",
       "75%          0.000000\n",
       "max          1.000000\n",
       "Name: is_new, dtype: float64"
      ]
     },
     "execution_count": 7,
     "metadata": {},
     "output_type": "execute_result"
    }
   ],
   "source": [
    "df.rename(columns={'condition': 'is_new'}, inplace=True)\n",
    "df.is_new = df.is_new.str.replace('Usado', '0')\n",
    "df.is_new = df.is_new.str.replace('Nuevo', '1')\n",
    "df.is_new = df.is_new.astype(int)\n",
    "df.is_new.describe()"
   ]
  },
  {
   "cell_type": "markdown",
   "metadata": {},
   "source": [
    "### Variable ***model***"
   ]
  },
  {
   "cell_type": "code",
   "execution_count": 30,
   "metadata": {},
   "outputs": [
    {
     "data": {
      "text/plain": [
       "array(['Gol', 'Gol Trend', 'Up!', 'Bora', 'Vento', 'Polo', 'Amarok',\n",
       "       'Corsa', 'Onix', 'Agile', 'Prisma', 'Cruze', 'Aveo G3', 'Aveo',\n",
       "       'Tracker', 'Clio', 'Sandero', 'Fluence', 'Logan', 'Kangoo',\n",
       "       'Kangoo Express', 'Partner Patagónica', 'Captur', 'Duster',\n",
       "       'CAPTUR INTENS 2.0', 'CAPTUR LIFE 1.6', '206', '207', '208', '307',\n",
       "       '308', '407', '408', 'Cronos', 'Toro', 'Argo', 'Fiorino', 'Pulse',\n",
       "       '2022', 'Strada', 'Palio', 'Siena', 'Uno', 'Fiesta', 'Ecosport',\n",
       "       'Ka', 'Ranger', 'Ranger Raptor', 'Nueva Ranger',\n",
       "       'RANGER XLS AT AWD 3.0 V6 250 CV',\n",
       "       'RANGER XL 2.0 TURBO DIESEL CD 4X4 MANUAL',\n",
       "       'FORD RANGER LIMITED + 3.0 V6 DIESEL CD 4X4 10AT #GP', 'Focus III',\n",
       "       'Fiesta Kinetic Design', 'Focus 2', 'Focus', 'Focus II',\n",
       "       'Ford focus titanium', 'Focus 3', 'Etios', 'Hilux Pick-Up',\n",
       "       'Hilux', 'Hilux Chassi', 'SW4', 'Hilux SW4', '4x4', 'Corolla',\n",
       "       'Yaris', 'Civic'], dtype=object)"
      ]
     },
     "execution_count": 30,
     "metadata": {},
     "output_type": "execute_result"
    }
   ],
   "source": [
    "df.model.unique()"
   ]
  },
  {
   "cell_type": "code",
   "execution_count": 42,
   "metadata": {},
   "outputs": [
    {
     "data": {
      "text/plain": [
       "array(['Gol', 'Gol Trend', 'Up!', 'Bora', 'Vento', 'Polo', 'Amarok',\n",
       "       'Corsa', 'Onix', 'Agile', 'Prisma', 'Cruze', 'Aveo', 'Tracker',\n",
       "       'Clio', 'Sandero', 'Fluence', 'Logan', 'Kangoo', 'kangoo',\n",
       "       'Partner', 'Captur', 'Duster', '206', '207', '208', '307', '308',\n",
       "       '407', '408', 'Cronos', 'Toro', 'Argo', 'Fiorino', 'Pulse', '2022',\n",
       "       'Strada', 'Palio', 'Siena', 'Uno', 'Fiesta', 'Ecosport', 'Ka',\n",
       "       'Ranger', 'Focus', 'Etios', 'Hilux', '4x4', 'Corolla', 'Yaris',\n",
       "       'Civic'], dtype=object)"
      ]
     },
     "execution_count": 42,
     "metadata": {},
     "output_type": "execute_result"
    }
   ],
   "source": [
    "df.model = df.model.str.replace(r'.*Argo.*|.*ARGO.*', 'Argo', regex=True)\n",
    "df.model = df.model.str.replace(r'.*Capture.*|.*CAPTUR.*', 'Captur', regex=True)\n",
    "df.model = df.model.str.replace(r'.*Focus.*|.*FOCUS.*|.*focus.*', 'Focus', regex=True)\n",
    "df.model = df.model.str.replace(r'.*Ranger.*|.*RANGER.*', 'Ranger', regex=True)\n",
    "df.model = df.model.str.replace(r'.*Hilux.*|.*HILUX.*', 'Hilux', regex=True)\n",
    "df.model = df.model.str.replace(r'.*Fiesta.*|.*FIESTA.*', 'Fiesta', regex=True)\n",
    "df.model = df.model.str.replace(r'.*Aveo.*|.*AVEO.*', 'Aveo', regex=True)\n",
    "df.model = df.model.str.replace('SW4', 'Hilux')\n",
    "df.model = df.model.str.replace('Kangoo Express', 'kangoo')\n",
    "df.model = df.model.str.replace('Partner Patagónica', 'Partner')\n",
    "df.model.unique()"
   ]
  },
  {
   "cell_type": "markdown",
   "metadata": {},
   "source": [
    "### Variable"
   ]
  },
  {
   "cell_type": "code",
   "execution_count": 47,
   "metadata": {},
   "outputs": [
    {
     "name": "stdout",
     "output_type": "stream",
     "text": [
      "Cantidad de nulos: 311\n"
     ]
    }
   ],
   "source": [
    "print (f'Cantidad de nulos: {df.engine.isna().sum()}')"
   ]
  }
 ],
 "metadata": {
  "kernelspec": {
   "display_name": "Python 3",
   "language": "python",
   "name": "python3"
  },
  "language_info": {
   "codemirror_mode": {
    "name": "ipython",
    "version": 3
   },
   "file_extension": ".py",
   "mimetype": "text/x-python",
   "name": "python",
   "nbconvert_exporter": "python",
   "pygments_lexer": "ipython3",
   "version": "3.12.2"
  }
 },
 "nbformat": 4,
 "nbformat_minor": 2
}
