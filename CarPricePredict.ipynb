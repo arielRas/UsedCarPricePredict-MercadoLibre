{
 "cells": [
  {
   "cell_type": "markdown",
   "metadata": {},
   "source": [
    "## Exploracion de dataset"
   ]
  },
  {
   "cell_type": "code",
   "execution_count": 94,
   "metadata": {},
   "outputs": [],
   "source": [
    "import pandas as pd\n",
    "import re\n",
    "import seaborn as sns\n",
    "from matplotlib import pyplot as plt\n",
    "from scipy import stats\n",
    "from geopy.geocoders import Nominatim"
   ]
  },
  {
   "cell_type": "code",
   "execution_count": 95,
   "metadata": {},
   "outputs": [
    {
     "data": {
      "text/html": [
       "<div>\n",
       "<style scoped>\n",
       "    .dataframe tbody tr th:only-of-type {\n",
       "        vertical-align: middle;\n",
       "    }\n",
       "\n",
       "    .dataframe tbody tr th {\n",
       "        vertical-align: top;\n",
       "    }\n",
       "\n",
       "    .dataframe thead th {\n",
       "        text-align: right;\n",
       "    }\n",
       "</style>\n",
       "<table border=\"1\" class=\"dataframe\">\n",
       "  <thead>\n",
       "    <tr style=\"text-align: right;\">\n",
       "      <th></th>\n",
       "      <th>id</th>\n",
       "      <th>category_id</th>\n",
       "      <th>title</th>\n",
       "      <th>condition</th>\n",
       "      <th>car_year</th>\n",
       "      <th>brand</th>\n",
       "      <th>model</th>\n",
       "      <th>version</th>\n",
       "      <th>engine</th>\n",
       "      <th>engine_power</th>\n",
       "      <th>...</th>\n",
       "      <th>transmission</th>\n",
       "      <th>currency</th>\n",
       "      <th>price</th>\n",
       "      <th>seller_id</th>\n",
       "      <th>seller_nickname</th>\n",
       "      <th>is_car_shop</th>\n",
       "      <th>seller_country</th>\n",
       "      <th>seller_state</th>\n",
       "      <th>seller_city</th>\n",
       "      <th>seller_neighborhood</th>\n",
       "    </tr>\n",
       "  </thead>\n",
       "  <tbody>\n",
       "    <tr>\n",
       "      <th>0</th>\n",
       "      <td>MLA1413685801</td>\n",
       "      <td>MLA1744</td>\n",
       "      <td>Volkswagen Gol 1.4 3ptas Año 2013 - Liv Motors</td>\n",
       "      <td>Usado</td>\n",
       "      <td>2013</td>\n",
       "      <td>Volkswagen</td>\n",
       "      <td>Gol</td>\n",
       "      <td>1.4 Power 83cv 3 p</td>\n",
       "      <td>1.4</td>\n",
       "      <td>83 hp</td>\n",
       "      <td>...</td>\n",
       "      <td>Manual</td>\n",
       "      <td>ARS</td>\n",
       "      <td>6000000</td>\n",
       "      <td>780050555</td>\n",
       "      <td>LIVMOTORS 2</td>\n",
       "      <td>False</td>\n",
       "      <td>Argentina</td>\n",
       "      <td>Bs.As. G.B.A. Norte</td>\n",
       "      <td>Vicente López</td>\n",
       "      <td>Munro</td>\n",
       "    </tr>\n",
       "    <tr>\n",
       "      <th>1</th>\n",
       "      <td>MLA1406864357</td>\n",
       "      <td>MLA1744</td>\n",
       "      <td>Volkswagen Gol 2012 1.4 Power Ps+ac 83cv</td>\n",
       "      <td>Usado</td>\n",
       "      <td>2012</td>\n",
       "      <td>Volkswagen</td>\n",
       "      <td>Gol</td>\n",
       "      <td>1.4 Power Ps+ac 83cv</td>\n",
       "      <td>1.4</td>\n",
       "      <td>83 hp</td>\n",
       "      <td>...</td>\n",
       "      <td>Manual</td>\n",
       "      <td>USD</td>\n",
       "      <td>10500</td>\n",
       "      <td>210095605</td>\n",
       "      <td>MASSEYGROUP EXCLUSIVOS</td>\n",
       "      <td>False</td>\n",
       "      <td>Argentina</td>\n",
       "      <td>Bs.As. G.B.A. Norte</td>\n",
       "      <td>Vicente López</td>\n",
       "      <td>Olivos</td>\n",
       "    </tr>\n",
       "    <tr>\n",
       "      <th>2</th>\n",
       "      <td>MLA1677544030</td>\n",
       "      <td>MLA1744</td>\n",
       "      <td>Volkswagen Gol Power 3p 2012 Financiación Con Dni</td>\n",
       "      <td>Usado</td>\n",
       "      <td>2012</td>\n",
       "      <td>Volkswagen</td>\n",
       "      <td>Gol</td>\n",
       "      <td>1.4 Power Ps+ac 83cv</td>\n",
       "      <td>1.4</td>\n",
       "      <td>83 hp</td>\n",
       "      <td>...</td>\n",
       "      <td>Manual</td>\n",
       "      <td>ARS</td>\n",
       "      <td>5800000</td>\n",
       "      <td>5571520</td>\n",
       "      <td>DASAUTOS2014</td>\n",
       "      <td>False</td>\n",
       "      <td>Argentina</td>\n",
       "      <td>Bs.As. G.B.A. Sur</td>\n",
       "      <td>Berazategui</td>\n",
       "      <td>Berazategui</td>\n",
       "    </tr>\n",
       "  </tbody>\n",
       "</table>\n",
       "<p>3 rows × 25 columns</p>\n",
       "</div>"
      ],
      "text/plain": [
       "              id category_id  \\\n",
       "0  MLA1413685801     MLA1744   \n",
       "1  MLA1406864357     MLA1744   \n",
       "2  MLA1677544030     MLA1744   \n",
       "\n",
       "                                               title condition  car_year  \\\n",
       "0     Volkswagen Gol 1.4 3ptas Año 2013 - Liv Motors     Usado      2013   \n",
       "1           Volkswagen Gol 2012 1.4 Power Ps+ac 83cv     Usado      2012   \n",
       "2  Volkswagen Gol Power 3p 2012 Financiación Con Dni     Usado      2012   \n",
       "\n",
       "        brand model               version engine engine_power  ...  \\\n",
       "0  Volkswagen   Gol    1.4 Power 83cv 3 p    1.4        83 hp  ...   \n",
       "1  Volkswagen   Gol  1.4 Power Ps+ac 83cv    1.4        83 hp  ...   \n",
       "2  Volkswagen   Gol  1.4 Power Ps+ac 83cv    1.4        83 hp  ...   \n",
       "\n",
       "   transmission currency    price  seller_id         seller_nickname  \\\n",
       "0        Manual      ARS  6000000  780050555             LIVMOTORS 2   \n",
       "1        Manual      USD    10500  210095605  MASSEYGROUP EXCLUSIVOS   \n",
       "2        Manual      ARS  5800000    5571520            DASAUTOS2014   \n",
       "\n",
       "  is_car_shop seller_country         seller_state    seller_city  \\\n",
       "0       False      Argentina  Bs.As. G.B.A. Norte  Vicente López   \n",
       "1       False      Argentina  Bs.As. G.B.A. Norte  Vicente López   \n",
       "2       False      Argentina    Bs.As. G.B.A. Sur    Berazategui   \n",
       "\n",
       "  seller_neighborhood  \n",
       "0               Munro  \n",
       "1              Olivos  \n",
       "2         Berazategui  \n",
       "\n",
       "[3 rows x 25 columns]"
      ]
     },
     "execution_count": 95,
     "metadata": {},
     "output_type": "execute_result"
    }
   ],
   "source": [
    "df = pd.read_json('https://raw.githubusercontent.com/arielRas/DataAdqusition/master/API%20MercadoLibre/MeliCarPublications.json')\n",
    "df.head(3)"
   ]
  },
  {
   "cell_type": "code",
   "execution_count": 96,
   "metadata": {},
   "outputs": [
    {
     "name": "stdout",
     "output_type": "stream",
     "text": [
      "<class 'pandas.core.frame.DataFrame'>\n",
      "Index: 12196 entries, 0 to 12195\n",
      "Data columns (total 25 columns):\n",
      " #   Column               Non-Null Count  Dtype  \n",
      "---  ------               --------------  -----  \n",
      " 0   id                   12196 non-null  object \n",
      " 1   category_id          12196 non-null  object \n",
      " 2   title                12196 non-null  object \n",
      " 3   condition            12196 non-null  object \n",
      " 4   car_year             12196 non-null  int64  \n",
      " 5   brand                12196 non-null  object \n",
      " 6   model                12196 non-null  object \n",
      " 7   version              12196 non-null  object \n",
      " 8   engine               11885 non-null  object \n",
      " 9   engine_power         11349 non-null  object \n",
      " 10  doors                12196 non-null  int64  \n",
      " 11  km                   12196 non-null  object \n",
      " 12  fuel_type            12196 non-null  object \n",
      " 13  traction_control     11809 non-null  object \n",
      " 14  passenger_capacity   11275 non-null  float64\n",
      " 15  transmission         11906 non-null  object \n",
      " 16  currency             12196 non-null  object \n",
      " 17  price                12196 non-null  int64  \n",
      " 18  seller_id            12196 non-null  int64  \n",
      " 19  seller_nickname      12196 non-null  object \n",
      " 20  is_car_shop          12196 non-null  bool   \n",
      " 21  seller_country       12196 non-null  object \n",
      " 22  seller_state         12196 non-null  object \n",
      " 23  seller_city          12196 non-null  object \n",
      " 24  seller_neighborhood  7477 non-null   object \n",
      "dtypes: bool(1), float64(1), int64(4), object(19)\n",
      "memory usage: 2.3+ MB\n"
     ]
    }
   ],
   "source": [
    "df.info()"
   ]
  },
  {
   "cell_type": "code",
   "execution_count": 97,
   "metadata": {},
   "outputs": [
    {
     "data": {
      "text/html": [
       "<div>\n",
       "<style scoped>\n",
       "    .dataframe tbody tr th:only-of-type {\n",
       "        vertical-align: middle;\n",
       "    }\n",
       "\n",
       "    .dataframe tbody tr th {\n",
       "        vertical-align: top;\n",
       "    }\n",
       "\n",
       "    .dataframe thead th {\n",
       "        text-align: right;\n",
       "    }\n",
       "</style>\n",
       "<table border=\"1\" class=\"dataframe\">\n",
       "  <thead>\n",
       "    <tr style=\"text-align: right;\">\n",
       "      <th></th>\n",
       "      <th>car_year</th>\n",
       "      <th>doors</th>\n",
       "      <th>passenger_capacity</th>\n",
       "      <th>price</th>\n",
       "      <th>seller_id</th>\n",
       "    </tr>\n",
       "  </thead>\n",
       "  <tbody>\n",
       "    <tr>\n",
       "      <th>count</th>\n",
       "      <td>12196.000000</td>\n",
       "      <td>12196.000000</td>\n",
       "      <td>11275.000000</td>\n",
       "      <td>1.219600e+04</td>\n",
       "      <td>1.219600e+04</td>\n",
       "    </tr>\n",
       "    <tr>\n",
       "      <th>mean</th>\n",
       "      <td>2015.917678</td>\n",
       "      <td>4.354870</td>\n",
       "      <td>4.978271</td>\n",
       "      <td>1.054430e+07</td>\n",
       "      <td>3.439563e+08</td>\n",
       "    </tr>\n",
       "    <tr>\n",
       "      <th>std</th>\n",
       "      <td>6.109399</td>\n",
       "      <td>0.676806</td>\n",
       "      <td>0.249476</td>\n",
       "      <td>1.309497e+07</td>\n",
       "      <td>3.748558e+08</td>\n",
       "    </tr>\n",
       "    <tr>\n",
       "      <th>min</th>\n",
       "      <td>1988.000000</td>\n",
       "      <td>2.000000</td>\n",
       "      <td>2.000000</td>\n",
       "      <td>1.230000e+02</td>\n",
       "      <td>7.465000e+03</td>\n",
       "    </tr>\n",
       "    <tr>\n",
       "      <th>25%</th>\n",
       "      <td>2012.000000</td>\n",
       "      <td>4.000000</td>\n",
       "      <td>5.000000</td>\n",
       "      <td>1.560000e+04</td>\n",
       "      <td>9.898473e+07</td>\n",
       "    </tr>\n",
       "    <tr>\n",
       "      <th>50%</th>\n",
       "      <td>2016.000000</td>\n",
       "      <td>4.000000</td>\n",
       "      <td>5.000000</td>\n",
       "      <td>7.500000e+06</td>\n",
       "      <td>2.014092e+08</td>\n",
       "    </tr>\n",
       "    <tr>\n",
       "      <th>75%</th>\n",
       "      <td>2022.000000</td>\n",
       "      <td>5.000000</td>\n",
       "      <td>5.000000</td>\n",
       "      <td>1.675000e+07</td>\n",
       "      <td>4.105601e+08</td>\n",
       "    </tr>\n",
       "    <tr>\n",
       "      <th>max</th>\n",
       "      <td>2024.000000</td>\n",
       "      <td>5.000000</td>\n",
       "      <td>7.000000</td>\n",
       "      <td>5.860000e+08</td>\n",
       "      <td>1.713678e+09</td>\n",
       "    </tr>\n",
       "  </tbody>\n",
       "</table>\n",
       "</div>"
      ],
      "text/plain": [
       "           car_year         doors  passenger_capacity         price  \\\n",
       "count  12196.000000  12196.000000        11275.000000  1.219600e+04   \n",
       "mean    2015.917678      4.354870            4.978271  1.054430e+07   \n",
       "std        6.109399      0.676806            0.249476  1.309497e+07   \n",
       "min     1988.000000      2.000000            2.000000  1.230000e+02   \n",
       "25%     2012.000000      4.000000            5.000000  1.560000e+04   \n",
       "50%     2016.000000      4.000000            5.000000  7.500000e+06   \n",
       "75%     2022.000000      5.000000            5.000000  1.675000e+07   \n",
       "max     2024.000000      5.000000            7.000000  5.860000e+08   \n",
       "\n",
       "          seller_id  \n",
       "count  1.219600e+04  \n",
       "mean   3.439563e+08  \n",
       "std    3.748558e+08  \n",
       "min    7.465000e+03  \n",
       "25%    9.898473e+07  \n",
       "50%    2.014092e+08  \n",
       "75%    4.105601e+08  \n",
       "max    1.713678e+09  "
      ]
     },
     "execution_count": 97,
     "metadata": {},
     "output_type": "execute_result"
    }
   ],
   "source": [
    "df.describe()"
   ]
  },
  {
   "cell_type": "markdown",
   "metadata": {},
   "source": [
    "## DataWrangling"
   ]
  },
  {
   "cell_type": "markdown",
   "metadata": {},
   "source": [
    "### Variable ***condition***"
   ]
  },
  {
   "cell_type": "code",
   "execution_count": 98,
   "metadata": {},
   "outputs": [
    {
     "data": {
      "text/plain": [
       "array(['Usado', 'Nuevo'], dtype=object)"
      ]
     },
     "execution_count": 98,
     "metadata": {},
     "output_type": "execute_result"
    }
   ],
   "source": [
    "df.condition.unique()"
   ]
  },
  {
   "cell_type": "code",
   "execution_count": 99,
   "metadata": {},
   "outputs": [
    {
     "data": {
      "text/plain": [
       "count    12196.000000\n",
       "mean         0.204165\n",
       "std          0.403107\n",
       "min          0.000000\n",
       "25%          0.000000\n",
       "50%          0.000000\n",
       "75%          0.000000\n",
       "max          1.000000\n",
       "Name: is_new, dtype: float64"
      ]
     },
     "execution_count": 99,
     "metadata": {},
     "output_type": "execute_result"
    }
   ],
   "source": [
    "df.rename(columns={'condition': 'is_new'}, inplace=True)\n",
    "df.is_new = df.is_new.str.replace('Usado', '0')\n",
    "df.is_new = df.is_new.str.replace('Nuevo', '1')\n",
    "df.is_new = df.is_new.astype(int)\n",
    "df.is_new.describe()"
   ]
  },
  {
   "cell_type": "markdown",
   "metadata": {},
   "source": [
    "### Variable ***model***"
   ]
  },
  {
   "cell_type": "code",
   "execution_count": 100,
   "metadata": {},
   "outputs": [
    {
     "data": {
      "text/plain": [
       "array(['Gol', 'Gol Trend', 'Up!', 'Bora', 'Vento', 'Polo', 'Amarok',\n",
       "       'Corsa', 'Onix', 'Agile', 'Prisma', 'Cruze', 'Aveo G3', 'Aveo',\n",
       "       'Tracker', 'Clio', 'Sandero', 'Fluence', 'Logan', 'Kangoo',\n",
       "       'Kangoo Express', 'Partner Patagónica', 'Captur', 'Duster',\n",
       "       'CAPTUR INTENS 2.0', 'CAPTUR LIFE 1.6', '206', '207', '208', '307',\n",
       "       '308', '407', '408', 'Cronos', 'Toro', 'Argo', 'Fiorino', 'Pulse',\n",
       "       '2022', 'Strada', 'ARGO PRECISION 1.8', '864 - ARGO HGT 1.8',\n",
       "       'Palio', 'Siena', 'Uno', 'Fiesta', 'Ecosport', 'Ka', 'Ranger',\n",
       "       'Ranger Raptor', 'Nueva Ranger', 'RANGER XLS AT AWD 3.0 V6 250 CV',\n",
       "       'RANGER XL 2.0 TURBO DIESEL CD 4X4 MANUAL',\n",
       "       'FORD RANGER LIMITED + 3.0 V6 DIESEL CD 4X4 10AT #GP', 'Focus III',\n",
       "       'Fiesta Kinetic Design', 'Focus 2', 'Focus', 'Focus II',\n",
       "       'Ford focus titanium', 'Focus 3', 'Etios', 'Hilux Pick-Up',\n",
       "       'Hilux', 'Hilux Chassi', 'SW4', 'Hilux SW4', '4x4', 'Corolla',\n",
       "       'Yaris', 'Civic'], dtype=object)"
      ]
     },
     "execution_count": 100,
     "metadata": {},
     "output_type": "execute_result"
    }
   ],
   "source": [
    "df.model.unique()"
   ]
  },
  {
   "cell_type": "code",
   "execution_count": 101,
   "metadata": {},
   "outputs": [
    {
     "data": {
      "text/plain": [
       "array(['Gol', 'Gol Trend', 'Up!', 'Bora', 'Vento', 'Polo', 'Amarok',\n",
       "       'Corsa', 'Onix', 'Agile', 'Prisma', 'Cruze', 'Aveo', 'Tracker',\n",
       "       'Clio', 'Sandero', 'Fluence', 'Logan', 'Kangoo', 'Partner',\n",
       "       'Captur', 'Duster', '206', '207', '208', '307', '308', '407',\n",
       "       '408', 'Cronos', 'Toro', 'Argo', 'Fiorino', 'Pulse', '2022',\n",
       "       'Strada', 'Palio', 'Siena', 'Uno', 'Fiesta', 'Ecosport', 'Ka',\n",
       "       'Ranger', 'Focus', 'Etios', 'Hilux', '4x4', 'Corolla', 'Yaris',\n",
       "       'Civic'], dtype=object)"
      ]
     },
     "execution_count": 101,
     "metadata": {},
     "output_type": "execute_result"
    }
   ],
   "source": [
    "df.model = df.model.str.replace(r'.*Argo.*|.*ARGO.*', 'Argo', regex=True)\n",
    "df.model = df.model.str.replace(r'.*Capture.*|.*CAPTUR.*', 'Captur', regex=True)\n",
    "df.model = df.model.str.replace(r'.*Focus.*|.*FOCUS.*|.*focus.*', 'Focus', regex=True)\n",
    "df.model = df.model.str.replace(r'.*Ranger.*|.*RANGER.*', 'Ranger', regex=True)\n",
    "df.model = df.model.str.replace(r'.*Hilux.*|.*HILUX.*', 'Hilux', regex=True)\n",
    "df.model = df.model.str.replace(r'.*Fiesta.*|.*FIESTA.*', 'Fiesta', regex=True)\n",
    "df.model = df.model.str.replace(r'.*Aveo.*|.*AVEO.*', 'Aveo', regex=True)\n",
    "df.model = df.model.str.replace('SW4', 'Hilux')\n",
    "df.model = df.model.str.replace('Kangoo Express', 'Kangoo')\n",
    "df.model = df.model.str.replace('Partner Patagónica', 'Partner')\n",
    "df.model.unique()"
   ]
  },
  {
   "cell_type": "markdown",
   "metadata": {},
   "source": [
    "### Variable ***engine***"
   ]
  },
  {
   "cell_type": "markdown",
   "metadata": {},
   "source": [
    "#### Conversion de tipo de dato"
   ]
  },
  {
   "cell_type": "code",
   "execution_count": 102,
   "metadata": {},
   "outputs": [
    {
     "data": {
      "text/plain": [
       "array(['1.4', '1.6', '1.9', '1.4l', None, 'INYECCION MULTI PUNTO',\n",
       "       '1.9 DIESEL', '1.8', '1.9 diésel', '1,6', '4 cilindros',\n",
       "       '1.90 diesel', '1600 audi', 'SD', '2.0', 'MSI',\n",
       "       'MSI 1.6 16 válvulas 110cv', '1.0', '1.0L', '1', '2',\n",
       "       '1.9 TURBO DIESEL 100CV', '2.5', '2.0 TDI', '2.5 LUXURY',\n",
       "       '1.4 tsi', '350 TSI', '1.4 Tsi', '2.0 TSI',\n",
       "       'TURBO DIESEL INYECCION', '1.6MSI', '1.6 MSI MT', '1.6L',\n",
       "       'TURBOALIMENTADO', '999 3 Cilindros 101 CV', 'MSI 1.6 16V',\n",
       "       '1.4TSI', '1.6 MSI', '1.0 170 Tsi', '1.6 16V MSI  - 110CV -',\n",
       "       '1.6 MSI 110CV', '1.6 msi', '1.6 Msi',\n",
       "       'TRACK 1.6 MSI MT 1ST EDITION', '170tsi',\n",
       "       '1.6 MSI o otro depende version.', 'nafta', '1.0  101 CV 170 TSI',\n",
       "       '1.6 16v 110 hp', '1.6 16v 110hp', '3.0', '2.0 4x2 180cv',\n",
       "       '2.0 4x2 At 180cv', '2.0 4x2 180CV', '2.0 4X4 140CV',\n",
       "       '2.0 4x2 140cv', '3.0 258CV', '2.0 180CV', '2.0 140CV',\n",
       "       '2.0 140cv', '2.0 180cv', '2.0 140 CV', '2.0 180 cv', '3.0L 258CV',\n",
       "       '2.0L 180CV', '2.0 180CV 4X2 AT', '2.0 180CV 4X2 MT',\n",
       "       'Diesel 3.0 V-6 258Cv', '2.0 TDI 180CV', '3.0 V6 258cv',\n",
       "       '3.0 258CV 4X4 AT', '3', '1.7', '1.2', '1.4 LT', 'Chevrolet',\n",
       "       'NAFTA', '1.4 Turbo', '1.4 turbo', '1,4', '1.4 TSI 153CV',\n",
       "       '1.4 TURBO', '1.4T', '1.4 t',\n",
       "       '1.6 DOCH (Inyección multipunto); 4 cil / 16 v; 103 CV',\n",
       "       '1.2 TURBO', '1.2 Turbo', '1.2T', '1.2T AT', '1.2 T', '1.2 turbo',\n",
       "       '3 en línea 12 v', '1.2 turbo 3 cilindros', '1.4 N',\n",
       "       'RENAULT 1.6 16v 110cv', '1.5', '1.6 16v',\n",
       "       '1.6 115 CV de potencia', '1.6 16V NISSAN Cadenero',\n",
       "       '1.6 16v NISSAN Cadenero', '1.6 16 v HR16 102 g2', '1.6 NAFTA',\n",
       "       '1.6 INTENSE CTV AT', '1.3 turbo', '1.6 Turbo', '1.6 thp',\n",
       "       '1.6 115 CV', '143 CV', '1.6 Thp', '2.2', '1.6 HDI', '1.3',\n",
       "       '1.8 ETORQ EVO NAFTA', '2.0L', '1.8L', 'FIAT', '1.1', '1300',\n",
       "       '1.3 Firefly', '1.6 Sigma', '1.6N', 'Ford', '2.0 XLT PLUS AT',\n",
       "       '2.0 170cv', '2.0 Bi Turbo 210cv', '3.2', '3.0 T V6  250 CV',\n",
       "       'Motor 2.0L Turbo diesel con 170 CV 405 Nm de torque', '3.0 L V6',\n",
       "       '2.0L TURBO', 'v6 diesel', '3.0L V6 250CV', '3.0 V6 Diesel',\n",
       "       'Motor 3.0L V6 Turbo diesel con 250 CV 600 Nm de torque',\n",
       "       '2.0 T 210 CV', '2.0 T 170 CV', '2.0 turbo diesel', '2.0 bi turbo',\n",
       "       '3.0 V6 250hp 600NM', '2.0 PANTHER', '2.0 BITURBO 213 CV',\n",
       "       '3.0 V6 250cv', '3.0 V6', '2.0 L PANTHER', '2.0 TURBO 210HP 500NM',\n",
       "       '3.0L V6', '2.0 Lion 210CV', '2.0L BI-TURBO 210CV',\n",
       "       '3.0 LION V6 DIESEL - 250 CV', '2.0 Ecobost BT 210CV',\n",
       "       '2.0 DIESEL 170CV MONOTURBO', '3.0 V6 250 CV',\n",
       "       '2.0 bi Turbo 210 CV', 'V6 TD 250 CV', '2.0 TURBO 170 CV',\n",
       "       '3.0 V6 250 CV DIESEL', 'T Diesel V6 250 cv', '2.0L Biturbo',\n",
       "       '2.0 BI-TURBO 210HP 500NM', '3.0L 250CV V6', '2.0 BIT',\n",
       "       '2.0L BiTurbo', 'V6 3.0L. DIESEL 250CV', '2.0 TDI 170CV',\n",
       "       '2.0 tdi  170cv', '3.0 TURBO V6 250 CV', '2.0L Bi-Turbo', '3.0L',\n",
       "       '2.0 TURBO', '2.0 PANTHER BI-TURBO - 210 CV', '2.0T',\n",
       "       '1.6 STYLE 5P',\n",
       "       'Duratec de 1.999 cc, con inyección directa GDI, distribución variable de válvulas TiVCT y cadena de distribución. Produce una potencia máxima de 170 cv a las 6.600 vueltas, y un par máximo de 202 Nm a las 4.450 rpm',\n",
       "       '1.5 N', '2.8', '2.4', '4.0', '2.8 204cv', 'TURBO DIESEL',\n",
       "       '2.8 TDI', '1.5 S CVT', 'TOYOTA 1.5 107CV', '1.5 nafta', 'naftero',\n",
       "       '1.5 Nafta', '1.6L 261cv', '1,6T caja manual', '1.6 turbo',\n",
       "       'Motor: 1.5 de 107 hp', '1.5 Cadenero'], dtype=object)"
      ]
     },
     "execution_count": 102,
     "metadata": {},
     "output_type": "execute_result"
    }
   ],
   "source": [
    "df.engine.unique()"
   ]
  },
  {
   "cell_type": "code",
   "execution_count": 103,
   "metadata": {},
   "outputs": [
    {
     "data": {
      "text/plain": [
       "array(['1.4', '1.6', '1.9', None, '', '1.8', '16', '4', '1.90', '1600',\n",
       "       '2.0', '1.616110', '1.0', '1', '2', '1.9100', '2.5', '350',\n",
       "       '9993101', '1.616', '1.0170', '1.6110', '1.61', '170', '1.6.',\n",
       "       '1.0101170', '3.0', '2.042180', '2.044140', '2.042140', '3.0258',\n",
       "       '2.0180', '2.0140', '2.018042', '3.06258', '3.025844', '3', '1.7',\n",
       "       '1.2', '14', '1.4153', '1.6416103', '312', '1.23', '1.5', '1.6115',\n",
       "       '1.616161022', '1.3', '143', '2.2', '1.1', '1300', '2.0170',\n",
       "       '2.0210', '3.2', '3.06250', '2.0170405', '3.06', '6', '3.06250600',\n",
       "       '2.0213', '2.0210500', '6250', '3.02506', '63.0.250', '1.65',\n",
       "       '1.999.1706.6002024.450', '2.8', '2.4', '4.0', '2.8204', '1.5107',\n",
       "       '1.6261'], dtype=object)"
      ]
     },
     "execution_count": 103,
     "metadata": {},
     "output_type": "execute_result"
    }
   ],
   "source": [
    "df.engine = df.engine.str.replace(r'[^0-9.]', '', regex=True)\n",
    "df.engine = df.engine.str.strip()\n",
    "df.engine.unique()"
   ]
  },
  {
   "cell_type": "code",
   "execution_count": 104,
   "metadata": {},
   "outputs": [],
   "source": [
    "def get_engine(engine):\n",
    "    if (not engine) | (pd.isna(engine)): return None        \n",
    "    if re.search(r'^[^.]*$', engine): return None        \n",
    "    \n",
    "    if re.search(r'^\\d\\.', engine):\n",
    "        if len(engine) == 1:\n",
    "            engine = engine + '.0'\n",
    "        elif len(engine) > 3:\n",
    "            engine = engine[:3]\n",
    "        return engine\n",
    "    else:\n",
    "        return None"
   ]
  },
  {
   "cell_type": "code",
   "execution_count": 105,
   "metadata": {},
   "outputs": [
    {
     "data": {
      "text/plain": [
       "array([1.4, 1.6, 1.9, nan, 1.8, 2. , 1. , 2.5, 3. , 1.7, 1.2, 1.5, 1.3,\n",
       "       2.2, 1.1, 3.2, 2.8, 2.4, 4. ])"
      ]
     },
     "execution_count": 105,
     "metadata": {},
     "output_type": "execute_result"
    }
   ],
   "source": [
    "df.engine = df.engine.apply(get_engine)\n",
    "df.engine = df.engine.astype(float)\n",
    "df.engine.unique()"
   ]
  },
  {
   "cell_type": "code",
   "execution_count": 106,
   "metadata": {},
   "outputs": [
    {
     "name": "stdout",
     "output_type": "stream",
     "text": [
      "<class 'pandas.core.series.Series'>\n",
      "Index: 12196 entries, 0 to 12195\n",
      "Series name: engine\n",
      "Non-Null Count  Dtype  \n",
      "--------------  -----  \n",
      "11733 non-null  float64\n",
      "dtypes: float64(1)\n",
      "memory usage: 190.6 KB\n"
     ]
    }
   ],
   "source": [
    "df.engine.info()"
   ]
  },
  {
   "cell_type": "markdown",
   "metadata": {},
   "source": [
    "#### Imputacion de datos nulos"
   ]
  },
  {
   "cell_type": "code",
   "execution_count": 107,
   "metadata": {},
   "outputs": [
    {
     "name": "stdout",
     "output_type": "stream",
     "text": [
      "Cantidad de nulos: 463\n"
     ]
    }
   ],
   "source": [
    "print(f'Cantidad de nulos: {df.engine.isna().sum()}')"
   ]
  },
  {
   "cell_type": "code",
   "execution_count": 108,
   "metadata": {},
   "outputs": [],
   "source": [
    "#Copia de la variable sin imputar\n",
    "var_nan = df.engine.copy()\n",
    "df_median = df.groupby('model')['engine'].median().reset_index(name='median')"
   ]
  },
  {
   "cell_type": "code",
   "execution_count": 109,
   "metadata": {},
   "outputs": [],
   "source": [
    "def get_median(model:str)->float:\n",
    "    median = df_median.loc[df_median.model == model, 'median'].item()\n",
    "    return median"
   ]
  },
  {
   "cell_type": "code",
   "execution_count": 110,
   "metadata": {},
   "outputs": [
    {
     "name": "stdout",
     "output_type": "stream",
     "text": [
      "Cantidad de nulos: 1\n"
     ]
    }
   ],
   "source": [
    "df.engine = df.apply(lambda x: get_median(x.model) if pd.isna(x.engine) else x.engine, axis=1)\n",
    "print(f'Cantidad de nulos: {df.engine.isna().sum()}')"
   ]
  },
  {
   "cell_type": "code",
   "execution_count": 111,
   "metadata": {},
   "outputs": [
    {
     "name": "stdout",
     "output_type": "stream",
     "text": [
      "Cantidad de nulos: 0\n"
     ]
    }
   ],
   "source": [
    "df = df.loc[df.engine.notna()]\n",
    "print(f'Cantidad de nulos: {df.engine.isna().sum()}')"
   ]
  },
  {
   "cell_type": "code",
   "execution_count": 112,
   "metadata": {},
   "outputs": [],
   "source": [
    "#plt.style.use(\"bmh\")\n",
    "#fig, ax = plt.subplots(nrows=1, ncols=2, figsize=(12,4))\n",
    "#sns.kdeplot(x=var_nan, ax=ax[0])\n",
    "#ax[0].set_title('Distribucion de la variable engine con valores sin imputar', fontsize=12)\n",
    "#ax[0].set_xlabel('Cilindrado')\n",
    "\n",
    "#sns.kdeplot(x=df.engine, ax=ax[1])\n",
    "#ax[1].set_title('Distribucion de la variable engine con valores imputados', fontsize=12)\n",
    "#ax[1].set_xlabel('Cilindrado')\n",
    "#plt.tight_layout()\n",
    "#plt.show()"
   ]
  },
  {
   "cell_type": "code",
   "execution_count": 113,
   "metadata": {},
   "outputs": [],
   "source": [
    "#Se eliminan variables para liberar memoria\n",
    "del df_median"
   ]
  },
  {
   "cell_type": "markdown",
   "metadata": {},
   "source": [
    "### Variable ***engine_power***"
   ]
  },
  {
   "cell_type": "markdown",
   "metadata": {},
   "source": [
    "#### Conversion de tipo de dato"
   ]
  },
  {
   "cell_type": "code",
   "execution_count": 114,
   "metadata": {},
   "outputs": [
    {
     "data": {
      "text/plain": [
       "array(['83 hp', None, '92 hp', '90 hp', '64 hp', '101 cv', '98 hp',\n",
       "       '54 hp', '101 hp', '75 hp', '75 cv', '180 hp', '100 hp', '116 hp',\n",
       "       '211 hp', '150 hp', '170 hp', '200 hp', '115 hp', '110 hp',\n",
       "       '140 hp', '105 hp', '105 cv', '150 cv', '224 hp', '258 hp',\n",
       "       '102 hp', '70 hp', '94 hp', '80.6 hp', '65 hp', '60 hp', '92 cv',\n",
       "       '98 cv', '153 hp', '141 hp', '163 hp', '103 hp', '132 hp', '74 hp',\n",
       "       '172 hp', '145 hp', '143 hp', '190 hp', '85 hp', '115 cv', '85 cv',\n",
       "       '114 hp', '95 hp', '89 hp', '143 cv', '138 hp', '156 hp', '106 hp',\n",
       "       '175 hp', '208 hp', '165 hp', '152 hp', '270 hp', '225 hp',\n",
       "       '216 hp', '160 hp', '136 hp', '99 hp', '130 hp', '99 cv', '87 hp',\n",
       "       '120 hp', '170 cv', '72 hp', '82 hp', '87 cv', '68 hp', '49 hp',\n",
       "       '120 cv', '123 hp', '123 cv', '63 hp', '67 hp', '210 hp', '250 hp',\n",
       "       '213 hp', '125 hp', '166 hp', '99.2 hp', '125 cv', '103 cv',\n",
       "       '177 hp', '238 hp', '204 hp', '171 hp', '134 hp', '140 cv',\n",
       "       '107 hp', '272 hp', '107 cv', '127 hp', '154 cv'], dtype=object)"
      ]
     },
     "execution_count": 114,
     "metadata": {},
     "output_type": "execute_result"
    }
   ],
   "source": [
    "df.engine_power.unique()"
   ]
  },
  {
   "cell_type": "code",
   "execution_count": 115,
   "metadata": {},
   "outputs": [
    {
     "data": {
      "text/plain": [
       "array([ 83. ,   nan,  92. ,  90. ,  64. , 101. ,  98. ,  54. ,  75. ,\n",
       "       180. , 100. , 116. , 211. , 150. , 170. , 200. , 115. , 110. ,\n",
       "       140. , 105. , 224. , 258. , 102. ,  70. ,  94. ,  80.6,  65. ,\n",
       "        60. , 153. , 141. , 163. , 103. , 132. ,  74. , 172. , 145. ,\n",
       "       143. , 190. ,  85. , 114. ,  95. ,  89. , 138. , 156. , 106. ,\n",
       "       175. , 208. , 165. , 152. , 270. , 225. , 216. , 160. , 136. ,\n",
       "        99. , 130. ,  87. , 120. ,  72. ,  82. ,  68. ,  49. , 123. ,\n",
       "        63. ,  67. , 210. , 250. , 213. , 125. , 166. ,  99.2, 177. ,\n",
       "       238. , 204. , 171. , 134. , 107. , 272. , 127. , 154. ])"
      ]
     },
     "execution_count": 115,
     "metadata": {},
     "output_type": "execute_result"
    }
   ],
   "source": [
    "df.engine_power = df.engine_power.str.replace(r'hp|cv', '', regex=True)\n",
    "df.engine_power = df.engine_power.str.strip()\n",
    "df.engine_power = df.engine_power.astype(float)\n",
    "df.engine_power.unique()"
   ]
  },
  {
   "cell_type": "code",
   "execution_count": 116,
   "metadata": {},
   "outputs": [
    {
     "name": "stdout",
     "output_type": "stream",
     "text": [
      "<class 'pandas.core.series.Series'>\n",
      "Index: 12195 entries, 0 to 12195\n",
      "Series name: engine_power\n",
      "Non-Null Count  Dtype  \n",
      "--------------  -----  \n",
      "11349 non-null  float64\n",
      "dtypes: float64(1)\n",
      "memory usage: 190.5 KB\n"
     ]
    }
   ],
   "source": [
    "df.engine_power.info()"
   ]
  },
  {
   "cell_type": "markdown",
   "metadata": {},
   "source": [
    "#### Imputacion de datos nulos"
   ]
  },
  {
   "cell_type": "code",
   "execution_count": 117,
   "metadata": {},
   "outputs": [
    {
     "name": "stdout",
     "output_type": "stream",
     "text": [
      "Cantidad de nulos: 846\n"
     ]
    }
   ],
   "source": [
    "print(f'Cantidad de nulos: {df.engine_power.isna().sum()}')"
   ]
  },
  {
   "cell_type": "code",
   "execution_count": 118,
   "metadata": {},
   "outputs": [],
   "source": [
    "#Copia de la variable sin imputar\n",
    "var_nan = df.engine_power.copy()"
   ]
  },
  {
   "cell_type": "code",
   "execution_count": 119,
   "metadata": {},
   "outputs": [
    {
     "data": {
      "text/html": [
       "<div>\n",
       "<style scoped>\n",
       "    .dataframe tbody tr th:only-of-type {\n",
       "        vertical-align: middle;\n",
       "    }\n",
       "\n",
       "    .dataframe tbody tr th {\n",
       "        vertical-align: top;\n",
       "    }\n",
       "\n",
       "    .dataframe thead th {\n",
       "        text-align: right;\n",
       "    }\n",
       "</style>\n",
       "<table border=\"1\" class=\"dataframe\">\n",
       "  <thead>\n",
       "    <tr style=\"text-align: right;\">\n",
       "      <th></th>\n",
       "      <th>model</th>\n",
       "      <th>mode</th>\n",
       "    </tr>\n",
       "  </thead>\n",
       "  <tbody>\n",
       "    <tr>\n",
       "      <th>0</th>\n",
       "      <td>2022</td>\n",
       "      <td>99.0</td>\n",
       "    </tr>\n",
       "    <tr>\n",
       "      <th>1</th>\n",
       "      <td>206</td>\n",
       "      <td>90.0</td>\n",
       "    </tr>\n",
       "    <tr>\n",
       "      <th>2</th>\n",
       "      <td>207</td>\n",
       "      <td>75.0</td>\n",
       "    </tr>\n",
       "    <tr>\n",
       "      <th>3</th>\n",
       "      <td>208</td>\n",
       "      <td>115.0</td>\n",
       "    </tr>\n",
       "    <tr>\n",
       "      <th>4</th>\n",
       "      <td>307</td>\n",
       "      <td>110.0</td>\n",
       "    </tr>\n",
       "  </tbody>\n",
       "</table>\n",
       "</div>"
      ],
      "text/plain": [
       "  model   mode\n",
       "0  2022   99.0\n",
       "1   206   90.0\n",
       "2   207   75.0\n",
       "3   208  115.0\n",
       "4   307  110.0"
      ]
     },
     "execution_count": 119,
     "metadata": {},
     "output_type": "execute_result"
    }
   ],
   "source": [
    "df_mode = df.groupby('model')['engine_power'].apply(lambda x: stats.mode(x)[0]) #Devuelve valor de moda[0] y conteo[1] \n",
    "df_mode = df_mode.reset_index(name='mode')\n",
    "df_mode.head()"
   ]
  },
  {
   "cell_type": "code",
   "execution_count": 120,
   "metadata": {},
   "outputs": [],
   "source": [
    "def get_mode(model:str):\n",
    "    mode = df_mode.loc[df_mode.model == 'Gol', 'mode'].item()\n",
    "    return mode"
   ]
  },
  {
   "cell_type": "code",
   "execution_count": 121,
   "metadata": {},
   "outputs": [
    {
     "name": "stdout",
     "output_type": "stream",
     "text": [
      "Cantidad de nulos: 0\n"
     ]
    }
   ],
   "source": [
    "df.engine_power = df.apply(lambda x: get_mode(x.model) if pd.isna(x.engine_power) else x.engine_power, axis=1)\n",
    "print(f'Cantidad de nulos: {df.engine_power.isna().sum()}')"
   ]
  },
  {
   "cell_type": "code",
   "execution_count": 122,
   "metadata": {},
   "outputs": [],
   "source": [
    "#fig, ax = plt.subplots(nrows=1, ncols=2, figsize=(12,4))\n",
    "#sns.kdeplot(x=var_nan, ax=ax[0])\n",
    "#ax[0].set_title('Distribucion de la variable engine_power con valores sin imputar', fontsize=11)\n",
    "#ax[0].set_xlabel('Caballos de fuerza')\n",
    "\n",
    "#sns.kdeplot(x=df.engine_power, ax=ax[1])\n",
    "#ax[1].set_title('Distribucion de la variable engine_power con valores imputados', fontsize=11)\n",
    "#ax[1].set_xlabel('Caballos de fuerza')\n",
    "#plt.tight_layout()\n",
    "#plt.show()"
   ]
  },
  {
   "cell_type": "code",
   "execution_count": 123,
   "metadata": {},
   "outputs": [],
   "source": [
    "#Se eliminan variables para liberar memoria\n",
    "del df_mode"
   ]
  },
  {
   "cell_type": "markdown",
   "metadata": {},
   "source": [
    "### Variable ***km***"
   ]
  },
  {
   "cell_type": "code",
   "execution_count": 124,
   "metadata": {},
   "outputs": [
    {
     "data": {
      "text/plain": [
       "count     12195.000000\n",
       "mean      86721.969988\n",
       "std       72919.504582\n",
       "min           0.000000\n",
       "25%       14450.000000\n",
       "50%       86000.000000\n",
       "75%      130000.000000\n",
       "max      999999.000000\n",
       "Name: km, dtype: float64"
      ]
     },
     "execution_count": 124,
     "metadata": {},
     "output_type": "execute_result"
    }
   ],
   "source": [
    "df.km = df.km.str.replace('km', '')\n",
    "df.km = df.km.str.strip()\n",
    "df.km = df.km.astype(int)\n",
    "df.km.describe()"
   ]
  },
  {
   "cell_type": "code",
   "execution_count": 125,
   "metadata": {},
   "outputs": [
    {
     "name": "stdout",
     "output_type": "stream",
     "text": [
      "Cantidad de registros mayores de 500.000km: 6\n",
      "Proporcion del total de datos: 0.05%\n"
     ]
    }
   ],
   "source": [
    "count = df.loc[df.km > 500000].shape[0]\n",
    "perc = (count/df.shape[0])*100\n",
    "print(f'Cantidad de registros mayores de 500.000km: {count}')\n",
    "print(f'Proporcion del total de datos: {perc:.2f}%')"
   ]
  },
  {
   "cell_type": "code",
   "execution_count": 126,
   "metadata": {},
   "outputs": [
    {
     "data": {
      "text/plain": [
       "count     12185.000000\n",
       "mean      86177.630529\n",
       "std       70110.723132\n",
       "min           0.000000\n",
       "25%       14000.000000\n",
       "50%       86000.000000\n",
       "75%      130000.000000\n",
       "max      471200.000000\n",
       "Name: km, dtype: float64"
      ]
     },
     "execution_count": 126,
     "metadata": {},
     "output_type": "execute_result"
    }
   ],
   "source": [
    "df = df.loc[df.km < 500000]\n",
    "df.km.describe()"
   ]
  },
  {
   "cell_type": "markdown",
   "metadata": {},
   "source": [
    "### Variable ***fuel_type***"
   ]
  },
  {
   "cell_type": "code",
   "execution_count": 127,
   "metadata": {},
   "outputs": [
    {
     "data": {
      "text/plain": [
       "array(['Nafta', 'Diésel', 'Nafta/GNC', 'Híbrido', 'Eléctrico', 'GNC',\n",
       "       'Híbrido/Nafta'], dtype=object)"
      ]
     },
     "execution_count": 127,
     "metadata": {},
     "output_type": "execute_result"
    }
   ],
   "source": [
    "df.fuel_type.unique()"
   ]
  },
  {
   "cell_type": "code",
   "execution_count": 128,
   "metadata": {},
   "outputs": [
    {
     "data": {
      "text/plain": [
       "array(['Nafta', 'Diésel', 'Nafta/GNC', 'Híbrido', 'Eléctrico'],\n",
       "      dtype=object)"
      ]
     },
     "execution_count": 128,
     "metadata": {},
     "output_type": "execute_result"
    }
   ],
   "source": [
    "df.fuel_type = df.fuel_type.str.replace(r'^GNC$', 'Nafta/GNC', regex=True)\n",
    "df.fuel_type = df.fuel_type.str.replace('Híbrido/Nafta', 'Híbrido')\n",
    "df.fuel_type.unique()"
   ]
  },
  {
   "cell_type": "markdown",
   "metadata": {},
   "source": [
    "### Variable ***traction_control***"
   ]
  },
  {
   "cell_type": "code",
   "execution_count": 129,
   "metadata": {},
   "outputs": [
    {
     "data": {
      "text/plain": [
       "array(['Delantera', None, 'Trasera', '4x2', 'Integral', '4x4'],\n",
       "      dtype=object)"
      ]
     },
     "execution_count": 129,
     "metadata": {},
     "output_type": "execute_result"
    }
   ],
   "source": [
    "df.traction_control.unique()"
   ]
  },
  {
   "cell_type": "code",
   "execution_count": 130,
   "metadata": {},
   "outputs": [
    {
     "name": "stdout",
     "output_type": "stream",
     "text": [
      "Cantidad de valores nulos en la variable: 386\n"
     ]
    }
   ],
   "source": [
    "print(f'Cantidad de valores nulos en la variable: {df.traction_control.isna().sum()}')"
   ]
  },
  {
   "cell_type": "code",
   "execution_count": 131,
   "metadata": {},
   "outputs": [
    {
     "name": "stdout",
     "output_type": "stream",
     "text": [
      "Cantidad de valores nulos en la variable: 0\n"
     ]
    }
   ],
   "source": [
    "df = df.loc[df.traction_control.notna()]\n",
    "print(f'Cantidad de valores nulos en la variable: {df.traction_control.isna().sum()}')"
   ]
  },
  {
   "cell_type": "markdown",
   "metadata": {},
   "source": [
    "### Variable ***passenger_capacity***"
   ]
  },
  {
   "cell_type": "code",
   "execution_count": 132,
   "metadata": {},
   "outputs": [
    {
     "name": "stdout",
     "output_type": "stream",
     "text": [
      "Cantidad de datos nulos en la variable: 542\n"
     ]
    }
   ],
   "source": [
    "print(f'Cantidad de datos nulos en la variable: {df.passenger_capacity.isna().sum()}')"
   ]
  },
  {
   "cell_type": "code",
   "execution_count": 133,
   "metadata": {},
   "outputs": [
    {
     "data": {
      "text/html": [
       "<div>\n",
       "<style scoped>\n",
       "    .dataframe tbody tr th:only-of-type {\n",
       "        vertical-align: middle;\n",
       "    }\n",
       "\n",
       "    .dataframe tbody tr th {\n",
       "        vertical-align: top;\n",
       "    }\n",
       "\n",
       "    .dataframe thead th {\n",
       "        text-align: right;\n",
       "    }\n",
       "</style>\n",
       "<table border=\"1\" class=\"dataframe\">\n",
       "  <thead>\n",
       "    <tr style=\"text-align: right;\">\n",
       "      <th></th>\n",
       "      <th>model</th>\n",
       "      <th>mode</th>\n",
       "    </tr>\n",
       "  </thead>\n",
       "  <tbody>\n",
       "    <tr>\n",
       "      <th>0</th>\n",
       "      <td>2022</td>\n",
       "      <td>5.0</td>\n",
       "    </tr>\n",
       "    <tr>\n",
       "      <th>1</th>\n",
       "      <td>206</td>\n",
       "      <td>5.0</td>\n",
       "    </tr>\n",
       "    <tr>\n",
       "      <th>2</th>\n",
       "      <td>207</td>\n",
       "      <td>5.0</td>\n",
       "    </tr>\n",
       "    <tr>\n",
       "      <th>3</th>\n",
       "      <td>208</td>\n",
       "      <td>5.0</td>\n",
       "    </tr>\n",
       "    <tr>\n",
       "      <th>4</th>\n",
       "      <td>307</td>\n",
       "      <td>5.0</td>\n",
       "    </tr>\n",
       "  </tbody>\n",
       "</table>\n",
       "</div>"
      ],
      "text/plain": [
       "  model  mode\n",
       "0  2022   5.0\n",
       "1   206   5.0\n",
       "2   207   5.0\n",
       "3   208   5.0\n",
       "4   307   5.0"
      ]
     },
     "execution_count": 133,
     "metadata": {},
     "output_type": "execute_result"
    }
   ],
   "source": [
    "df_mode = df.groupby('model')['passenger_capacity'].apply(lambda x: stats.mode(x)[0])\n",
    "df_mode = df_mode.reset_index(name='mode')\n",
    "df_mode.head()"
   ]
  },
  {
   "cell_type": "code",
   "execution_count": 134,
   "metadata": {},
   "outputs": [
    {
     "name": "stdout",
     "output_type": "stream",
     "text": [
      "Cantidad de datos nulos en la variable: 0\n"
     ]
    }
   ],
   "source": [
    "df.loc[df.passenger_capacity.isna(), 'passenger_capacity'] = df.apply(lambda x: get_mode(x.model), axis=1)\n",
    "print(f'Cantidad de datos nulos en la variable: {df.passenger_capacity.isna().sum()}')"
   ]
  },
  {
   "cell_type": "markdown",
   "metadata": {},
   "source": [
    "### Variable ***transmission***"
   ]
  },
  {
   "cell_type": "code",
   "execution_count": 135,
   "metadata": {},
   "outputs": [
    {
     "data": {
      "text/plain": [
       "array(['Manual', 'Automática', None, 'Automática secuencial'],\n",
       "      dtype=object)"
      ]
     },
     "execution_count": 135,
     "metadata": {},
     "output_type": "execute_result"
    }
   ],
   "source": [
    "df.transmission.unique()"
   ]
  },
  {
   "cell_type": "code",
   "execution_count": 136,
   "metadata": {},
   "outputs": [
    {
     "name": "stdout",
     "output_type": "stream",
     "text": [
      "Cantidad de valores nulos en la variable: 8\n"
     ]
    }
   ],
   "source": [
    "print(f'Cantidad de valores nulos en la variable: {df.transmission.isna().sum()}')"
   ]
  },
  {
   "cell_type": "code",
   "execution_count": 137,
   "metadata": {},
   "outputs": [
    {
     "name": "stdout",
     "output_type": "stream",
     "text": [
      "Cantidad de valores nulos en la variable: 0\n"
     ]
    }
   ],
   "source": [
    "df = df.loc[df.transmission.notna()]\n",
    "print(f'Cantidad de valores nulos en la variable: {df.transmission.isna().sum()}')"
   ]
  },
  {
   "cell_type": "markdown",
   "metadata": {},
   "source": [
    "### Variable ***price*** "
   ]
  },
  {
   "cell_type": "markdown",
   "metadata": {},
   "source": [
    "#### Unificacion de valor del automovil en moneda USD"
   ]
  },
  {
   "cell_type": "code",
   "execution_count": 138,
   "metadata": {},
   "outputs": [
    {
     "data": {
      "text/plain": [
       "array(['ARS', 'USD'], dtype=object)"
      ]
     },
     "execution_count": 138,
     "metadata": {},
     "output_type": "execute_result"
    }
   ],
   "source": [
    "df.currency.unique()"
   ]
  },
  {
   "cell_type": "code",
   "execution_count": 139,
   "metadata": {},
   "outputs": [],
   "source": [
    "df.price = df.price.astype(float)\n",
    "df.loc[df.currency == 'ARS', 'price'] = df.price.apply(lambda x: x/1020)"
   ]
  },
  {
   "cell_type": "code",
   "execution_count": 140,
   "metadata": {},
   "outputs": [
    {
     "data": {
      "text/plain": [
       "count     11791.000000\n",
       "mean      14227.321105\n",
       "std       11912.563547\n",
       "min         147.058824\n",
       "25%        6900.000000\n",
       "50%       10784.313725\n",
       "75%       18500.000000\n",
       "max      574509.810784\n",
       "Name: usd_price, dtype: float64"
      ]
     },
     "execution_count": 140,
     "metadata": {},
     "output_type": "execute_result"
    }
   ],
   "source": [
    "df.rename(columns={'price': 'usd_price'}, inplace=True)\n",
    "df.drop(columns='currency', inplace=True)\n",
    "df.usd_price.describe()"
   ]
  },
  {
   "cell_type": "code",
   "execution_count": 141,
   "metadata": {},
   "outputs": [
    {
     "data": {
      "text/html": [
       "<div>\n",
       "<style scoped>\n",
       "    .dataframe tbody tr th:only-of-type {\n",
       "        vertical-align: middle;\n",
       "    }\n",
       "\n",
       "    .dataframe tbody tr th {\n",
       "        vertical-align: top;\n",
       "    }\n",
       "\n",
       "    .dataframe thead th {\n",
       "        text-align: right;\n",
       "    }\n",
       "</style>\n",
       "<table border=\"1\" class=\"dataframe\">\n",
       "  <thead>\n",
       "    <tr style=\"text-align: right;\">\n",
       "      <th></th>\n",
       "      <th>brand</th>\n",
       "      <th>model</th>\n",
       "      <th>usd_price</th>\n",
       "    </tr>\n",
       "  </thead>\n",
       "  <tbody>\n",
       "    <tr>\n",
       "      <th>5644</th>\n",
       "      <td>Peugeot</td>\n",
       "      <td>206</td>\n",
       "      <td>343137.25</td>\n",
       "    </tr>\n",
       "    <tr>\n",
       "      <th>10156</th>\n",
       "      <td>Ford</td>\n",
       "      <td>Ranger</td>\n",
       "      <td>574509.81</td>\n",
       "    </tr>\n",
       "  </tbody>\n",
       "</table>\n",
       "</div>"
      ],
      "text/plain": [
       "         brand   model  usd_price\n",
       "5644   Peugeot     206  343137.25\n",
       "10156     Ford  Ranger  574509.81"
      ]
     },
     "execution_count": 141,
     "metadata": {},
     "output_type": "execute_result"
    }
   ],
   "source": [
    "df.loc[df.usd_price > 90000, ['brand', 'model', 'usd_price']].round(2)"
   ]
  },
  {
   "cell_type": "code",
   "execution_count": 142,
   "metadata": {},
   "outputs": [],
   "source": [
    "df.loc[df.usd_price > 90000, 'usd_price'] = None\n",
    "df.loc[df.usd_price.isna(), 'usd_price'] = df.apply(lambda x: df.loc[df.model==x.model, 'usd_price'].mean(), axis=1)"
   ]
  },
  {
   "cell_type": "code",
   "execution_count": 143,
   "metadata": {},
   "outputs": [
    {
     "name": "stdout",
     "output_type": "stream",
     "text": [
      "Precios mayores a 90.000 USD: 0\n"
     ]
    }
   ],
   "source": [
    "print(f'Precios mayores a 90.000 USD: {df.loc[df.usd_price > 90000].shape[0]}')"
   ]
  },
  {
   "cell_type": "code",
   "execution_count": 144,
   "metadata": {},
   "outputs": [
    {
     "data": {
      "text/plain": [
       "count    11791.000000\n",
       "mean     14153.457303\n",
       "std      10304.012963\n",
       "min        147.058824\n",
       "25%       6900.000000\n",
       "50%      10784.313725\n",
       "75%      18500.000000\n",
       "max      88000.000000\n",
       "Name: usd_price, dtype: float64"
      ]
     },
     "execution_count": 144,
     "metadata": {},
     "output_type": "execute_result"
    }
   ],
   "source": [
    "df.usd_price.describe()"
   ]
  },
  {
   "cell_type": "markdown",
   "metadata": {},
   "source": [
    "### Variable ***seller_state***"
   ]
  },
  {
   "cell_type": "code",
   "execution_count": 145,
   "metadata": {},
   "outputs": [
    {
     "data": {
      "text/plain": [
       "array(['Bs.As. G.B.A. Norte', 'Bs.As. G.B.A. Sur', 'Capital Federal',\n",
       "       'Bs.As. G.B.A. Oeste', 'Buenos Aires Interior',\n",
       "       'Bs.As. Costa Atlántica', 'Córdoba', 'Salta', 'San Luis',\n",
       "       'Entre Ríos', 'Santa Fe', 'Mendoza', 'Corrientes', 'La Pampa',\n",
       "       'Neuquén', 'Misiones', 'Chaco', 'Tucumán', 'Santiago del Estero',\n",
       "       'San Juan', 'Chubut', 'Santa Cruz', 'Río Negro', 'Jujuy',\n",
       "       'Formosa', 'Catamarca', 'Tierra del Fuego', 'La Rioja'],\n",
       "      dtype=object)"
      ]
     },
     "execution_count": 145,
     "metadata": {},
     "output_type": "execute_result"
    }
   ],
   "source": [
    "df.seller_state.unique()"
   ]
  },
  {
   "cell_type": "code",
   "execution_count": 146,
   "metadata": {},
   "outputs": [
    {
     "data": {
      "text/plain": [
       "array(['Buenos Aires', 'Capital Federal', 'Córdoba', 'Salta', 'San Luis',\n",
       "       'Entre Ríos', 'Santa Fe', 'Mendoza', 'Corrientes', 'La Pampa',\n",
       "       'Neuquén', 'Misiones', 'Chaco', 'Tucumán', 'Santiago del Estero',\n",
       "       'San Juan', 'Chubut', 'Santa Cruz', 'Río Negro', 'Jujuy',\n",
       "       'Formosa', 'Catamarca', 'Tierra del Fuego', 'La Rioja'],\n",
       "      dtype=object)"
      ]
     },
     "execution_count": 146,
     "metadata": {},
     "output_type": "execute_result"
    }
   ],
   "source": [
    "df.seller_state = df.seller_state.str.replace(r'.*Bs\\.As.*', 'Buenos Aires', regex=True)\n",
    "df.seller_state = df.seller_state.str.replace('Buenos Aires Interior', 'Buenos Aires')\n",
    "df.seller_state.unique()"
   ]
  },
  {
   "cell_type": "code",
   "execution_count": 147,
   "metadata": {},
   "outputs": [
    {
     "name": "stdout",
     "output_type": "stream",
     "text": [
      "Cantidad de datos nulos en la variable: 0\n"
     ]
    }
   ],
   "source": [
    "print(f'Cantidad de datos nulos en la variable: {df.seller_state.isna().sum()}')"
   ]
  },
  {
   "cell_type": "markdown",
   "metadata": {},
   "source": [
    "### Variables ***latitude*** y ***longitude***"
   ]
  },
  {
   "cell_type": "code",
   "execution_count": 148,
   "metadata": {},
   "outputs": [],
   "source": [
    "def get_location(city, state, country):\n",
    "    geolocator = Nominatim(user_agent='getLocation')\n",
    "    location_string = city + ', ' + state + ', '+ country\n",
    "    location = geolocator.geocode(location_string)\n",
    "    if location is not None:\n",
    "        return location.latitude, location.longitude\n",
    "    else:\n",
    "        return None, None"
   ]
  },
  {
   "cell_type": "code",
   "execution_count": 149,
   "metadata": {},
   "outputs": [
    {
     "data": {
      "text/html": [
       "<div>\n",
       "<style scoped>\n",
       "    .dataframe tbody tr th:only-of-type {\n",
       "        vertical-align: middle;\n",
       "    }\n",
       "\n",
       "    .dataframe tbody tr th {\n",
       "        vertical-align: top;\n",
       "    }\n",
       "\n",
       "    .dataframe thead th {\n",
       "        text-align: right;\n",
       "    }\n",
       "</style>\n",
       "<table border=\"1\" class=\"dataframe\">\n",
       "  <thead>\n",
       "    <tr style=\"text-align: right;\">\n",
       "      <th></th>\n",
       "      <th>seller_country</th>\n",
       "      <th>seller_state</th>\n",
       "      <th>seller_city</th>\n",
       "      <th>count</th>\n",
       "    </tr>\n",
       "  </thead>\n",
       "  <tbody>\n",
       "    <tr>\n",
       "      <th>0</th>\n",
       "      <td>Argentina</td>\n",
       "      <td>Buenos Aires</td>\n",
       "      <td>25 de Mayo</td>\n",
       "      <td>1</td>\n",
       "    </tr>\n",
       "    <tr>\n",
       "      <th>1</th>\n",
       "      <td>Argentina</td>\n",
       "      <td>Buenos Aires</td>\n",
       "      <td>9 de Julio</td>\n",
       "      <td>14</td>\n",
       "    </tr>\n",
       "    <tr>\n",
       "      <th>2</th>\n",
       "      <td>Argentina</td>\n",
       "      <td>Buenos Aires</td>\n",
       "      <td>Adolfo Alsina</td>\n",
       "      <td>1</td>\n",
       "    </tr>\n",
       "    <tr>\n",
       "      <th>3</th>\n",
       "      <td>Argentina</td>\n",
       "      <td>Buenos Aires</td>\n",
       "      <td>Almirante Brown</td>\n",
       "      <td>152</td>\n",
       "    </tr>\n",
       "    <tr>\n",
       "      <th>4</th>\n",
       "      <td>Argentina</td>\n",
       "      <td>Buenos Aires</td>\n",
       "      <td>Arrecifes</td>\n",
       "      <td>14</td>\n",
       "    </tr>\n",
       "  </tbody>\n",
       "</table>\n",
       "</div>"
      ],
      "text/plain": [
       "  seller_country  seller_state      seller_city  count\n",
       "0      Argentina  Buenos Aires       25 de Mayo      1\n",
       "1      Argentina  Buenos Aires       9 de Julio     14\n",
       "2      Argentina  Buenos Aires    Adolfo Alsina      1\n",
       "3      Argentina  Buenos Aires  Almirante Brown    152\n",
       "4      Argentina  Buenos Aires        Arrecifes     14"
      ]
     },
     "execution_count": 149,
     "metadata": {},
     "output_type": "execute_result"
    }
   ],
   "source": [
    "df_location = df.groupby(['seller_country', 'seller_state', 'seller_city'])['seller_city'].size().reset_index(name='count')\n",
    "df_location.head()"
   ]
  },
  {
   "cell_type": "code",
   "execution_count": 150,
   "metadata": {},
   "outputs": [
    {
     "data": {
      "text/html": [
       "<div>\n",
       "<style scoped>\n",
       "    .dataframe tbody tr th:only-of-type {\n",
       "        vertical-align: middle;\n",
       "    }\n",
       "\n",
       "    .dataframe tbody tr th {\n",
       "        vertical-align: top;\n",
       "    }\n",
       "\n",
       "    .dataframe thead th {\n",
       "        text-align: right;\n",
       "    }\n",
       "</style>\n",
       "<table border=\"1\" class=\"dataframe\">\n",
       "  <thead>\n",
       "    <tr style=\"text-align: right;\">\n",
       "      <th></th>\n",
       "      <th>seller_state</th>\n",
       "      <th>seller_city</th>\n",
       "      <th>Latitude</th>\n",
       "      <th>longitude</th>\n",
       "    </tr>\n",
       "  </thead>\n",
       "  <tbody>\n",
       "    <tr>\n",
       "      <th>0</th>\n",
       "      <td>Buenos Aires</td>\n",
       "      <td>25 de Mayo</td>\n",
       "      <td>-38.256220</td>\n",
       "      <td>-57.840369</td>\n",
       "    </tr>\n",
       "    <tr>\n",
       "      <th>1</th>\n",
       "      <td>Buenos Aires</td>\n",
       "      <td>9 de Julio</td>\n",
       "      <td>-35.443920</td>\n",
       "      <td>-60.884584</td>\n",
       "    </tr>\n",
       "    <tr>\n",
       "      <th>2</th>\n",
       "      <td>Buenos Aires</td>\n",
       "      <td>Adolfo Alsina</td>\n",
       "      <td>-34.586319</td>\n",
       "      <td>-58.393838</td>\n",
       "    </tr>\n",
       "    <tr>\n",
       "      <th>3</th>\n",
       "      <td>Buenos Aires</td>\n",
       "      <td>Almirante Brown</td>\n",
       "      <td>-34.579634</td>\n",
       "      <td>-60.967745</td>\n",
       "    </tr>\n",
       "    <tr>\n",
       "      <th>4</th>\n",
       "      <td>Buenos Aires</td>\n",
       "      <td>Arrecifes</td>\n",
       "      <td>-34.067204</td>\n",
       "      <td>-60.102995</td>\n",
       "    </tr>\n",
       "  </tbody>\n",
       "</table>\n",
       "</div>"
      ],
      "text/plain": [
       "   seller_state      seller_city   Latitude  longitude\n",
       "0  Buenos Aires       25 de Mayo -38.256220 -57.840369\n",
       "1  Buenos Aires       9 de Julio -35.443920 -60.884584\n",
       "2  Buenos Aires    Adolfo Alsina -34.586319 -58.393838\n",
       "3  Buenos Aires  Almirante Brown -34.579634 -60.967745\n",
       "4  Buenos Aires        Arrecifes -34.067204 -60.102995"
      ]
     },
     "execution_count": 150,
     "metadata": {},
     "output_type": "execute_result"
    }
   ],
   "source": [
    "df_location[['Latitude', 'longitude']] = df_location.apply(lambda x: pd.Series(get_location(x.seller_city, x.seller_state, x.seller_country)), axis=1)\n",
    "df_location.drop(columns=['seller_country', 'count'], inplace=True)\n",
    "df_location.head()"
   ]
  },
  {
   "cell_type": "code",
   "execution_count": 151,
   "metadata": {},
   "outputs": [
    {
     "name": "stdout",
     "output_type": "stream",
     "text": [
      "<class 'pandas.core.frame.DataFrame'>\n",
      "RangeIndex: 11791 entries, 0 to 11790\n",
      "Data columns (total 26 columns):\n",
      " #   Column               Non-Null Count  Dtype  \n",
      "---  ------               --------------  -----  \n",
      " 0   id                   11791 non-null  object \n",
      " 1   category_id          11791 non-null  object \n",
      " 2   title                11791 non-null  object \n",
      " 3   is_new               11791 non-null  int32  \n",
      " 4   car_year             11791 non-null  int64  \n",
      " 5   brand                11791 non-null  object \n",
      " 6   model                11791 non-null  object \n",
      " 7   version              11791 non-null  object \n",
      " 8   engine               11791 non-null  float64\n",
      " 9   engine_power         11791 non-null  float64\n",
      " 10  doors                11791 non-null  int64  \n",
      " 11  km                   11791 non-null  int32  \n",
      " 12  fuel_type            11791 non-null  object \n",
      " 13  traction_control     11791 non-null  object \n",
      " 14  passenger_capacity   11791 non-null  float64\n",
      " 15  transmission         11791 non-null  object \n",
      " 16  usd_price            11791 non-null  float64\n",
      " 17  seller_id            11791 non-null  int64  \n",
      " 18  seller_nickname      11791 non-null  object \n",
      " 19  is_car_shop          11791 non-null  bool   \n",
      " 20  seller_country       11791 non-null  object \n",
      " 21  seller_state         11791 non-null  object \n",
      " 22  seller_city          11791 non-null  object \n",
      " 23  seller_neighborhood  7342 non-null   object \n",
      " 24  Latitude             11791 non-null  float64\n",
      " 25  longitude            11791 non-null  float64\n",
      "dtypes: bool(1), float64(6), int32(2), int64(3), object(14)\n",
      "memory usage: 2.2+ MB\n"
     ]
    }
   ],
   "source": [
    "df = pd.merge(df, df_location, on=['seller_state', 'seller_city'])\n",
    "df.info()"
   ]
  },
  {
   "cell_type": "markdown",
   "metadata": {},
   "source": [
    "### Variable ***is_car_shop***"
   ]
  },
  {
   "cell_type": "code",
   "execution_count": 152,
   "metadata": {},
   "outputs": [
    {
     "data": {
      "text/plain": [
       "array(['False', 'True'], dtype=object)"
      ]
     },
     "execution_count": 152,
     "metadata": {},
     "output_type": "execute_result"
    }
   ],
   "source": [
    "df.is_car_shop = df.is_car_shop.astype(str)\n",
    "df.is_car_shop.unique()"
   ]
  },
  {
   "cell_type": "code",
   "execution_count": 153,
   "metadata": {},
   "outputs": [],
   "source": [
    "df.is_car_shop = df.is_car_shop.str.replace('False', '0')\n",
    "df.is_car_shop = df.is_car_shop.str.replace('True', '1')\n",
    "df.is_car_shop = df.is_car_shop.astype(int)"
   ]
  },
  {
   "cell_type": "markdown",
   "metadata": {},
   "source": [
    "### Variables a ***eliminar***"
   ]
  },
  {
   "cell_type": "markdown",
   "metadata": {},
   "source": [
    "#### Variable ***category_id***"
   ]
  },
  {
   "cell_type": "code",
   "execution_count": 154,
   "metadata": {},
   "outputs": [
    {
     "data": {
      "text/plain": [
       "array(['MLA1744'], dtype=object)"
      ]
     },
     "execution_count": 154,
     "metadata": {},
     "output_type": "execute_result"
    }
   ],
   "source": [
    "df.category_id.unique()"
   ]
  },
  {
   "cell_type": "code",
   "execution_count": 155,
   "metadata": {},
   "outputs": [],
   "source": [
    "df.drop(columns='category_id', inplace=True)"
   ]
  },
  {
   "cell_type": "markdown",
   "metadata": {},
   "source": [
    "#### Variable ***title***"
   ]
  },
  {
   "cell_type": "code",
   "execution_count": 156,
   "metadata": {},
   "outputs": [],
   "source": [
    "df.drop(columns='title', inplace=True)"
   ]
  },
  {
   "cell_type": "markdown",
   "metadata": {},
   "source": [
    "#### Variables ***seller_id***, ***seller_nickname*** y ***seller_neighborhood***"
   ]
  },
  {
   "cell_type": "code",
   "execution_count": 157,
   "metadata": {},
   "outputs": [],
   "source": [
    "df.drop(columns=['seller_id', 'seller_nickname', 'seller_neighborhood'], inplace=True)"
   ]
  },
  {
   "cell_type": "markdown",
   "metadata": {},
   "source": [
    "### Guardado Provisorio"
   ]
  },
  {
   "cell_type": "code",
   "execution_count": 158,
   "metadata": {},
   "outputs": [],
   "source": [
    "#df.to_csv('publications_clean.csv', index=False)"
   ]
  },
  {
   "cell_type": "code",
   "execution_count": 165,
   "metadata": {},
   "outputs": [
    {
     "name": "stdout",
     "output_type": "stream",
     "text": [
      "<class 'pandas.core.frame.DataFrame'>\n",
      "RangeIndex: 11791 entries, 0 to 11790\n",
      "Data columns (total 21 columns):\n",
      " #   Column              Non-Null Count  Dtype  \n",
      "---  ------              --------------  -----  \n",
      " 0   id                  11791 non-null  object \n",
      " 1   is_new              11791 non-null  int32  \n",
      " 2   car_year            11791 non-null  int64  \n",
      " 3   brand               11791 non-null  object \n",
      " 4   model               11791 non-null  object \n",
      " 5   version             11791 non-null  object \n",
      " 6   engine              11791 non-null  float64\n",
      " 7   engine_power        11791 non-null  float64\n",
      " 8   doors               11791 non-null  int64  \n",
      " 9   km                  11791 non-null  int32  \n",
      " 10  fuel_type           11791 non-null  object \n",
      " 11  traction_control    11791 non-null  object \n",
      " 12  passenger_capacity  11791 non-null  float64\n",
      " 13  transmission        11791 non-null  object \n",
      " 14  usd_price           11791 non-null  float64\n",
      " 15  is_car_shop         11791 non-null  int32  \n",
      " 16  seller_country      11791 non-null  object \n",
      " 17  seller_state        11791 non-null  object \n",
      " 18  seller_city         11791 non-null  object \n",
      " 19  Latitude            11791 non-null  float64\n",
      " 20  longitude           11791 non-null  float64\n",
      "dtypes: float64(6), int32(3), int64(2), object(10)\n",
      "memory usage: 1.8+ MB\n"
     ]
    }
   ],
   "source": [
    "df.info()"
   ]
  },
  {
   "cell_type": "markdown",
   "metadata": {},
   "source": [
    "### Tratamiento de variables ***cualitativas***"
   ]
  },
  {
   "cell_type": "code",
   "execution_count": 159,
   "metadata": {},
   "outputs": [
    {
     "name": "stdout",
     "output_type": "stream",
     "text": [
      "brand: 8 valores unicos\n",
      "model: 49 valores unicos\n",
      "version: 1778 valores unicos\n",
      "fuel_type: 5 valores unicos\n",
      "traction_control: 5 valores unicos\n",
      "transmission: 3 valores unicos\n",
      "seller_country: 1 valores unicos\n",
      "seller_state: 24 valores unicos\n",
      "seller_city: 246 valores unicos\n"
     ]
    }
   ],
   "source": [
    "cat_var = [col for col in df.columns if (col != 'id') and (df[col].dtype == 'object')]\n",
    "\n",
    "for var in cat_var:\n",
    "    print(f'{var}: {df[var].nunique()} valores unicos')"
   ]
  },
  {
   "cell_type": "code",
   "execution_count": 160,
   "metadata": {},
   "outputs": [],
   "source": [
    "from sklearn.decomposition import PCA\n",
    "from sklearn.preprocessing import StandardScaler\n",
    "from sklearn.preprocessing import LabelEncoder"
   ]
  },
  {
   "cell_type": "code",
   "execution_count": 161,
   "metadata": {},
   "outputs": [
    {
     "data": {
      "text/html": [
       "<div>\n",
       "<style scoped>\n",
       "    .dataframe tbody tr th:only-of-type {\n",
       "        vertical-align: middle;\n",
       "    }\n",
       "\n",
       "    .dataframe tbody tr th {\n",
       "        vertical-align: top;\n",
       "    }\n",
       "\n",
       "    .dataframe thead th {\n",
       "        text-align: right;\n",
       "    }\n",
       "</style>\n",
       "<table border=\"1\" class=\"dataframe\">\n",
       "  <thead>\n",
       "    <tr style=\"text-align: right;\">\n",
       "      <th></th>\n",
       "      <th>brand</th>\n",
       "      <th>model</th>\n",
       "    </tr>\n",
       "  </thead>\n",
       "  <tbody>\n",
       "    <tr>\n",
       "      <th>0</th>\n",
       "      <td>7</td>\n",
       "      <td>28</td>\n",
       "    </tr>\n",
       "    <tr>\n",
       "      <th>1</th>\n",
       "      <td>7</td>\n",
       "      <td>28</td>\n",
       "    </tr>\n",
       "    <tr>\n",
       "      <th>2</th>\n",
       "      <td>7</td>\n",
       "      <td>28</td>\n",
       "    </tr>\n",
       "    <tr>\n",
       "      <th>3</th>\n",
       "      <td>7</td>\n",
       "      <td>28</td>\n",
       "    </tr>\n",
       "    <tr>\n",
       "      <th>4</th>\n",
       "      <td>7</td>\n",
       "      <td>28</td>\n",
       "    </tr>\n",
       "  </tbody>\n",
       "</table>\n",
       "</div>"
      ],
      "text/plain": [
       "   brand  model\n",
       "0      7     28\n",
       "1      7     28\n",
       "2      7     28\n",
       "3      7     28\n",
       "4      7     28"
      ]
     },
     "execution_count": 161,
     "metadata": {},
     "output_type": "execute_result"
    }
   ],
   "source": [
    "test = df[['brand', 'model']].copy()\n",
    "encoder = LabelEncoder()\n",
    "\n",
    "test.brand = pd.DataFrame(encoder.fit_transform(test.brand))\n",
    "test.model = pd.DataFrame(encoder.fit_transform(test.model))\n",
    "test.head()"
   ]
  },
  {
   "cell_type": "code",
   "execution_count": 162,
   "metadata": {},
   "outputs": [
    {
     "data": {
      "text/html": [
       "<div>\n",
       "<style scoped>\n",
       "    .dataframe tbody tr th:only-of-type {\n",
       "        vertical-align: middle;\n",
       "    }\n",
       "\n",
       "    .dataframe tbody tr th {\n",
       "        vertical-align: top;\n",
       "    }\n",
       "\n",
       "    .dataframe thead th {\n",
       "        text-align: right;\n",
       "    }\n",
       "</style>\n",
       "<table border=\"1\" class=\"dataframe\">\n",
       "  <thead>\n",
       "    <tr style=\"text-align: right;\">\n",
       "      <th></th>\n",
       "      <th>brand</th>\n",
       "      <th>model</th>\n",
       "    </tr>\n",
       "  </thead>\n",
       "  <tbody>\n",
       "    <tr>\n",
       "      <th>0</th>\n",
       "      <td>1.404833</td>\n",
       "      <td>0.234026</td>\n",
       "    </tr>\n",
       "    <tr>\n",
       "      <th>1</th>\n",
       "      <td>1.404833</td>\n",
       "      <td>0.234026</td>\n",
       "    </tr>\n",
       "    <tr>\n",
       "      <th>2</th>\n",
       "      <td>1.404833</td>\n",
       "      <td>0.234026</td>\n",
       "    </tr>\n",
       "    <tr>\n",
       "      <th>3</th>\n",
       "      <td>1.404833</td>\n",
       "      <td>0.234026</td>\n",
       "    </tr>\n",
       "    <tr>\n",
       "      <th>4</th>\n",
       "      <td>1.404833</td>\n",
       "      <td>0.234026</td>\n",
       "    </tr>\n",
       "  </tbody>\n",
       "</table>\n",
       "</div>"
      ],
      "text/plain": [
       "      brand     model\n",
       "0  1.404833  0.234026\n",
       "1  1.404833  0.234026\n",
       "2  1.404833  0.234026\n",
       "3  1.404833  0.234026\n",
       "4  1.404833  0.234026"
      ]
     },
     "execution_count": 162,
     "metadata": {},
     "output_type": "execute_result"
    }
   ],
   "source": [
    "scaler = StandardScaler()\n",
    "norm = pd.DataFrame(scaler.fit_transform(test), columns=test.columns)\n",
    "norm.head()"
   ]
  },
  {
   "cell_type": "code",
   "execution_count": 163,
   "metadata": {},
   "outputs": [
    {
     "data": {
      "text/plain": [
       "array([[-0.82788546,  1.15884789],\n",
       "       [-0.82788546,  1.15884789],\n",
       "       [-0.82788546,  1.15884789],\n",
       "       ...,\n",
       "       [-0.3428918 , -0.63468904],\n",
       "       [-0.3428918 , -0.63468904],\n",
       "       [-0.3428918 , -0.63468904]])"
      ]
     },
     "execution_count": 163,
     "metadata": {},
     "output_type": "execute_result"
    }
   ],
   "source": [
    "pca = PCA()\n",
    "datos = pca.fit_transform(norm)\n",
    "datos"
   ]
  },
  {
   "cell_type": "code",
   "execution_count": 164,
   "metadata": {},
   "outputs": [
    {
     "name": "stdout",
     "output_type": "stream",
     "text": [
      "Varianza explicada por cada componente: [1.05271088 0.94745876]\n",
      "Proporción de varianza explicada por cada componente: [0.5263108 0.4736892]\n"
     ]
    }
   ],
   "source": [
    "print(\"Varianza explicada por cada componente:\", pca.explained_variance_)\n",
    "print(\"Proporción de varianza explicada por cada componente:\", pca.explained_variance_ratio_)"
   ]
  }
 ],
 "metadata": {
  "kernelspec": {
   "display_name": "Python 3",
   "language": "python",
   "name": "python3"
  },
  "language_info": {
   "codemirror_mode": {
    "name": "ipython",
    "version": 3
   },
   "file_extension": ".py",
   "mimetype": "text/x-python",
   "name": "python",
   "nbconvert_exporter": "python",
   "pygments_lexer": "ipython3",
   "version": "3.12.2"
  }
 },
 "nbformat": 4,
 "nbformat_minor": 2
}
